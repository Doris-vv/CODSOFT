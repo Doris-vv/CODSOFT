{
 "cells": [
  {
   "cell_type": "markdown",
   "id": "abae7fd6-e250-4046-a237-9d3f1dd052c5",
   "metadata": {},
   "source": [
    "# Credit Card Fraud Detection Predictive Models\n",
    "#### This dataset presents transactions that occurred in two days, where we have 492 frauds out of 284,807 transactions. The dataset is highly unbalanced, the positive class (frauds) account for 0.172% of all transactions It is important that credit card companies are able to recognize fraudulent credit card transactions so that customers are not charged for items that they did not purchase. So in this project, we will Build a machine learning model to identify fraudulent credit card transactions."
   ]
  },
  {
   "cell_type": "code",
   "execution_count": 1,
   "id": "fb0fcaf0-f20e-44fc-ad24-98e4a8bbe0bb",
   "metadata": {},
   "outputs": [
    {
     "data": {
      "text/html": [
       "        <script type=\"text/javascript\">\n",
       "        window.PlotlyConfig = {MathJaxConfig: 'local'};\n",
       "        if (window.MathJax && window.MathJax.Hub && window.MathJax.Hub.Config) {window.MathJax.Hub.Config({SVG: {font: \"STIX-Web\"}});}\n",
       "        if (typeof require !== 'undefined') {\n",
       "        require.undef(\"plotly\");\n",
       "        requirejs.config({\n",
       "            paths: {\n",
       "                'plotly': ['https://cdn.plot.ly/plotly-2.12.1.min']\n",
       "            }\n",
       "        });\n",
       "        require(['plotly'], function(Plotly) {\n",
       "            window._Plotly = Plotly;\n",
       "        });\n",
       "        }\n",
       "        </script>\n",
       "        "
      ]
     },
     "metadata": {},
     "output_type": "display_data"
    }
   ],
   "source": [
    "import pandas as pd \n",
    "import numpy as np\n",
    "import matplotlib\n",
    "import matplotlib.pyplot as plt\n",
    "import plotly.express as px\n",
    "import seaborn as sns\n",
    "%matplotlib inline \n",
    "import plotly.graph_objs as go\n",
    "import plotly.figure_factory as ff\n",
    "from plotly import tools\n",
    "from plotly.offline import download_plotlyjs, init_notebook_mode, plot, iplot\n",
    "init_notebook_mode(connected=True)\n",
    "\n",
    "from sklearn.model_selection import train_test_split\n",
    "from sklearn.metrics import roc_auc_score\n",
    "from sklearn.metrics import classification_report, accuracy_score\n",
    "from sklearn.linear_model import LogisticRegression\n",
    "from sklearn.ensemble import RandomForestClassifier\n",
    "from sklearn.tree import DecisionTreeClassifier\n",
    "\n",
    "pd.set_option('display.max_columns', 100)"
   ]
  },
  {
   "cell_type": "code",
   "execution_count": 2,
   "id": "44cec39a-bbf8-4350-8044-a80b4f093f9d",
   "metadata": {},
   "outputs": [
    {
     "data": {
      "text/html": [
       "<div>\n",
       "<style scoped>\n",
       "    .dataframe tbody tr th:only-of-type {\n",
       "        vertical-align: middle;\n",
       "    }\n",
       "\n",
       "    .dataframe tbody tr th {\n",
       "        vertical-align: top;\n",
       "    }\n",
       "\n",
       "    .dataframe thead th {\n",
       "        text-align: right;\n",
       "    }\n",
       "</style>\n",
       "<table border=\"1\" class=\"dataframe\">\n",
       "  <thead>\n",
       "    <tr style=\"text-align: right;\">\n",
       "      <th></th>\n",
       "      <th>Time</th>\n",
       "      <th>V1</th>\n",
       "      <th>V2</th>\n",
       "      <th>V3</th>\n",
       "      <th>V4</th>\n",
       "      <th>V5</th>\n",
       "      <th>V6</th>\n",
       "      <th>V7</th>\n",
       "      <th>V8</th>\n",
       "      <th>V9</th>\n",
       "      <th>V10</th>\n",
       "      <th>V11</th>\n",
       "      <th>V12</th>\n",
       "      <th>V13</th>\n",
       "      <th>V14</th>\n",
       "      <th>V15</th>\n",
       "      <th>V16</th>\n",
       "      <th>V17</th>\n",
       "      <th>V18</th>\n",
       "      <th>V19</th>\n",
       "      <th>V20</th>\n",
       "      <th>V21</th>\n",
       "      <th>V22</th>\n",
       "      <th>V23</th>\n",
       "      <th>V24</th>\n",
       "      <th>V25</th>\n",
       "      <th>V26</th>\n",
       "      <th>V27</th>\n",
       "      <th>V28</th>\n",
       "      <th>Amount</th>\n",
       "      <th>Class</th>\n",
       "    </tr>\n",
       "  </thead>\n",
       "  <tbody>\n",
       "    <tr>\n",
       "      <th>0</th>\n",
       "      <td>0.0</td>\n",
       "      <td>-1.359807</td>\n",
       "      <td>-0.072781</td>\n",
       "      <td>2.536347</td>\n",
       "      <td>1.378155</td>\n",
       "      <td>-0.338321</td>\n",
       "      <td>0.462388</td>\n",
       "      <td>0.239599</td>\n",
       "      <td>0.098698</td>\n",
       "      <td>0.363787</td>\n",
       "      <td>0.090794</td>\n",
       "      <td>-0.551600</td>\n",
       "      <td>-0.617801</td>\n",
       "      <td>-0.991390</td>\n",
       "      <td>-0.311169</td>\n",
       "      <td>1.468177</td>\n",
       "      <td>-0.470401</td>\n",
       "      <td>0.207971</td>\n",
       "      <td>0.025791</td>\n",
       "      <td>0.403993</td>\n",
       "      <td>0.251412</td>\n",
       "      <td>-0.018307</td>\n",
       "      <td>0.277838</td>\n",
       "      <td>-0.110474</td>\n",
       "      <td>0.066928</td>\n",
       "      <td>0.128539</td>\n",
       "      <td>-0.189115</td>\n",
       "      <td>0.133558</td>\n",
       "      <td>-0.021053</td>\n",
       "      <td>149.62</td>\n",
       "      <td>0</td>\n",
       "    </tr>\n",
       "    <tr>\n",
       "      <th>1</th>\n",
       "      <td>0.0</td>\n",
       "      <td>1.191857</td>\n",
       "      <td>0.266151</td>\n",
       "      <td>0.166480</td>\n",
       "      <td>0.448154</td>\n",
       "      <td>0.060018</td>\n",
       "      <td>-0.082361</td>\n",
       "      <td>-0.078803</td>\n",
       "      <td>0.085102</td>\n",
       "      <td>-0.255425</td>\n",
       "      <td>-0.166974</td>\n",
       "      <td>1.612727</td>\n",
       "      <td>1.065235</td>\n",
       "      <td>0.489095</td>\n",
       "      <td>-0.143772</td>\n",
       "      <td>0.635558</td>\n",
       "      <td>0.463917</td>\n",
       "      <td>-0.114805</td>\n",
       "      <td>-0.183361</td>\n",
       "      <td>-0.145783</td>\n",
       "      <td>-0.069083</td>\n",
       "      <td>-0.225775</td>\n",
       "      <td>-0.638672</td>\n",
       "      <td>0.101288</td>\n",
       "      <td>-0.339846</td>\n",
       "      <td>0.167170</td>\n",
       "      <td>0.125895</td>\n",
       "      <td>-0.008983</td>\n",
       "      <td>0.014724</td>\n",
       "      <td>2.69</td>\n",
       "      <td>0</td>\n",
       "    </tr>\n",
       "    <tr>\n",
       "      <th>2</th>\n",
       "      <td>1.0</td>\n",
       "      <td>-1.358354</td>\n",
       "      <td>-1.340163</td>\n",
       "      <td>1.773209</td>\n",
       "      <td>0.379780</td>\n",
       "      <td>-0.503198</td>\n",
       "      <td>1.800499</td>\n",
       "      <td>0.791461</td>\n",
       "      <td>0.247676</td>\n",
       "      <td>-1.514654</td>\n",
       "      <td>0.207643</td>\n",
       "      <td>0.624501</td>\n",
       "      <td>0.066084</td>\n",
       "      <td>0.717293</td>\n",
       "      <td>-0.165946</td>\n",
       "      <td>2.345865</td>\n",
       "      <td>-2.890083</td>\n",
       "      <td>1.109969</td>\n",
       "      <td>-0.121359</td>\n",
       "      <td>-2.261857</td>\n",
       "      <td>0.524980</td>\n",
       "      <td>0.247998</td>\n",
       "      <td>0.771679</td>\n",
       "      <td>0.909412</td>\n",
       "      <td>-0.689281</td>\n",
       "      <td>-0.327642</td>\n",
       "      <td>-0.139097</td>\n",
       "      <td>-0.055353</td>\n",
       "      <td>-0.059752</td>\n",
       "      <td>378.66</td>\n",
       "      <td>0</td>\n",
       "    </tr>\n",
       "    <tr>\n",
       "      <th>3</th>\n",
       "      <td>1.0</td>\n",
       "      <td>-0.966272</td>\n",
       "      <td>-0.185226</td>\n",
       "      <td>1.792993</td>\n",
       "      <td>-0.863291</td>\n",
       "      <td>-0.010309</td>\n",
       "      <td>1.247203</td>\n",
       "      <td>0.237609</td>\n",
       "      <td>0.377436</td>\n",
       "      <td>-1.387024</td>\n",
       "      <td>-0.054952</td>\n",
       "      <td>-0.226487</td>\n",
       "      <td>0.178228</td>\n",
       "      <td>0.507757</td>\n",
       "      <td>-0.287924</td>\n",
       "      <td>-0.631418</td>\n",
       "      <td>-1.059647</td>\n",
       "      <td>-0.684093</td>\n",
       "      <td>1.965775</td>\n",
       "      <td>-1.232622</td>\n",
       "      <td>-0.208038</td>\n",
       "      <td>-0.108300</td>\n",
       "      <td>0.005274</td>\n",
       "      <td>-0.190321</td>\n",
       "      <td>-1.175575</td>\n",
       "      <td>0.647376</td>\n",
       "      <td>-0.221929</td>\n",
       "      <td>0.062723</td>\n",
       "      <td>0.061458</td>\n",
       "      <td>123.50</td>\n",
       "      <td>0</td>\n",
       "    </tr>\n",
       "    <tr>\n",
       "      <th>4</th>\n",
       "      <td>2.0</td>\n",
       "      <td>-1.158233</td>\n",
       "      <td>0.877737</td>\n",
       "      <td>1.548718</td>\n",
       "      <td>0.403034</td>\n",
       "      <td>-0.407193</td>\n",
       "      <td>0.095921</td>\n",
       "      <td>0.592941</td>\n",
       "      <td>-0.270533</td>\n",
       "      <td>0.817739</td>\n",
       "      <td>0.753074</td>\n",
       "      <td>-0.822843</td>\n",
       "      <td>0.538196</td>\n",
       "      <td>1.345852</td>\n",
       "      <td>-1.119670</td>\n",
       "      <td>0.175121</td>\n",
       "      <td>-0.451449</td>\n",
       "      <td>-0.237033</td>\n",
       "      <td>-0.038195</td>\n",
       "      <td>0.803487</td>\n",
       "      <td>0.408542</td>\n",
       "      <td>-0.009431</td>\n",
       "      <td>0.798278</td>\n",
       "      <td>-0.137458</td>\n",
       "      <td>0.141267</td>\n",
       "      <td>-0.206010</td>\n",
       "      <td>0.502292</td>\n",
       "      <td>0.219422</td>\n",
       "      <td>0.215153</td>\n",
       "      <td>69.99</td>\n",
       "      <td>0</td>\n",
       "    </tr>\n",
       "  </tbody>\n",
       "</table>\n",
       "</div>"
      ],
      "text/plain": [
       "   Time        V1        V2        V3        V4        V5        V6        V7  \\\n",
       "0   0.0 -1.359807 -0.072781  2.536347  1.378155 -0.338321  0.462388  0.239599   \n",
       "1   0.0  1.191857  0.266151  0.166480  0.448154  0.060018 -0.082361 -0.078803   \n",
       "2   1.0 -1.358354 -1.340163  1.773209  0.379780 -0.503198  1.800499  0.791461   \n",
       "3   1.0 -0.966272 -0.185226  1.792993 -0.863291 -0.010309  1.247203  0.237609   \n",
       "4   2.0 -1.158233  0.877737  1.548718  0.403034 -0.407193  0.095921  0.592941   \n",
       "\n",
       "         V8        V9       V10       V11       V12       V13       V14  \\\n",
       "0  0.098698  0.363787  0.090794 -0.551600 -0.617801 -0.991390 -0.311169   \n",
       "1  0.085102 -0.255425 -0.166974  1.612727  1.065235  0.489095 -0.143772   \n",
       "2  0.247676 -1.514654  0.207643  0.624501  0.066084  0.717293 -0.165946   \n",
       "3  0.377436 -1.387024 -0.054952 -0.226487  0.178228  0.507757 -0.287924   \n",
       "4 -0.270533  0.817739  0.753074 -0.822843  0.538196  1.345852 -1.119670   \n",
       "\n",
       "        V15       V16       V17       V18       V19       V20       V21  \\\n",
       "0  1.468177 -0.470401  0.207971  0.025791  0.403993  0.251412 -0.018307   \n",
       "1  0.635558  0.463917 -0.114805 -0.183361 -0.145783 -0.069083 -0.225775   \n",
       "2  2.345865 -2.890083  1.109969 -0.121359 -2.261857  0.524980  0.247998   \n",
       "3 -0.631418 -1.059647 -0.684093  1.965775 -1.232622 -0.208038 -0.108300   \n",
       "4  0.175121 -0.451449 -0.237033 -0.038195  0.803487  0.408542 -0.009431   \n",
       "\n",
       "        V22       V23       V24       V25       V26       V27       V28  \\\n",
       "0  0.277838 -0.110474  0.066928  0.128539 -0.189115  0.133558 -0.021053   \n",
       "1 -0.638672  0.101288 -0.339846  0.167170  0.125895 -0.008983  0.014724   \n",
       "2  0.771679  0.909412 -0.689281 -0.327642 -0.139097 -0.055353 -0.059752   \n",
       "3  0.005274 -0.190321 -1.175575  0.647376 -0.221929  0.062723  0.061458   \n",
       "4  0.798278 -0.137458  0.141267 -0.206010  0.502292  0.219422  0.215153   \n",
       "\n",
       "   Amount  Class  \n",
       "0  149.62      0  \n",
       "1    2.69      0  \n",
       "2  378.66      0  \n",
       "3  123.50      0  \n",
       "4   69.99      0  "
      ]
     },
     "execution_count": 2,
     "metadata": {},
     "output_type": "execute_result"
    }
   ],
   "source": [
    "# Read the data\n",
    "\n",
    "raw_df = pd.read_csv('C:/Users/apple/Desktop/study/project/codsoft/creditcard.csv')\n",
    "raw_df.head()"
   ]
  },
  {
   "cell_type": "markdown",
   "id": "73eb418e-0663-4406-a070-6177c7d92f86",
   "metadata": {},
   "source": [
    "#### The dataset consists of 28 anonymized variables, 1 \"amount\" variable, 1 \"time\" variable and 1 target variable - Class. "
   ]
  },
  {
   "cell_type": "markdown",
   "id": "f8349afb-fc82-4bbb-b378-d0f8e45e3156",
   "metadata": {},
   "source": [
    "###  Data imbalance check"
   ]
  },
  {
   "cell_type": "code",
   "execution_count": 3,
   "id": "dfd76317-6da3-4928-8b6f-432f661963e4",
   "metadata": {},
   "outputs": [
    {
     "data": {
      "text/html": [
       "<div>\n",
       "<style scoped>\n",
       "    .dataframe tbody tr th:only-of-type {\n",
       "        vertical-align: middle;\n",
       "    }\n",
       "\n",
       "    .dataframe tbody tr th {\n",
       "        vertical-align: top;\n",
       "    }\n",
       "\n",
       "    .dataframe thead th {\n",
       "        text-align: right;\n",
       "    }\n",
       "</style>\n",
       "<table border=\"1\" class=\"dataframe\">\n",
       "  <thead>\n",
       "    <tr style=\"text-align: right;\">\n",
       "      <th></th>\n",
       "      <th>Class</th>\n",
       "      <th>count</th>\n",
       "      <th>percent</th>\n",
       "    </tr>\n",
       "  </thead>\n",
       "  <tbody>\n",
       "    <tr>\n",
       "      <th>0</th>\n",
       "      <td>0</td>\n",
       "      <td>284315</td>\n",
       "      <td>99.83</td>\n",
       "    </tr>\n",
       "    <tr>\n",
       "      <th>1</th>\n",
       "      <td>1</td>\n",
       "      <td>492</td>\n",
       "      <td>0.17</td>\n",
       "    </tr>\n",
       "  </tbody>\n",
       "</table>\n",
       "</div>"
      ],
      "text/plain": [
       "   Class   count  percent\n",
       "0      0  284315    99.83\n",
       "1      1     492     0.17"
      ]
     },
     "execution_count": 3,
     "metadata": {},
     "output_type": "execute_result"
    }
   ],
   "source": [
    "# Let's look at the distribution of target.\n",
    "\n",
    "vc = raw_df['Class'].value_counts().to_frame().reset_index()\n",
    "vc['percent'] = vc[\"count\"].apply(lambda x : round(100*float(x) / len(raw_df), 2))\n",
    "vc"
   ]
  },
  {
   "cell_type": "code",
   "execution_count": 4,
   "id": "284c4774-f0c2-4b6c-9fd3-53fa9d9b40ce",
   "metadata": {},
   "outputs": [
    {
     "data": {
      "application/vnd.plotly.v1+json": {
       "config": {
        "plotlyServerURL": "https://plot.ly"
       },
       "data": [
        {
         "domain": {
          "x": [
           0,
           1
          ],
          "y": [
           0,
           1
          ]
         },
         "hovertemplate": "label=%{label}<br>value=%{value}<extra></extra>",
         "labels": [
          "Not Fraud",
          "Fraud"
         ],
         "legendgroup": "",
         "name": "",
         "showlegend": true,
         "type": "pie",
         "values": [
          99.83,
          0.17
         ]
        }
       ],
       "layout": {
        "height": 400,
        "legend": {
         "tracegroupgap": 0
        },
        "piecolorway": [
         "skyblue",
         "black"
        ],
        "template": {
         "data": {
          "bar": [
           {
            "error_x": {
             "color": "#2a3f5f"
            },
            "error_y": {
             "color": "#2a3f5f"
            },
            "marker": {
             "line": {
              "color": "#E5ECF6",
              "width": 0.5
             },
             "pattern": {
              "fillmode": "overlay",
              "size": 10,
              "solidity": 0.2
             }
            },
            "type": "bar"
           }
          ],
          "barpolar": [
           {
            "marker": {
             "line": {
              "color": "#E5ECF6",
              "width": 0.5
             },
             "pattern": {
              "fillmode": "overlay",
              "size": 10,
              "solidity": 0.2
             }
            },
            "type": "barpolar"
           }
          ],
          "carpet": [
           {
            "aaxis": {
             "endlinecolor": "#2a3f5f",
             "gridcolor": "white",
             "linecolor": "white",
             "minorgridcolor": "white",
             "startlinecolor": "#2a3f5f"
            },
            "baxis": {
             "endlinecolor": "#2a3f5f",
             "gridcolor": "white",
             "linecolor": "white",
             "minorgridcolor": "white",
             "startlinecolor": "#2a3f5f"
            },
            "type": "carpet"
           }
          ],
          "choropleth": [
           {
            "colorbar": {
             "outlinewidth": 0,
             "ticks": ""
            },
            "type": "choropleth"
           }
          ],
          "contour": [
           {
            "colorbar": {
             "outlinewidth": 0,
             "ticks": ""
            },
            "colorscale": [
             [
              0,
              "#0d0887"
             ],
             [
              0.1111111111111111,
              "#46039f"
             ],
             [
              0.2222222222222222,
              "#7201a8"
             ],
             [
              0.3333333333333333,
              "#9c179e"
             ],
             [
              0.4444444444444444,
              "#bd3786"
             ],
             [
              0.5555555555555556,
              "#d8576b"
             ],
             [
              0.6666666666666666,
              "#ed7953"
             ],
             [
              0.7777777777777778,
              "#fb9f3a"
             ],
             [
              0.8888888888888888,
              "#fdca26"
             ],
             [
              1,
              "#f0f921"
             ]
            ],
            "type": "contour"
           }
          ],
          "contourcarpet": [
           {
            "colorbar": {
             "outlinewidth": 0,
             "ticks": ""
            },
            "type": "contourcarpet"
           }
          ],
          "heatmap": [
           {
            "colorbar": {
             "outlinewidth": 0,
             "ticks": ""
            },
            "colorscale": [
             [
              0,
              "#0d0887"
             ],
             [
              0.1111111111111111,
              "#46039f"
             ],
             [
              0.2222222222222222,
              "#7201a8"
             ],
             [
              0.3333333333333333,
              "#9c179e"
             ],
             [
              0.4444444444444444,
              "#bd3786"
             ],
             [
              0.5555555555555556,
              "#d8576b"
             ],
             [
              0.6666666666666666,
              "#ed7953"
             ],
             [
              0.7777777777777778,
              "#fb9f3a"
             ],
             [
              0.8888888888888888,
              "#fdca26"
             ],
             [
              1,
              "#f0f921"
             ]
            ],
            "type": "heatmap"
           }
          ],
          "heatmapgl": [
           {
            "colorbar": {
             "outlinewidth": 0,
             "ticks": ""
            },
            "colorscale": [
             [
              0,
              "#0d0887"
             ],
             [
              0.1111111111111111,
              "#46039f"
             ],
             [
              0.2222222222222222,
              "#7201a8"
             ],
             [
              0.3333333333333333,
              "#9c179e"
             ],
             [
              0.4444444444444444,
              "#bd3786"
             ],
             [
              0.5555555555555556,
              "#d8576b"
             ],
             [
              0.6666666666666666,
              "#ed7953"
             ],
             [
              0.7777777777777778,
              "#fb9f3a"
             ],
             [
              0.8888888888888888,
              "#fdca26"
             ],
             [
              1,
              "#f0f921"
             ]
            ],
            "type": "heatmapgl"
           }
          ],
          "histogram": [
           {
            "marker": {
             "pattern": {
              "fillmode": "overlay",
              "size": 10,
              "solidity": 0.2
             }
            },
            "type": "histogram"
           }
          ],
          "histogram2d": [
           {
            "colorbar": {
             "outlinewidth": 0,
             "ticks": ""
            },
            "colorscale": [
             [
              0,
              "#0d0887"
             ],
             [
              0.1111111111111111,
              "#46039f"
             ],
             [
              0.2222222222222222,
              "#7201a8"
             ],
             [
              0.3333333333333333,
              "#9c179e"
             ],
             [
              0.4444444444444444,
              "#bd3786"
             ],
             [
              0.5555555555555556,
              "#d8576b"
             ],
             [
              0.6666666666666666,
              "#ed7953"
             ],
             [
              0.7777777777777778,
              "#fb9f3a"
             ],
             [
              0.8888888888888888,
              "#fdca26"
             ],
             [
              1,
              "#f0f921"
             ]
            ],
            "type": "histogram2d"
           }
          ],
          "histogram2dcontour": [
           {
            "colorbar": {
             "outlinewidth": 0,
             "ticks": ""
            },
            "colorscale": [
             [
              0,
              "#0d0887"
             ],
             [
              0.1111111111111111,
              "#46039f"
             ],
             [
              0.2222222222222222,
              "#7201a8"
             ],
             [
              0.3333333333333333,
              "#9c179e"
             ],
             [
              0.4444444444444444,
              "#bd3786"
             ],
             [
              0.5555555555555556,
              "#d8576b"
             ],
             [
              0.6666666666666666,
              "#ed7953"
             ],
             [
              0.7777777777777778,
              "#fb9f3a"
             ],
             [
              0.8888888888888888,
              "#fdca26"
             ],
             [
              1,
              "#f0f921"
             ]
            ],
            "type": "histogram2dcontour"
           }
          ],
          "mesh3d": [
           {
            "colorbar": {
             "outlinewidth": 0,
             "ticks": ""
            },
            "type": "mesh3d"
           }
          ],
          "parcoords": [
           {
            "line": {
             "colorbar": {
              "outlinewidth": 0,
              "ticks": ""
             }
            },
            "type": "parcoords"
           }
          ],
          "pie": [
           {
            "automargin": true,
            "type": "pie"
           }
          ],
          "scatter": [
           {
            "fillpattern": {
             "fillmode": "overlay",
             "size": 10,
             "solidity": 0.2
            },
            "type": "scatter"
           }
          ],
          "scatter3d": [
           {
            "line": {
             "colorbar": {
              "outlinewidth": 0,
              "ticks": ""
             }
            },
            "marker": {
             "colorbar": {
              "outlinewidth": 0,
              "ticks": ""
             }
            },
            "type": "scatter3d"
           }
          ],
          "scattercarpet": [
           {
            "marker": {
             "colorbar": {
              "outlinewidth": 0,
              "ticks": ""
             }
            },
            "type": "scattercarpet"
           }
          ],
          "scattergeo": [
           {
            "marker": {
             "colorbar": {
              "outlinewidth": 0,
              "ticks": ""
             }
            },
            "type": "scattergeo"
           }
          ],
          "scattergl": [
           {
            "marker": {
             "colorbar": {
              "outlinewidth": 0,
              "ticks": ""
             }
            },
            "type": "scattergl"
           }
          ],
          "scattermapbox": [
           {
            "marker": {
             "colorbar": {
              "outlinewidth": 0,
              "ticks": ""
             }
            },
            "type": "scattermapbox"
           }
          ],
          "scatterpolar": [
           {
            "marker": {
             "colorbar": {
              "outlinewidth": 0,
              "ticks": ""
             }
            },
            "type": "scatterpolar"
           }
          ],
          "scatterpolargl": [
           {
            "marker": {
             "colorbar": {
              "outlinewidth": 0,
              "ticks": ""
             }
            },
            "type": "scatterpolargl"
           }
          ],
          "scatterternary": [
           {
            "marker": {
             "colorbar": {
              "outlinewidth": 0,
              "ticks": ""
             }
            },
            "type": "scatterternary"
           }
          ],
          "surface": [
           {
            "colorbar": {
             "outlinewidth": 0,
             "ticks": ""
            },
            "colorscale": [
             [
              0,
              "#0d0887"
             ],
             [
              0.1111111111111111,
              "#46039f"
             ],
             [
              0.2222222222222222,
              "#7201a8"
             ],
             [
              0.3333333333333333,
              "#9c179e"
             ],
             [
              0.4444444444444444,
              "#bd3786"
             ],
             [
              0.5555555555555556,
              "#d8576b"
             ],
             [
              0.6666666666666666,
              "#ed7953"
             ],
             [
              0.7777777777777778,
              "#fb9f3a"
             ],
             [
              0.8888888888888888,
              "#fdca26"
             ],
             [
              1,
              "#f0f921"
             ]
            ],
            "type": "surface"
           }
          ],
          "table": [
           {
            "cells": {
             "fill": {
              "color": "#EBF0F8"
             },
             "line": {
              "color": "white"
             }
            },
            "header": {
             "fill": {
              "color": "#C8D4E3"
             },
             "line": {
              "color": "white"
             }
            },
            "type": "table"
           }
          ]
         },
         "layout": {
          "annotationdefaults": {
           "arrowcolor": "#2a3f5f",
           "arrowhead": 0,
           "arrowwidth": 1
          },
          "autotypenumbers": "strict",
          "coloraxis": {
           "colorbar": {
            "outlinewidth": 0,
            "ticks": ""
           }
          },
          "colorscale": {
           "diverging": [
            [
             0,
             "#8e0152"
            ],
            [
             0.1,
             "#c51b7d"
            ],
            [
             0.2,
             "#de77ae"
            ],
            [
             0.3,
             "#f1b6da"
            ],
            [
             0.4,
             "#fde0ef"
            ],
            [
             0.5,
             "#f7f7f7"
            ],
            [
             0.6,
             "#e6f5d0"
            ],
            [
             0.7,
             "#b8e186"
            ],
            [
             0.8,
             "#7fbc41"
            ],
            [
             0.9,
             "#4d9221"
            ],
            [
             1,
             "#276419"
            ]
           ],
           "sequential": [
            [
             0,
             "#0d0887"
            ],
            [
             0.1111111111111111,
             "#46039f"
            ],
            [
             0.2222222222222222,
             "#7201a8"
            ],
            [
             0.3333333333333333,
             "#9c179e"
            ],
            [
             0.4444444444444444,
             "#bd3786"
            ],
            [
             0.5555555555555556,
             "#d8576b"
            ],
            [
             0.6666666666666666,
             "#ed7953"
            ],
            [
             0.7777777777777778,
             "#fb9f3a"
            ],
            [
             0.8888888888888888,
             "#fdca26"
            ],
            [
             1,
             "#f0f921"
            ]
           ],
           "sequentialminus": [
            [
             0,
             "#0d0887"
            ],
            [
             0.1111111111111111,
             "#46039f"
            ],
            [
             0.2222222222222222,
             "#7201a8"
            ],
            [
             0.3333333333333333,
             "#9c179e"
            ],
            [
             0.4444444444444444,
             "#bd3786"
            ],
            [
             0.5555555555555556,
             "#d8576b"
            ],
            [
             0.6666666666666666,
             "#ed7953"
            ],
            [
             0.7777777777777778,
             "#fb9f3a"
            ],
            [
             0.8888888888888888,
             "#fdca26"
            ],
            [
             1,
             "#f0f921"
            ]
           ]
          },
          "colorway": [
           "#636efa",
           "#EF553B",
           "#00cc96",
           "#ab63fa",
           "#FFA15A",
           "#19d3f3",
           "#FF6692",
           "#B6E880",
           "#FF97FF",
           "#FECB52"
          ],
          "font": {
           "color": "#2a3f5f"
          },
          "geo": {
           "bgcolor": "white",
           "lakecolor": "white",
           "landcolor": "#E5ECF6",
           "showlakes": true,
           "showland": true,
           "subunitcolor": "white"
          },
          "hoverlabel": {
           "align": "left"
          },
          "hovermode": "closest",
          "mapbox": {
           "style": "light"
          },
          "paper_bgcolor": "white",
          "plot_bgcolor": "#E5ECF6",
          "polar": {
           "angularaxis": {
            "gridcolor": "white",
            "linecolor": "white",
            "ticks": ""
           },
           "bgcolor": "#E5ECF6",
           "radialaxis": {
            "gridcolor": "white",
            "linecolor": "white",
            "ticks": ""
           }
          },
          "scene": {
           "xaxis": {
            "backgroundcolor": "#E5ECF6",
            "gridcolor": "white",
            "gridwidth": 2,
            "linecolor": "white",
            "showbackground": true,
            "ticks": "",
            "zerolinecolor": "white"
           },
           "yaxis": {
            "backgroundcolor": "#E5ECF6",
            "gridcolor": "white",
            "gridwidth": 2,
            "linecolor": "white",
            "showbackground": true,
            "ticks": "",
            "zerolinecolor": "white"
           },
           "zaxis": {
            "backgroundcolor": "#E5ECF6",
            "gridcolor": "white",
            "gridwidth": 2,
            "linecolor": "white",
            "showbackground": true,
            "ticks": "",
            "zerolinecolor": "white"
           }
          },
          "shapedefaults": {
           "line": {
            "color": "#2a3f5f"
           }
          },
          "ternary": {
           "aaxis": {
            "gridcolor": "white",
            "linecolor": "white",
            "ticks": ""
           },
           "baxis": {
            "gridcolor": "white",
            "linecolor": "white",
            "ticks": ""
           },
           "bgcolor": "#E5ECF6",
           "caxis": {
            "gridcolor": "white",
            "linecolor": "white",
            "ticks": ""
           }
          },
          "title": {
           "x": 0.05
          },
          "xaxis": {
           "automargin": true,
           "gridcolor": "white",
           "linecolor": "white",
           "ticks": "",
           "title": {
            "standoff": 15
           },
           "zerolinecolor": "white",
           "zerolinewidth": 2
          },
          "yaxis": {
           "automargin": true,
           "gridcolor": "white",
           "linecolor": "white",
           "ticks": "",
           "title": {
            "standoff": 15
           },
           "zerolinecolor": "white",
           "zerolinewidth": 2
          }
         }
        },
        "title": {
         "text": "Fraud vs Not Fraud transactions"
        },
        "width": 700
       }
      },
      "image/png": "[encoded data removed]",
      "text/html": [
       "<div>                            <div id=\"d3a61a35-3bcd-4f2c-a141-f11d31d44e6c\" class=\"plotly-graph-div\" style=\"height:400px; width:700px;\"></div>            <script type=\"text/javascript\">                require([\"plotly\"], function(Plotly) {                    window.PLOTLYENV=window.PLOTLYENV || {};                                    if (document.getElementById(\"d3a61a35-3bcd-4f2c-a141-f11d31d44e6c\")) {                    Plotly.newPlot(                        \"d3a61a35-3bcd-4f2c-a141-f11d31d44e6c\",                        [{\"domain\":{\"x\":[0.0,1.0],\"y\":[0.0,1.0]},\"hovertemplate\":\"label=%{label}<br>value=%{value}<extra></extra>\",\"labels\":[\"Not Fraud\",\"Fraud\"],\"legendgroup\":\"\",\"name\":\"\",\"showlegend\":true,\"values\":[99.83,0.17],\"type\":\"pie\"}],                        {\"template\":{\"data\":{\"histogram2dcontour\":[{\"type\":\"histogram2dcontour\",\"colorbar\":{\"outlinewidth\":0,\"ticks\":\"\"},\"colorscale\":[[0.0,\"#0d0887\"],[0.1111111111111111,\"#46039f\"],[0.2222222222222222,\"#7201a8\"],[0.3333333333333333,\"#9c179e\"],[0.4444444444444444,\"#bd3786\"],[0.5555555555555556,\"#d8576b\"],[0.6666666666666666,\"#ed7953\"],[0.7777777777777778,\"#fb9f3a\"],[0.8888888888888888,\"#fdca26\"],[1.0,\"#f0f921\"]]}],\"choropleth\":[{\"type\":\"choropleth\",\"colorbar\":{\"outlinewidth\":0,\"ticks\":\"\"}}],\"histogram2d\":[{\"type\":\"histogram2d\",\"colorbar\":{\"outlinewidth\":0,\"ticks\":\"\"},\"colorscale\":[[0.0,\"#0d0887\"],[0.1111111111111111,\"#46039f\"],[0.2222222222222222,\"#7201a8\"],[0.3333333333333333,\"#9c179e\"],[0.4444444444444444,\"#bd3786\"],[0.5555555555555556,\"#d8576b\"],[0.6666666666666666,\"#ed7953\"],[0.7777777777777778,\"#fb9f3a\"],[0.8888888888888888,\"#fdca26\"],[1.0,\"#f0f921\"]]}],\"heatmap\":[{\"type\":\"heatmap\",\"colorbar\":{\"outlinewidth\":0,\"ticks\":\"\"},\"colorscale\":[[0.0,\"#0d0887\"],[0.1111111111111111,\"#46039f\"],[0.2222222222222222,\"#7201a8\"],[0.3333333333333333,\"#9c179e\"],[0.4444444444444444,\"#bd3786\"],[0.5555555555555556,\"#d8576b\"],[0.6666666666666666,\"#ed7953\"],[0.7777777777777778,\"#fb9f3a\"],[0.8888888888888888,\"#fdca26\"],[1.0,\"#f0f921\"]]}],\"heatmapgl\":[{\"type\":\"heatmapgl\",\"colorbar\":{\"outlinewidth\":0,\"ticks\":\"\"},\"colorscale\":[[0.0,\"#0d0887\"],[0.1111111111111111,\"#46039f\"],[0.2222222222222222,\"#7201a8\"],[0.3333333333333333,\"#9c179e\"],[0.4444444444444444,\"#bd3786\"],[0.5555555555555556,\"#d8576b\"],[0.6666666666666666,\"#ed7953\"],[0.7777777777777778,\"#fb9f3a\"],[0.8888888888888888,\"#fdca26\"],[1.0,\"#f0f921\"]]}],\"contourcarpet\":[{\"type\":\"contourcarpet\",\"colorbar\":{\"outlinewidth\":0,\"ticks\":\"\"}}],\"contour\":[{\"type\":\"contour\",\"colorbar\":{\"outlinewidth\":0,\"ticks\":\"\"},\"colorscale\":[[0.0,\"#0d0887\"],[0.1111111111111111,\"#46039f\"],[0.2222222222222222,\"#7201a8\"],[0.3333333333333333,\"#9c179e\"],[0.4444444444444444,\"#bd3786\"],[0.5555555555555556,\"#d8576b\"],[0.6666666666666666,\"#ed7953\"],[0.7777777777777778,\"#fb9f3a\"],[0.8888888888888888,\"#fdca26\"],[1.0,\"#f0f921\"]]}],\"surface\":[{\"type\":\"surface\",\"colorbar\":{\"outlinewidth\":0,\"ticks\":\"\"},\"colorscale\":[[0.0,\"#0d0887\"],[0.1111111111111111,\"#46039f\"],[0.2222222222222222,\"#7201a8\"],[0.3333333333333333,\"#9c179e\"],[0.4444444444444444,\"#bd3786\"],[0.5555555555555556,\"#d8576b\"],[0.6666666666666666,\"#ed7953\"],[0.7777777777777778,\"#fb9f3a\"],[0.8888888888888888,\"#fdca26\"],[1.0,\"#f0f921\"]]}],\"mesh3d\":[{\"type\":\"mesh3d\",\"colorbar\":{\"outlinewidth\":0,\"ticks\":\"\"}}],\"scatter\":[{\"fillpattern\":{\"fillmode\":\"overlay\",\"size\":10,\"solidity\":0.2},\"type\":\"scatter\"}],\"parcoords\":[{\"type\":\"parcoords\",\"line\":{\"colorbar\":{\"outlinewidth\":0,\"ticks\":\"\"}}}],\"scatterpolargl\":[{\"type\":\"scatterpolargl\",\"marker\":{\"colorbar\":{\"outlinewidth\":0,\"ticks\":\"\"}}}],\"bar\":[{\"error_x\":{\"color\":\"#2a3f5f\"},\"error_y\":{\"color\":\"#2a3f5f\"},\"marker\":{\"line\":{\"color\":\"#E5ECF6\",\"width\":0.5},\"pattern\":{\"fillmode\":\"overlay\",\"size\":10,\"solidity\":0.2}},\"type\":\"bar\"}],\"scattergeo\":[{\"type\":\"scattergeo\",\"marker\":{\"colorbar\":{\"outlinewidth\":0,\"ticks\":\"\"}}}],\"scatterpolar\":[{\"type\":\"scatterpolar\",\"marker\":{\"colorbar\":{\"outlinewidth\":0,\"ticks\":\"\"}}}],\"histogram\":[{\"marker\":{\"pattern\":{\"fillmode\":\"overlay\",\"size\":10,\"solidity\":0.2}},\"type\":\"histogram\"}],\"scattergl\":[{\"type\":\"scattergl\",\"marker\":{\"colorbar\":{\"outlinewidth\":0,\"ticks\":\"\"}}}],\"scatter3d\":[{\"type\":\"scatter3d\",\"line\":{\"colorbar\":{\"outlinewidth\":0,\"ticks\":\"\"}},\"marker\":{\"colorbar\":{\"outlinewidth\":0,\"ticks\":\"\"}}}],\"scattermapbox\":[{\"type\":\"scattermapbox\",\"marker\":{\"colorbar\":{\"outlinewidth\":0,\"ticks\":\"\"}}}],\"scatterternary\":[{\"type\":\"scatterternary\",\"marker\":{\"colorbar\":{\"outlinewidth\":0,\"ticks\":\"\"}}}],\"scattercarpet\":[{\"type\":\"scattercarpet\",\"marker\":{\"colorbar\":{\"outlinewidth\":0,\"ticks\":\"\"}}}],\"carpet\":[{\"aaxis\":{\"endlinecolor\":\"#2a3f5f\",\"gridcolor\":\"white\",\"linecolor\":\"white\",\"minorgridcolor\":\"white\",\"startlinecolor\":\"#2a3f5f\"},\"baxis\":{\"endlinecolor\":\"#2a3f5f\",\"gridcolor\":\"white\",\"linecolor\":\"white\",\"minorgridcolor\":\"white\",\"startlinecolor\":\"#2a3f5f\"},\"type\":\"carpet\"}],\"table\":[{\"cells\":{\"fill\":{\"color\":\"#EBF0F8\"},\"line\":{\"color\":\"white\"}},\"header\":{\"fill\":{\"color\":\"#C8D4E3\"},\"line\":{\"color\":\"white\"}},\"type\":\"table\"}],\"barpolar\":[{\"marker\":{\"line\":{\"color\":\"#E5ECF6\",\"width\":0.5},\"pattern\":{\"fillmode\":\"overlay\",\"size\":10,\"solidity\":0.2}},\"type\":\"barpolar\"}],\"pie\":[{\"automargin\":true,\"type\":\"pie\"}]},\"layout\":{\"autotypenumbers\":\"strict\",\"colorway\":[\"#636efa\",\"#EF553B\",\"#00cc96\",\"#ab63fa\",\"#FFA15A\",\"#19d3f3\",\"#FF6692\",\"#B6E880\",\"#FF97FF\",\"#FECB52\"],\"font\":{\"color\":\"#2a3f5f\"},\"hovermode\":\"closest\",\"hoverlabel\":{\"align\":\"left\"},\"paper_bgcolor\":\"white\",\"plot_bgcolor\":\"#E5ECF6\",\"polar\":{\"bgcolor\":\"#E5ECF6\",\"angularaxis\":{\"gridcolor\":\"white\",\"linecolor\":\"white\",\"ticks\":\"\"},\"radialaxis\":{\"gridcolor\":\"white\",\"linecolor\":\"white\",\"ticks\":\"\"}},\"ternary\":{\"bgcolor\":\"#E5ECF6\",\"aaxis\":{\"gridcolor\":\"white\",\"linecolor\":\"white\",\"ticks\":\"\"},\"baxis\":{\"gridcolor\":\"white\",\"linecolor\":\"white\",\"ticks\":\"\"},\"caxis\":{\"gridcolor\":\"white\",\"linecolor\":\"white\",\"ticks\":\"\"}},\"coloraxis\":{\"colorbar\":{\"outlinewidth\":0,\"ticks\":\"\"}},\"colorscale\":{\"sequential\":[[0.0,\"#0d0887\"],[0.1111111111111111,\"#46039f\"],[0.2222222222222222,\"#7201a8\"],[0.3333333333333333,\"#9c179e\"],[0.4444444444444444,\"#bd3786\"],[0.5555555555555556,\"#d8576b\"],[0.6666666666666666,\"#ed7953\"],[0.7777777777777778,\"#fb9f3a\"],[0.8888888888888888,\"#fdca26\"],[1.0,\"#f0f921\"]],\"sequentialminus\":[[0.0,\"#0d0887\"],[0.1111111111111111,\"#46039f\"],[0.2222222222222222,\"#7201a8\"],[0.3333333333333333,\"#9c179e\"],[0.4444444444444444,\"#bd3786\"],[0.5555555555555556,\"#d8576b\"],[0.6666666666666666,\"#ed7953\"],[0.7777777777777778,\"#fb9f3a\"],[0.8888888888888888,\"#fdca26\"],[1.0,\"#f0f921\"]],\"diverging\":[[0,\"#8e0152\"],[0.1,\"#c51b7d\"],[0.2,\"#de77ae\"],[0.3,\"#f1b6da\"],[0.4,\"#fde0ef\"],[0.5,\"#f7f7f7\"],[0.6,\"#e6f5d0\"],[0.7,\"#b8e186\"],[0.8,\"#7fbc41\"],[0.9,\"#4d9221\"],[1,\"#276419\"]]},\"xaxis\":{\"gridcolor\":\"white\",\"linecolor\":\"white\",\"ticks\":\"\",\"title\":{\"standoff\":15},\"zerolinecolor\":\"white\",\"automargin\":true,\"zerolinewidth\":2},\"yaxis\":{\"gridcolor\":\"white\",\"linecolor\":\"white\",\"ticks\":\"\",\"title\":{\"standoff\":15},\"zerolinecolor\":\"white\",\"automargin\":true,\"zerolinewidth\":2},\"scene\":{\"xaxis\":{\"backgroundcolor\":\"#E5ECF6\",\"gridcolor\":\"white\",\"linecolor\":\"white\",\"showbackground\":true,\"ticks\":\"\",\"zerolinecolor\":\"white\",\"gridwidth\":2},\"yaxis\":{\"backgroundcolor\":\"#E5ECF6\",\"gridcolor\":\"white\",\"linecolor\":\"white\",\"showbackground\":true,\"ticks\":\"\",\"zerolinecolor\":\"white\",\"gridwidth\":2},\"zaxis\":{\"backgroundcolor\":\"#E5ECF6\",\"gridcolor\":\"white\",\"linecolor\":\"white\",\"showbackground\":true,\"ticks\":\"\",\"zerolinecolor\":\"white\",\"gridwidth\":2}},\"shapedefaults\":{\"line\":{\"color\":\"#2a3f5f\"}},\"annotationdefaults\":{\"arrowcolor\":\"#2a3f5f\",\"arrowhead\":0,\"arrowwidth\":1},\"geo\":{\"bgcolor\":\"white\",\"landcolor\":\"#E5ECF6\",\"subunitcolor\":\"white\",\"showland\":true,\"showlakes\":true,\"lakecolor\":\"white\"},\"title\":{\"x\":0.05},\"mapbox\":{\"style\":\"light\"}}},\"legend\":{\"tracegroupgap\":0},\"title\":{\"text\":\"Fraud vs Not Fraud transactions\"},\"piecolorway\":[\"skyblue\",\"black\"],\"height\":400,\"width\":700},                        {\"responsive\": true}                    ).then(function(){\n",
       "                            \n",
       "var gd = document.getElementById('d3a61a35-3bcd-4f2c-a141-f11d31d44e6c');\n",
       "var x = new MutationObserver(function (mutations, observer) {{\n",
       "        var display = window.getComputedStyle(gd).display;\n",
       "        if (!display || display === 'none') {{\n",
       "            console.log([gd, 'removed!']);\n",
       "            Plotly.purge(gd);\n",
       "            observer.disconnect();\n",
       "        }}\n",
       "}});\n",
       "\n",
       "// Listen for the removal of the full notebook cells\n",
       "var notebookContainer = gd.closest('#notebook-container');\n",
       "if (notebookContainer) {{\n",
       "    x.observe(notebookContainer, {childList: true});\n",
       "}}\n",
       "\n",
       "// Listen for the clearing of the current output cell\n",
       "var outputEl = gd.closest('.output');\n",
       "if (outputEl) {{\n",
       "    x.observe(outputEl, {childList: true});\n",
       "}}\n",
       "\n",
       "                        })                };                });            </script>        </div>"
      ]
     },
     "metadata": {},
     "output_type": "display_data"
    }
   ],
   "source": [
    "labels=[\"Not Fraud\",\"Fraud\"]\n",
    "fig = px.pie(values=vc['percent'], names=labels , width=700, height=400, color_discrete_sequence=[\"skyblue\",\"black\"]\n",
    "             ,title=\"Fraud vs Not Fraud transactions\")\n",
    "fig.show()"
   ]
  },
  {
   "cell_type": "markdown",
   "id": "479cf7db-f076-4a03-97f8-603ec5c015f4",
   "metadata": {},
   "source": [
    "#### One of the biggest challenge of this problem is that the target is highly imbalanced as only 0.17 % cases are fraud transactions. If we use this dataframe as the base for our predictive models and analysis we might get a lot of errors and our algorithms will probably overfit since it will \"assume\" that most transactions are not fraud."
   ]
  },
  {
   "cell_type": "markdown",
   "id": "bf1807e2-cfa1-4a1a-a5ad-41f679e516f2",
   "metadata": {},
   "source": [
    "### Data pre-processing"
   ]
  },
  {
   "cell_type": "code",
   "execution_count": 5,
   "id": "d9823234-0bd7-4db5-8fe8-4df5f8b8cd82",
   "metadata": {},
   "outputs": [
    {
     "data": {
      "text/html": [
       "<div>\n",
       "<style scoped>\n",
       "    .dataframe tbody tr th:only-of-type {\n",
       "        vertical-align: middle;\n",
       "    }\n",
       "\n",
       "    .dataframe tbody tr th {\n",
       "        vertical-align: top;\n",
       "    }\n",
       "\n",
       "    .dataframe thead th {\n",
       "        text-align: right;\n",
       "    }\n",
       "</style>\n",
       "<table border=\"1\" class=\"dataframe\">\n",
       "  <thead>\n",
       "    <tr style=\"text-align: right;\">\n",
       "      <th></th>\n",
       "      <th>Time</th>\n",
       "      <th>V1</th>\n",
       "      <th>V2</th>\n",
       "      <th>V3</th>\n",
       "      <th>V4</th>\n",
       "      <th>V5</th>\n",
       "      <th>V6</th>\n",
       "      <th>V7</th>\n",
       "      <th>V8</th>\n",
       "      <th>V9</th>\n",
       "      <th>V10</th>\n",
       "      <th>V11</th>\n",
       "      <th>V12</th>\n",
       "      <th>V13</th>\n",
       "      <th>V14</th>\n",
       "      <th>V15</th>\n",
       "      <th>V16</th>\n",
       "      <th>V17</th>\n",
       "      <th>V18</th>\n",
       "      <th>V19</th>\n",
       "      <th>V20</th>\n",
       "      <th>V21</th>\n",
       "      <th>V22</th>\n",
       "      <th>V23</th>\n",
       "      <th>V24</th>\n",
       "      <th>V25</th>\n",
       "      <th>V26</th>\n",
       "      <th>V27</th>\n",
       "      <th>V28</th>\n",
       "      <th>Amount</th>\n",
       "      <th>Class</th>\n",
       "    </tr>\n",
       "  </thead>\n",
       "  <tbody>\n",
       "    <tr>\n",
       "      <th>count</th>\n",
       "      <td>284807.000000</td>\n",
       "      <td>2.848070e+05</td>\n",
       "      <td>2.848070e+05</td>\n",
       "      <td>2.848070e+05</td>\n",
       "      <td>2.848070e+05</td>\n",
       "      <td>2.848070e+05</td>\n",
       "      <td>2.848070e+05</td>\n",
       "      <td>2.848070e+05</td>\n",
       "      <td>2.848070e+05</td>\n",
       "      <td>2.848070e+05</td>\n",
       "      <td>2.848070e+05</td>\n",
       "      <td>2.848070e+05</td>\n",
       "      <td>2.848070e+05</td>\n",
       "      <td>2.848070e+05</td>\n",
       "      <td>2.848070e+05</td>\n",
       "      <td>2.848070e+05</td>\n",
       "      <td>2.848070e+05</td>\n",
       "      <td>2.848070e+05</td>\n",
       "      <td>2.848070e+05</td>\n",
       "      <td>2.848070e+05</td>\n",
       "      <td>2.848070e+05</td>\n",
       "      <td>2.848070e+05</td>\n",
       "      <td>2.848070e+05</td>\n",
       "      <td>2.848070e+05</td>\n",
       "      <td>2.848070e+05</td>\n",
       "      <td>2.848070e+05</td>\n",
       "      <td>2.848070e+05</td>\n",
       "      <td>2.848070e+05</td>\n",
       "      <td>2.848070e+05</td>\n",
       "      <td>284807.000000</td>\n",
       "      <td>284807.000000</td>\n",
       "    </tr>\n",
       "    <tr>\n",
       "      <th>mean</th>\n",
       "      <td>94813.859575</td>\n",
       "      <td>1.168375e-15</td>\n",
       "      <td>3.416908e-16</td>\n",
       "      <td>-1.379537e-15</td>\n",
       "      <td>2.074095e-15</td>\n",
       "      <td>9.604066e-16</td>\n",
       "      <td>1.487313e-15</td>\n",
       "      <td>-5.556467e-16</td>\n",
       "      <td>1.213481e-16</td>\n",
       "      <td>-2.406331e-15</td>\n",
       "      <td>2.239053e-15</td>\n",
       "      <td>1.673327e-15</td>\n",
       "      <td>-1.247012e-15</td>\n",
       "      <td>8.190001e-16</td>\n",
       "      <td>1.207294e-15</td>\n",
       "      <td>4.887456e-15</td>\n",
       "      <td>1.437716e-15</td>\n",
       "      <td>-3.772171e-16</td>\n",
       "      <td>9.564149e-16</td>\n",
       "      <td>1.039917e-15</td>\n",
       "      <td>6.406204e-16</td>\n",
       "      <td>1.654067e-16</td>\n",
       "      <td>-3.568593e-16</td>\n",
       "      <td>2.578648e-16</td>\n",
       "      <td>4.473266e-15</td>\n",
       "      <td>5.340915e-16</td>\n",
       "      <td>1.683437e-15</td>\n",
       "      <td>-3.660091e-16</td>\n",
       "      <td>-1.227390e-16</td>\n",
       "      <td>88.349619</td>\n",
       "      <td>0.001727</td>\n",
       "    </tr>\n",
       "    <tr>\n",
       "      <th>std</th>\n",
       "      <td>47488.145955</td>\n",
       "      <td>1.958696e+00</td>\n",
       "      <td>1.651309e+00</td>\n",
       "      <td>1.516255e+00</td>\n",
       "      <td>1.415869e+00</td>\n",
       "      <td>1.380247e+00</td>\n",
       "      <td>1.332271e+00</td>\n",
       "      <td>1.237094e+00</td>\n",
       "      <td>1.194353e+00</td>\n",
       "      <td>1.098632e+00</td>\n",
       "      <td>1.088850e+00</td>\n",
       "      <td>1.020713e+00</td>\n",
       "      <td>9.992014e-01</td>\n",
       "      <td>9.952742e-01</td>\n",
       "      <td>9.585956e-01</td>\n",
       "      <td>9.153160e-01</td>\n",
       "      <td>8.762529e-01</td>\n",
       "      <td>8.493371e-01</td>\n",
       "      <td>8.381762e-01</td>\n",
       "      <td>8.140405e-01</td>\n",
       "      <td>7.709250e-01</td>\n",
       "      <td>7.345240e-01</td>\n",
       "      <td>7.257016e-01</td>\n",
       "      <td>6.244603e-01</td>\n",
       "      <td>6.056471e-01</td>\n",
       "      <td>5.212781e-01</td>\n",
       "      <td>4.822270e-01</td>\n",
       "      <td>4.036325e-01</td>\n",
       "      <td>3.300833e-01</td>\n",
       "      <td>250.120109</td>\n",
       "      <td>0.041527</td>\n",
       "    </tr>\n",
       "    <tr>\n",
       "      <th>min</th>\n",
       "      <td>0.000000</td>\n",
       "      <td>-5.640751e+01</td>\n",
       "      <td>-7.271573e+01</td>\n",
       "      <td>-4.832559e+01</td>\n",
       "      <td>-5.683171e+00</td>\n",
       "      <td>-1.137433e+02</td>\n",
       "      <td>-2.616051e+01</td>\n",
       "      <td>-4.355724e+01</td>\n",
       "      <td>-7.321672e+01</td>\n",
       "      <td>-1.343407e+01</td>\n",
       "      <td>-2.458826e+01</td>\n",
       "      <td>-4.797473e+00</td>\n",
       "      <td>-1.868371e+01</td>\n",
       "      <td>-5.791881e+00</td>\n",
       "      <td>-1.921433e+01</td>\n",
       "      <td>-4.498945e+00</td>\n",
       "      <td>-1.412985e+01</td>\n",
       "      <td>-2.516280e+01</td>\n",
       "      <td>-9.498746e+00</td>\n",
       "      <td>-7.213527e+00</td>\n",
       "      <td>-5.449772e+01</td>\n",
       "      <td>-3.483038e+01</td>\n",
       "      <td>-1.093314e+01</td>\n",
       "      <td>-4.480774e+01</td>\n",
       "      <td>-2.836627e+00</td>\n",
       "      <td>-1.029540e+01</td>\n",
       "      <td>-2.604551e+00</td>\n",
       "      <td>-2.256568e+01</td>\n",
       "      <td>-1.543008e+01</td>\n",
       "      <td>0.000000</td>\n",
       "      <td>0.000000</td>\n",
       "    </tr>\n",
       "    <tr>\n",
       "      <th>25%</th>\n",
       "      <td>54201.500000</td>\n",
       "      <td>-9.203734e-01</td>\n",
       "      <td>-5.985499e-01</td>\n",
       "      <td>-8.903648e-01</td>\n",
       "      <td>-8.486401e-01</td>\n",
       "      <td>-6.915971e-01</td>\n",
       "      <td>-7.682956e-01</td>\n",
       "      <td>-5.540759e-01</td>\n",
       "      <td>-2.086297e-01</td>\n",
       "      <td>-6.430976e-01</td>\n",
       "      <td>-5.354257e-01</td>\n",
       "      <td>-7.624942e-01</td>\n",
       "      <td>-4.055715e-01</td>\n",
       "      <td>-6.485393e-01</td>\n",
       "      <td>-4.255740e-01</td>\n",
       "      <td>-5.828843e-01</td>\n",
       "      <td>-4.680368e-01</td>\n",
       "      <td>-4.837483e-01</td>\n",
       "      <td>-4.988498e-01</td>\n",
       "      <td>-4.562989e-01</td>\n",
       "      <td>-2.117214e-01</td>\n",
       "      <td>-2.283949e-01</td>\n",
       "      <td>-5.423504e-01</td>\n",
       "      <td>-1.618463e-01</td>\n",
       "      <td>-3.545861e-01</td>\n",
       "      <td>-3.171451e-01</td>\n",
       "      <td>-3.269839e-01</td>\n",
       "      <td>-7.083953e-02</td>\n",
       "      <td>-5.295979e-02</td>\n",
       "      <td>5.600000</td>\n",
       "      <td>0.000000</td>\n",
       "    </tr>\n",
       "    <tr>\n",
       "      <th>50%</th>\n",
       "      <td>84692.000000</td>\n",
       "      <td>1.810880e-02</td>\n",
       "      <td>6.548556e-02</td>\n",
       "      <td>1.798463e-01</td>\n",
       "      <td>-1.984653e-02</td>\n",
       "      <td>-5.433583e-02</td>\n",
       "      <td>-2.741871e-01</td>\n",
       "      <td>4.010308e-02</td>\n",
       "      <td>2.235804e-02</td>\n",
       "      <td>-5.142873e-02</td>\n",
       "      <td>-9.291738e-02</td>\n",
       "      <td>-3.275735e-02</td>\n",
       "      <td>1.400326e-01</td>\n",
       "      <td>-1.356806e-02</td>\n",
       "      <td>5.060132e-02</td>\n",
       "      <td>4.807155e-02</td>\n",
       "      <td>6.641332e-02</td>\n",
       "      <td>-6.567575e-02</td>\n",
       "      <td>-3.636312e-03</td>\n",
       "      <td>3.734823e-03</td>\n",
       "      <td>-6.248109e-02</td>\n",
       "      <td>-2.945017e-02</td>\n",
       "      <td>6.781943e-03</td>\n",
       "      <td>-1.119293e-02</td>\n",
       "      <td>4.097606e-02</td>\n",
       "      <td>1.659350e-02</td>\n",
       "      <td>-5.213911e-02</td>\n",
       "      <td>1.342146e-03</td>\n",
       "      <td>1.124383e-02</td>\n",
       "      <td>22.000000</td>\n",
       "      <td>0.000000</td>\n",
       "    </tr>\n",
       "    <tr>\n",
       "      <th>75%</th>\n",
       "      <td>139320.500000</td>\n",
       "      <td>1.315642e+00</td>\n",
       "      <td>8.037239e-01</td>\n",
       "      <td>1.027196e+00</td>\n",
       "      <td>7.433413e-01</td>\n",
       "      <td>6.119264e-01</td>\n",
       "      <td>3.985649e-01</td>\n",
       "      <td>5.704361e-01</td>\n",
       "      <td>3.273459e-01</td>\n",
       "      <td>5.971390e-01</td>\n",
       "      <td>4.539234e-01</td>\n",
       "      <td>7.395934e-01</td>\n",
       "      <td>6.182380e-01</td>\n",
       "      <td>6.625050e-01</td>\n",
       "      <td>4.931498e-01</td>\n",
       "      <td>6.488208e-01</td>\n",
       "      <td>5.232963e-01</td>\n",
       "      <td>3.996750e-01</td>\n",
       "      <td>5.008067e-01</td>\n",
       "      <td>4.589494e-01</td>\n",
       "      <td>1.330408e-01</td>\n",
       "      <td>1.863772e-01</td>\n",
       "      <td>5.285536e-01</td>\n",
       "      <td>1.476421e-01</td>\n",
       "      <td>4.395266e-01</td>\n",
       "      <td>3.507156e-01</td>\n",
       "      <td>2.409522e-01</td>\n",
       "      <td>9.104512e-02</td>\n",
       "      <td>7.827995e-02</td>\n",
       "      <td>77.165000</td>\n",
       "      <td>0.000000</td>\n",
       "    </tr>\n",
       "    <tr>\n",
       "      <th>max</th>\n",
       "      <td>172792.000000</td>\n",
       "      <td>2.454930e+00</td>\n",
       "      <td>2.205773e+01</td>\n",
       "      <td>9.382558e+00</td>\n",
       "      <td>1.687534e+01</td>\n",
       "      <td>3.480167e+01</td>\n",
       "      <td>7.330163e+01</td>\n",
       "      <td>1.205895e+02</td>\n",
       "      <td>2.000721e+01</td>\n",
       "      <td>1.559499e+01</td>\n",
       "      <td>2.374514e+01</td>\n",
       "      <td>1.201891e+01</td>\n",
       "      <td>7.848392e+00</td>\n",
       "      <td>7.126883e+00</td>\n",
       "      <td>1.052677e+01</td>\n",
       "      <td>8.877742e+00</td>\n",
       "      <td>1.731511e+01</td>\n",
       "      <td>9.253526e+00</td>\n",
       "      <td>5.041069e+00</td>\n",
       "      <td>5.591971e+00</td>\n",
       "      <td>3.942090e+01</td>\n",
       "      <td>2.720284e+01</td>\n",
       "      <td>1.050309e+01</td>\n",
       "      <td>2.252841e+01</td>\n",
       "      <td>4.584549e+00</td>\n",
       "      <td>7.519589e+00</td>\n",
       "      <td>3.517346e+00</td>\n",
       "      <td>3.161220e+01</td>\n",
       "      <td>3.384781e+01</td>\n",
       "      <td>25691.160000</td>\n",
       "      <td>1.000000</td>\n",
       "    </tr>\n",
       "  </tbody>\n",
       "</table>\n",
       "</div>"
      ],
      "text/plain": [
       "                Time            V1            V2            V3            V4  \\\n",
       "count  284807.000000  2.848070e+05  2.848070e+05  2.848070e+05  2.848070e+05   \n",
       "mean    94813.859575  1.168375e-15  3.416908e-16 -1.379537e-15  2.074095e-15   \n",
       "std     47488.145955  1.958696e+00  1.651309e+00  1.516255e+00  1.415869e+00   \n",
       "min         0.000000 -5.640751e+01 -7.271573e+01 -4.832559e+01 -5.683171e+00   \n",
       "25%     54201.500000 -9.203734e-01 -5.985499e-01 -8.903648e-01 -8.486401e-01   \n",
       "50%     84692.000000  1.810880e-02  6.548556e-02  1.798463e-01 -1.984653e-02   \n",
       "75%    139320.500000  1.315642e+00  8.037239e-01  1.027196e+00  7.433413e-01   \n",
       "max    172792.000000  2.454930e+00  2.205773e+01  9.382558e+00  1.687534e+01   \n",
       "\n",
       "                 V5            V6            V7            V8            V9  \\\n",
       "count  2.848070e+05  2.848070e+05  2.848070e+05  2.848070e+05  2.848070e+05   \n",
       "mean   9.604066e-16  1.487313e-15 -5.556467e-16  1.213481e-16 -2.406331e-15   \n",
       "std    1.380247e+00  1.332271e+00  1.237094e+00  1.194353e+00  1.098632e+00   \n",
       "min   -1.137433e+02 -2.616051e+01 -4.355724e+01 -7.321672e+01 -1.343407e+01   \n",
       "25%   -6.915971e-01 -7.682956e-01 -5.540759e-01 -2.086297e-01 -6.430976e-01   \n",
       "50%   -5.433583e-02 -2.741871e-01  4.010308e-02  2.235804e-02 -5.142873e-02   \n",
       "75%    6.119264e-01  3.985649e-01  5.704361e-01  3.273459e-01  5.971390e-01   \n",
       "max    3.480167e+01  7.330163e+01  1.205895e+02  2.000721e+01  1.559499e+01   \n",
       "\n",
       "                V10           V11           V12           V13           V14  \\\n",
       "count  2.848070e+05  2.848070e+05  2.848070e+05  2.848070e+05  2.848070e+05   \n",
       "mean   2.239053e-15  1.673327e-15 -1.247012e-15  8.190001e-16  1.207294e-15   \n",
       "std    1.088850e+00  1.020713e+00  9.992014e-01  9.952742e-01  9.585956e-01   \n",
       "min   -2.458826e+01 -4.797473e+00 -1.868371e+01 -5.791881e+00 -1.921433e+01   \n",
       "25%   -5.354257e-01 -7.624942e-01 -4.055715e-01 -6.485393e-01 -4.255740e-01   \n",
       "50%   -9.291738e-02 -3.275735e-02  1.400326e-01 -1.356806e-02  5.060132e-02   \n",
       "75%    4.539234e-01  7.395934e-01  6.182380e-01  6.625050e-01  4.931498e-01   \n",
       "max    2.374514e+01  1.201891e+01  7.848392e+00  7.126883e+00  1.052677e+01   \n",
       "\n",
       "                V15           V16           V17           V18           V19  \\\n",
       "count  2.848070e+05  2.848070e+05  2.848070e+05  2.848070e+05  2.848070e+05   \n",
       "mean   4.887456e-15  1.437716e-15 -3.772171e-16  9.564149e-16  1.039917e-15   \n",
       "std    9.153160e-01  8.762529e-01  8.493371e-01  8.381762e-01  8.140405e-01   \n",
       "min   -4.498945e+00 -1.412985e+01 -2.516280e+01 -9.498746e+00 -7.213527e+00   \n",
       "25%   -5.828843e-01 -4.680368e-01 -4.837483e-01 -4.988498e-01 -4.562989e-01   \n",
       "50%    4.807155e-02  6.641332e-02 -6.567575e-02 -3.636312e-03  3.734823e-03   \n",
       "75%    6.488208e-01  5.232963e-01  3.996750e-01  5.008067e-01  4.589494e-01   \n",
       "max    8.877742e+00  1.731511e+01  9.253526e+00  5.041069e+00  5.591971e+00   \n",
       "\n",
       "                V20           V21           V22           V23           V24  \\\n",
       "count  2.848070e+05  2.848070e+05  2.848070e+05  2.848070e+05  2.848070e+05   \n",
       "mean   6.406204e-16  1.654067e-16 -3.568593e-16  2.578648e-16  4.473266e-15   \n",
       "std    7.709250e-01  7.345240e-01  7.257016e-01  6.244603e-01  6.056471e-01   \n",
       "min   -5.449772e+01 -3.483038e+01 -1.093314e+01 -4.480774e+01 -2.836627e+00   \n",
       "25%   -2.117214e-01 -2.283949e-01 -5.423504e-01 -1.618463e-01 -3.545861e-01   \n",
       "50%   -6.248109e-02 -2.945017e-02  6.781943e-03 -1.119293e-02  4.097606e-02   \n",
       "75%    1.330408e-01  1.863772e-01  5.285536e-01  1.476421e-01  4.395266e-01   \n",
       "max    3.942090e+01  2.720284e+01  1.050309e+01  2.252841e+01  4.584549e+00   \n",
       "\n",
       "                V25           V26           V27           V28         Amount  \\\n",
       "count  2.848070e+05  2.848070e+05  2.848070e+05  2.848070e+05  284807.000000   \n",
       "mean   5.340915e-16  1.683437e-15 -3.660091e-16 -1.227390e-16      88.349619   \n",
       "std    5.212781e-01  4.822270e-01  4.036325e-01  3.300833e-01     250.120109   \n",
       "min   -1.029540e+01 -2.604551e+00 -2.256568e+01 -1.543008e+01       0.000000   \n",
       "25%   -3.171451e-01 -3.269839e-01 -7.083953e-02 -5.295979e-02       5.600000   \n",
       "50%    1.659350e-02 -5.213911e-02  1.342146e-03  1.124383e-02      22.000000   \n",
       "75%    3.507156e-01  2.409522e-01  9.104512e-02  7.827995e-02      77.165000   \n",
       "max    7.519589e+00  3.517346e+00  3.161220e+01  3.384781e+01   25691.160000   \n",
       "\n",
       "               Class  \n",
       "count  284807.000000  \n",
       "mean        0.001727  \n",
       "std         0.041527  \n",
       "min         0.000000  \n",
       "25%         0.000000  \n",
       "50%         0.000000  \n",
       "75%         0.000000  \n",
       "max         1.000000  "
      ]
     },
     "execution_count": 5,
     "metadata": {},
     "output_type": "execute_result"
    }
   ],
   "source": [
    "df=raw_df.copy()\n",
    "df.describe()"
   ]
  },
  {
   "cell_type": "code",
   "execution_count": 6,
   "id": "0b19ac1a-199e-4b29-8258-c9df589542a4",
   "metadata": {},
   "outputs": [
    {
     "data": {
      "text/plain": [
       "1081"
      ]
     },
     "execution_count": 6,
     "metadata": {},
     "output_type": "execute_result"
    }
   ],
   "source": [
    "df.duplicated().sum()"
   ]
  },
  {
   "cell_type": "code",
   "execution_count": 7,
   "id": "7992df48-435e-4788-8dc2-5e9eb73944d0",
   "metadata": {},
   "outputs": [],
   "source": [
    "#  Dropping duplicated values\n",
    "\n",
    "df.drop_duplicates(inplace=True)"
   ]
  },
  {
   "cell_type": "code",
   "execution_count": 8,
   "id": "99aad0d8-4d94-4846-96ef-8268f29ffba5",
   "metadata": {},
   "outputs": [
    {
     "data": {
      "text/plain": [
       "0"
      ]
     },
     "execution_count": 8,
     "metadata": {},
     "output_type": "execute_result"
    }
   ],
   "source": [
    "# Check null values\n",
    "\n",
    "df.isnull().sum().max()"
   ]
  },
  {
   "cell_type": "markdown",
   "id": "51e888a8-b929-4db5-a650-df261dc9b606",
   "metadata": {},
   "source": [
    "### EDA"
   ]
  },
  {
   "cell_type": "code",
   "execution_count": 9,
   "id": "488b5606-16e2-4050-abb1-eceffdda4d96",
   "metadata": {},
   "outputs": [
    {
     "data": {
      "application/vnd.plotly.v1+json": {
       "config": {
        "linkText": "Export to plot.ly",
        "plotlyServerURL": "https://plot.ly",
        "showLink": false
       },
       "data": [
        {
         "legendgroup": "Not Fraud",
         "marker": {
          "color": "rgb(31, 119, 180)"
         },
         "mode": "lines",
         "name": "Not Fraud",
         "showlegend": true,
         "type": "scatter",
         "x": [
          0,
          345.584,
          691.168,
          1036.752,
          1382.336,
          1727.92,
          2073.504,
          2419.088,
          2764.672,
          3110.256,
          3455.84,
          3801.424,
          4147.008,
          4492.592,
          4838.176,
          5183.76,
          5529.344,
          5874.928,
          6220.512,
          6566.096,
          6911.68,
          7257.264,
          7602.848,
          7948.432,
          8294.016,
          8639.6,
          8985.184,
          9330.768,
          9676.352,
          10021.936,
          10367.52,
          10713.104,
          11058.688,
          11404.272,
          11749.856,
          12095.44,
          12441.024,
          12786.608,
          13132.192,
          13477.776,
          13823.36,
          14168.944,
          14514.528,
          14860.112,
          15205.696,
          15551.28,
          15896.864,
          16242.448,
          16588.032,
          16933.616,
          17279.2,
          17624.784,
          17970.368,
          18315.952,
          18661.536,
          19007.12,
          19352.704,
          19698.288,
          20043.872,
          20389.456,
          20735.04,
          21080.624,
          21426.208,
          21771.792,
          22117.376,
          22462.96,
          22808.544,
          23154.128,
          23499.712,
          23845.296,
          24190.88,
          24536.464,
          24882.048,
          25227.632,
          25573.216,
          25918.8,
          26264.384,
          26609.968,
          26955.552,
          27301.136,
          27646.72,
          27992.304,
          28337.888,
          28683.472,
          29029.056,
          29374.64,
          29720.224,
          30065.808,
          30411.392,
          30756.976,
          31102.56,
          31448.144,
          31793.728,
          32139.312,
          32484.896,
          32830.48,
          33176.064,
          33521.648,
          33867.232,
          34212.816,
          34558.4,
          34903.984,
          35249.568,
          35595.152,
          35940.736,
          36286.32,
          36631.904,
          36977.488,
          37323.072,
          37668.656,
          38014.24,
          38359.824,
          38705.408,
          39050.992,
          39396.576,
          39742.16,
          40087.744,
          40433.328,
          40778.912,
          41124.496,
          41470.08,
          41815.664,
          42161.248,
          42506.832,
          42852.416,
          43198,
          43543.584,
          43889.168,
          44234.752,
          44580.336,
          44925.92,
          45271.504,
          45617.088,
          45962.672,
          46308.256,
          46653.84,
          46999.424,
          47345.008,
          47690.592,
          48036.176,
          48381.76,
          48727.344,
          49072.928,
          49418.512,
          49764.096,
          50109.68,
          50455.264,
          50800.848,
          51146.432,
          51492.016,
          51837.6,
          52183.184,
          52528.768,
          52874.352,
          53219.936,
          53565.52,
          53911.104,
          54256.688,
          54602.272,
          54947.856,
          55293.44,
          55639.024,
          55984.608,
          56330.192,
          56675.776,
          57021.36,
          57366.944,
          57712.528,
          58058.112,
          58403.696,
          58749.28,
          59094.864,
          59440.448,
          59786.032,
          60131.616,
          60477.2,
          60822.784,
          61168.368,
          61513.952,
          61859.536,
          62205.12,
          62550.704,
          62896.288,
          63241.872,
          63587.456,
          63933.04,
          64278.624,
          64624.208,
          64969.792,
          65315.376,
          65660.96,
          66006.544,
          66352.128,
          66697.712,
          67043.296,
          67388.88,
          67734.464,
          68080.048,
          68425.632,
          68771.216,
          69116.8,
          69462.384,
          69807.968,
          70153.552,
          70499.136,
          70844.72,
          71190.304,
          71535.888,
          71881.472,
          72227.056,
          72572.64,
          72918.224,
          73263.808,
          73609.392,
          73954.976,
          74300.56,
          74646.144,
          74991.728,
          75337.312,
          75682.896,
          76028.48,
          76374.064,
          76719.648,
          77065.232,
          77410.816,
          77756.4,
          78101.984,
          78447.568,
          78793.152,
          79138.736,
          79484.32,
          79829.904,
          80175.488,
          80521.072,
          80866.656,
          81212.24,
          81557.824,
          81903.408,
          82248.992,
          82594.576,
          82940.16,
          83285.744,
          83631.328,
          83976.912,
          84322.496,
          84668.08,
          85013.664,
          85359.248,
          85704.832,
          86050.416,
          86396,
          86741.584,
          87087.168,
          87432.752,
          87778.336,
          88123.92,
          88469.504,
          88815.088,
          89160.672,
          89506.256,
          89851.84,
          90197.424,
          90543.008,
          90888.592,
          91234.176,
          91579.76,
          91925.344,
          92270.928,
          92616.512,
          92962.096,
          93307.68,
          93653.264,
          93998.848,
          94344.432,
          94690.016,
          95035.6,
          95381.184,
          95726.768,
          96072.352,
          96417.936,
          96763.52,
          97109.104,
          97454.688,
          97800.272,
          98145.856,
          98491.44,
          98837.024,
          99182.608,
          99528.192,
          99873.776,
          100219.36,
          100564.944,
          100910.528,
          101256.112,
          101601.696,
          101947.28,
          102292.864,
          102638.448,
          102984.032,
          103329.616,
          103675.2,
          104020.784,
          104366.368,
          104711.952,
          105057.536,
          105403.12,
          105748.704,
          106094.288,
          106439.872,
          106785.456,
          107131.04,
          107476.624,
          107822.208,
          108167.792,
          108513.376,
          108858.96,
          109204.544,
          109550.128,
          109895.712,
          110241.296,
          110586.88,
          110932.464,
          111278.048,
          111623.632,
          111969.216,
          112314.8,
          112660.384,
          113005.968,
          113351.552,
          113697.136,
          114042.72,
          114388.304,
          114733.888,
          115079.472,
          115425.056,
          115770.64,
          116116.224,
          116461.808,
          116807.392,
          117152.976,
          117498.56,
          117844.144,
          118189.728,
          118535.312,
          118880.896,
          119226.48,
          119572.064,
          119917.648,
          120263.232,
          120608.816,
          120954.4,
          121299.984,
          121645.568,
          121991.152,
          122336.736,
          122682.32,
          123027.904,
          123373.488,
          123719.072,
          124064.656,
          124410.24,
          124755.824,
          125101.408,
          125446.992,
          125792.576,
          126138.16,
          126483.744,
          126829.328,
          127174.912,
          127520.496,
          127866.08,
          128211.664,
          128557.248,
          128902.832,
          129248.416,
          129594,
          129939.584,
          130285.168,
          130630.752,
          130976.336,
          131321.92,
          131667.504,
          132013.088,
          132358.672,
          132704.256,
          133049.84,
          133395.424,
          133741.008,
          134086.592,
          134432.176,
          134777.76,
          135123.344,
          135468.928,
          135814.512,
          136160.096,
          136505.68,
          136851.264,
          137196.848,
          137542.432,
          137888.016,
          138233.6,
          138579.184,
          138924.768,
          139270.352,
          139615.936,
          139961.52,
          140307.104,
          140652.688,
          140998.272,
          141343.856,
          141689.44,
          142035.024,
          142380.608,
          142726.192,
          143071.776,
          143417.36,
          143762.944,
          144108.528,
          144454.112,
          144799.696,
          145145.28,
          145490.864,
          145836.448,
          146182.032,
          146527.616,
          146873.2,
          147218.784,
          147564.368,
          147909.952,
          148255.536,
          148601.12,
          148946.704,
          149292.288,
          149637.872,
          149983.456,
          150329.04,
          150674.624,
          151020.208,
          151365.792,
          151711.376,
          152056.96,
          152402.544,
          152748.128,
          153093.712,
          153439.296,
          153784.88,
          154130.464,
          154476.048,
          154821.632,
          155167.216,
          155512.8,
          155858.384,
          156203.968,
          156549.552,
          156895.136,
          157240.72,
          157586.304,
          157931.888,
          158277.472,
          158623.056,
          158968.64,
          159314.224,
          159659.808,
          160005.392,
          160350.976,
          160696.56,
          161042.144,
          161387.728,
          161733.312,
          162078.896,
          162424.48,
          162770.064,
          163115.648,
          163461.232,
          163806.816,
          164152.4,
          164497.984,
          164843.568,
          165189.152,
          165534.736,
          165880.32,
          166225.904,
          166571.488,
          166917.072,
          167262.656,
          167608.24,
          167953.824,
          168299.408,
          168644.992,
          168990.576,
          169336.16,
          169681.744,
          170027.328,
          170372.912,
          170718.496,
          171064.08,
          171409.664,
          171755.248,
          172100.832,
          172446.416
         ],
         "xaxis": "x",
         "y": [
          1.6922645070926794e-06,
          1.7839865880558606e-06,
          1.8697312301033472e-06,
          1.9484817638957603e-06,
          2.0193636764902542e-06,
          2.081670092288425e-06,
          2.1348813232316925e-06,
          2.1786775937693587e-06,
          2.212944376327651e-06,
          2.2377701363245475e-06,
          2.2534366603899116e-06,
          2.260402504951689e-06,
          2.2592804332939977e-06,
          2.250809988572004e-06,
          2.2358265627181648e-06,
          2.2152284559329005e-06,
          2.189943472851784e-06,
          2.1608965691700568e-06,
          2.1289799512000972e-06,
          2.0950268497834815e-06,
          2.0597899521602257e-06,
          2.0239251964985743e-06,
          1.9879813311094693e-06,
          1.952395331677641e-06,
          1.9174934722848177e-06,
          1.8834975751532673e-06,
          1.8505357330781475e-06,
          1.8186566176503423e-06,
          1.7878463624208082e-06,
          1.7580469464389092e-06,
          1.729174999928746e-06,
          1.7011400068608764e-06,
          1.6738609826069553e-06,
          1.647280850207091e-06,
          1.6213779158557573e-06,
          1.5961740417832349e-06,
          1.5717393212024268e-06,
          1.5481932640764439e-06,
          1.5257026936240244e-06,
          1.5044767225014941e-06,
          1.484759316900981e-06,
          1.466820060738372e-06,
          1.4509437970718012e-06,
          1.4374198484160818e-06,
          1.4265315023004254e-06,
          1.418546395792253e-06,
          1.41370834710133e-06,
          1.4122310695946287e-06,
          1.4142940706349018e-06,
          1.4200408925101606e-06,
          1.429579703726757e-06,
          1.4429861045693247e-06,
          1.46030787917906e-06,
          1.481571314781741e-06,
          1.5067886232087407e-06,
          1.5359659450135606e-06,
          1.569111394942831e-06,
          1.6062426198280974e-06,
          1.647393384559204e-06,
          1.6926187750037538e-06,
          1.7419987030598908e-06,
          1.7956395114573341e-06,
          1.8536735964640591e-06,
          1.9162570869002014e-06,
          1.98356572960293e-06,
          2.0557892273753727e-06,
          2.133124349536703e-06,
          2.2157671833892765e-06,
          2.3039049153466963e-06,
          2.39770752350167e-06,
          2.4973197317133304e-06,
          2.6028535234002724e-06,
          2.714381447250379e-06,
          2.8319308739663668e-06,
          2.955479290208557e-06,
          3.0849506498569383e-06,
          3.220212749290398e-06,
          3.3610755566228993e-06,
          3.5072904068121864e-06,
          3.658549975123472e-06,
          3.8144889583377294e-06,
          3.974685422225182e-06,
          4.138662809651787e-06,
          4.3058926399735354e-06,
          4.475797960771656e-06,
          4.647757631789469e-06,
          4.821111523788318e-06,
          4.995166699392864e-06,
          5.169204608477786e-06,
          5.342489279091002e-06,
          5.514276420334572e-06,
          5.6838232817052775e-06,
          5.8503990410083375e-06,
          6.0132954274250565e-06,
          6.171837234680982e-06,
          6.32539234752047e-06,
          6.473380897250612e-06,
          6.61528318120412e-06,
          6.750646026551184e-06,
          6.879087348514045e-06,
          7.000298742161451e-06,
          7.114046049291376e-06,
          7.2201679500611735e-06,
          7.318572735068401e-06,
          7.40923350982802e-06,
          7.492182163155508e-06,
          7.567502488341549e-06,
          7.63532287740322e-06,
          7.69580901237275e-06,
          7.749156953733893e-06,
          7.795586976926338e-06,
          7.835338437155835e-06,
          7.868665855700211e-06,
          7.895836323636171e-06,
          7.917128217945127e-06,
          7.932831126915845e-06,
          7.943246792887962e-06,
          7.948690806114358e-06,
          7.949494728411578e-06,
          7.946008292431129e-06,
          7.93860131364972e-06,
          7.927664967859275e-06,
          7.913612125787604e-06,
          7.896876496032767e-06,
          7.87791040379608e-06,
          7.85718112127008e-06,
          7.835165760349547e-06,
          7.812344833744959e-06,
          7.78919468068851e-06,
          7.766179032715822e-06,
          7.74374005873204e-06,
          7.72228927295645e-06,
          7.702198712018411e-06,
          7.683792787319082e-06,
          7.66734119626928e-06,
          7.653053232930087e-06,
          7.641073777898032e-06,
          7.631481172899078e-06,
          7.624287102042051e-06,
          7.619438513774205e-06,
          7.616821530027812e-06,
          7.6162672061547005e-06,
          7.617558930754119e-06,
          7.620441191352405e-06,
          7.6246293821863675e-06,
          7.629820295375927e-06,
          7.635702917056667e-06,
          7.641969145443645e-06,
          7.648324057749048e-06,
          7.654495376351644e-06,
          7.660241820404753e-06,
          7.665360075755332e-06,
          7.66969017197659e-06,
          7.673119118800137e-06,
          7.675582723097078e-06,
          7.677065579668809e-06,
          7.67759930173007e-06,
          7.677259127244249e-06,
          7.676159102059483e-06,
          7.674446096884458e-06,
          7.672292959345744e-06,
          7.669891131965576e-06,
          7.667443079640638e-06,
          7.665154864838676e-06,
          7.663229185002681e-06,
          7.661859145623881e-06,
          7.661222986441904e-06,
          7.661479910781411e-06,
          7.66276709377341e-06,
          7.665197869377023e-06,
          7.668861024408646e-06,
          7.673821065570142e-06,
          7.680119277648282e-06,
          7.687775361305979e-06,
          7.696789429394151e-06,
          7.707144152064957e-06,
          7.718806871616745e-06,
          7.731731554867813e-06,
          7.7458605090421e-06,
          7.761125850680016e-06,
          7.777450779289347e-06,
          7.794750761501642e-06,
          7.81293477130752e-06,
          7.831906752399447e-06,
          7.851567466638813e-06,
          7.871816866932458e-06,
          7.892557084603625e-06,
          7.913696054230379e-06,
          7.93515171836622e-06,
          7.956856667879907e-06,
          7.978762988960399e-06,
          8.000847013578426e-06,
          8.023113614246111e-06,
          8.045599652791125e-06,
          8.068376191089291e-06,
          8.091549101435127e-06,
          8.115257774785083e-06,
          8.139671713241396e-06,
          8.164984903228674e-06,
          8.1914079902341e-06,
          8.219158406097378e-06,
          8.248448726503583e-06,
          8.279473650922139e-06,
          8.312396092207975e-06,
          8.34733293267918e-06,
          8.384341044069855e-06,
          8.423404178937506e-06,
          8.464421321628099e-06,
          8.507197040441025e-06,
          8.551434313158456e-06,
          8.596730210475755e-06,
          8.642574721280049e-06,
          8.68835289503086e-06,
          8.733350364186944e-06,
          8.77676219721921e-06,
          8.817704923176797e-06,
          8.855231464130922e-06,
          8.8883486139475e-06,
          8.916036612330752e-06,
          8.937270283812778e-06,
          8.95104114455172e-06,
          8.956379828163342e-06,
          8.952378148467361e-06,
          8.938210105320947e-06,
          8.913151152693232e-06,
          8.876595088328835e-06,
          8.828067992976796e-06,
          8.767238743960785e-06,
          8.693925750508994e-06,
          8.608099702446848e-06,
          8.509882283172656e-06,
          8.39954096418704e-06,
          8.277480162605449e-06,
          8.144229195234322e-06,
          8.00042759352541e-06,
          7.84680844469894e-06,
          7.684180489058813e-06,
          7.513409728029406e-06,
          7.3354012804808094e-06,
          7.151082168224341e-06,
          6.961385619596824e-06,
          6.767237359709204e-06,
          6.569544215733808e-06,
          6.369185215236059e-06,
          6.167005204821817e-06,
          5.963810874613243e-06,
          5.760368949408297e-06,
          5.557406206247564e-06,
          5.355610904890383e-06,
          5.155635174661022e-06,
          4.958097888398882e-06,
          4.763587570171727e-06,
          4.5726649247256376e-06,
          4.3858646390724645e-06,
          4.203696185082261e-06,
          4.02664344118062e-06,
          3.8551630459555265e-06,
          3.68968149170942e-06,
          3.530591057262006e-06,
          3.3782447627310242e-06,
          3.232950601288184e-06,
          3.09496536135089e-06,
          2.9644883952000955e-06,
          2.8416557150814336e-06,
          2.7265348044263694e-06,
          2.6191205194935077e-06,
          2.5193324256277712e-06,
          2.427013863301876e-06,
          2.3419329737056704e-06,
          2.263785834229276e-06,
          2.192201763892746e-06,
          2.1267507615069883e-06,
          2.066952939647789e-06,
          2.0122897203855336e-06,
          1.9622164693339685e-06,
          1.9161761680444243e-06,
          1.8736136656897968e-06,
          1.8339900131669672e-06,
          1.7967963688638267e-06,
          1.7615669766639604e-06,
          1.727890753059799e-06,
          1.6954210796514154e-06,
          1.66388347651086e-06,
          1.6330809262719716e-06,
          1.6028967228165215e-06,
          1.5732948259508e-06,
          1.5443178083041869e-06,
          1.5160825769712004e-06,
          1.488774135058471e-06,
          1.4626377132870881e-06,
          1.4379696464599565e-06,
          1.4151073927015173e-06,
          1.394419095137929e-06,
          1.3762930676512557e-06,
          1.3611275512073419e-06,
          1.3493210385592857e-06,
          1.3412634069923376e-06,
          1.3373280355324962e-06,
          1.3378650189948496e-06,
          1.343195530352187e-06,
          1.353607328569759e-06,
          1.369351363964292e-06,
          1.390639399153096e-06,
          1.41764254170735e-06,
          1.4504905747577915e-06,
          1.4892719731797914e-06,
          1.534034503996412e-06,
          1.5847863279782995e-06,
          1.6414975423115112e-06,
          1.704102128518159e-06,
          1.7725002923739546e-06,
          1.8465612003089812e-06,
          1.926126127057255e-06,
          2.011012030113907e-06,
          2.101015556675437e-06,
          2.1959174680034253e-06,
          2.2954874354468282e-06,
          2.399489123701891e-06,
          2.5076854333111323e-06,
          2.61984372976029e-06,
          2.7357408453101315e-06,
          2.855167606584489e-06,
          2.977932620473153e-06,
          3.103865047081247e-06,
          3.232816104230413e-06,
          3.364659085038466e-06,
          3.4992877283768853e-06,
          3.636612859740923e-06,
          3.7765573137067863e-06,
          3.919049253436521e-06,
          4.0640141110528375e-06,
          4.211365477586423e-06,
          4.360995364746915e-06,
          4.512764335297491e-06,
          4.666492047582885e-06,
          4.821948777503992e-06,
          4.978848464641414e-06,
          5.13684377744927e-06,
          5.295523607081782e-06,
          5.4544132846767464e-06,
          5.612977679340889e-06,
          5.770627182006652e-06,
          5.926726423488549e-06,
          6.080605423717479e-06,
          6.231572733355382e-06,
          6.378930017908915e-06,
          6.521987455518675e-06,
          6.660079278009002e-06,
          6.792578783093921e-06,
          6.9189121835839875e-06,
          7.0385707339765615e-06,
          7.151120680318437e-06,
          7.25621070805609e-06,
          7.353576705609729e-06,
          7.443043808723381e-06,
          7.524525832431116e-06,
          7.5980223246437374e-06,
          7.663613580190882e-06,
          7.721454030950946e-06,
          7.77176447297227e-06,
          7.814823604236673e-06,
          7.850959328309251e-06,
          7.880540233083799e-06,
          7.903967585479423e-06,
          7.921668098842395e-06,
          7.934087637156303e-06,
          7.941685926313152e-06,
          7.94493225446594e-06,
          7.944302066733867e-06,
          7.94027429879216e-06,
          7.93332925210954e-06,
          7.923946792092745e-06,
          7.912604648813057e-06,
          7.89977661663895e-06,
          7.885930480988283e-06,
          7.871525543886465e-06,
          7.857009670872731e-06,
          7.842815835789117e-06,
          7.829358193116456e-06,
          7.817027756340806e-06,
          7.806187802509353e-06,
          7.7971691557654e-06,
          7.790265525058216e-06,
          7.785729083032663e-06,
          7.783766474594661e-06,
          7.784535435615811e-06,
          7.788142185747968e-06,
          7.794639735736343e-06,
          7.804027220248369e-06,
          7.816250333450637e-06,
          7.831202907622255e-06,
          7.848729636163501e-06,
          7.868629902618311e-06,
          7.890662637896326e-06,
          7.914552089970107e-06,
          7.939994355198424e-06,
          7.966664489488393e-06,
          7.994223992179088e-06,
          8.022328437261248e-06,
          8.050635016680455e-06,
          8.078809760120649e-06,
          8.106534205563696e-06,
          8.133511315310823e-06,
          8.159470462658378e-06,
          8.184171354003686e-06,
          8.20740679804714e-06,
          8.229004285648129e-06,
          8.248826397818191e-06,
          8.26677011216125e-06,
          8.282765126431262e-06,
          8.296771358589373e-06,
          8.30877581311691e-06,
          8.318789021201581e-06,
          8.326841266624844e-06,
          8.332978799510987e-06,
          8.337260217471035e-06,
          8.339753160034774e-06,
          8.340531420544763e-06,
          8.339672533493364e-06,
          8.337255848667752e-06,
          8.333361060638295e-06,
          8.328067126779801e-06,
          8.321451482465385e-06,
          8.31358945037382e-06,
          8.304553742894148e-06,
          8.29441397199064e-06,
          8.28323610759765e-06,
          8.271081860574726e-06,
          8.258008005281555e-06,
          8.24406569520378e-06,
          8.229299857937324e-06,
          8.213748778706266e-06,
          8.197443991009971e-06,
          8.18041058655728e-06,
          8.162668033924049e-06,
          8.144231557378713e-06,
          8.125114077017383e-06,
          8.105328653123663e-06,
          8.084891316934014e-06,
          8.06382411291921e-06,
          8.042158130145351e-06,
          8.019936267795671e-06,
          7.997215466506863e-06,
          7.974068145403403e-06,
          7.95058261508573e-06,
          7.926862287913088e-06,
          7.903023575331639e-06,
          7.879192442784702e-06,
          7.855499679850716e-06,
          7.832075030030922e-06,
          7.809040404479314e-06,
          7.786502470983251e-06,
          7.764544958795045e-06,
          7.743221048149882e-06,
          7.722546218791658e-06,
          7.70249191463272e-06,
          7.682980343496188e-06,
          7.663880674730034e-06,
          7.645006827511078e-06,
          7.626116963535295e-06,
          7.606914714589614e-06,
          7.587052093110553e-06,
          7.566133956798868e-06,
          7.5437238306213915e-06,
          7.519350834276867e-06,
          7.492517422860139e-06,
          7.462707624595227e-06,
          7.429395452958075e-06,
          7.392053181335149e-06,
          7.350159195923286e-06,
          7.303205185555055e-06,
          7.250702483531976e-06,
          7.1921874436655526e-06,
          7.127225807225591e-06,
          7.055416095342074e-06,
          6.976392138068602e-06,
          6.88982492175158e-06,
          6.795423995435456e-06,
          6.6929387196699195e-06,
          6.582159662715974e-06,
          6.462920446133705e-06,
          6.3351003117678215e-06,
          6.198627624688274e-06,
          6.053484443211353e-06,
          5.899712181471712e-06,
          5.737418268119191e-06,
          5.566783574576807e-06,
          5.388070257500162e-06,
          5.201629543151242e-06,
          5.007908887004785e-06,
          4.807457879944492e-06,
          4.60093225106056e-06,
          4.389095341936155e-06,
          4.1728165007218595e-06,
          3.953065964797899e-06,
          3.7309059630670366e-06,
          3.507477963836825e-06,
          3.2839862096295107e-06,
          3.0616779016088922e-06,
          2.8418206079935086e-06
         ],
         "yaxis": "y"
        },
        {
         "legendgroup": "Fraud",
         "marker": {
          "color": "rgb(255, 127, 14)"
         },
         "mode": "lines",
         "name": "Fraud",
         "showlegend": true,
         "type": "scatter",
         "x": [
          406,
          745.884,
          1085.768,
          1425.652,
          1765.536,
          2105.42,
          2445.304,
          2785.188,
          3125.072,
          3464.956,
          3804.84,
          4144.724,
          4484.608,
          4824.492,
          5164.376,
          5504.26,
          5844.144,
          6184.028,
          6523.912,
          6863.796,
          7203.68,
          7543.564,
          7883.448,
          8223.332,
          8563.216,
          8903.1,
          9242.984,
          9582.868,
          9922.752,
          10262.636,
          10602.52,
          10942.404,
          11282.288,
          11622.172,
          11962.056,
          12301.94,
          12641.824,
          12981.708,
          13321.592,
          13661.476,
          14001.36,
          14341.244,
          14681.128,
          15021.012,
          15360.896,
          15700.78,
          16040.664,
          16380.548,
          16720.432,
          17060.316,
          17400.2,
          17740.084,
          18079.968,
          18419.852,
          18759.736,
          19099.62,
          19439.504,
          19779.388,
          20119.272,
          20459.156,
          20799.04,
          21138.924,
          21478.808,
          21818.692,
          22158.576,
          22498.46,
          22838.344,
          23178.228,
          23518.112,
          23857.996,
          24197.88,
          24537.764,
          24877.648,
          25217.532,
          25557.416,
          25897.3,
          26237.184,
          26577.068,
          26916.952,
          27256.836,
          27596.72,
          27936.604,
          28276.488,
          28616.372,
          28956.256,
          29296.14,
          29636.024,
          29975.908,
          30315.792,
          30655.676,
          30995.56,
          31335.444,
          31675.328,
          32015.212,
          32355.096,
          32694.98,
          33034.864,
          33374.748,
          33714.632,
          34054.516,
          34394.4,
          34734.284,
          35074.168,
          35414.052,
          35753.936,
          36093.82,
          36433.704,
          36773.588,
          37113.472,
          37453.356,
          37793.24,
          38133.124,
          38473.008,
          38812.892,
          39152.776,
          39492.66,
          39832.544,
          40172.428,
          40512.312,
          40852.196,
          41192.08,
          41531.964,
          41871.848,
          42211.732,
          42551.616,
          42891.5,
          43231.384,
          43571.268,
          43911.152,
          44251.036,
          44590.92,
          44930.804,
          45270.688,
          45610.572,
          45950.456,
          46290.34,
          46630.224,
          46970.108,
          47309.992,
          47649.876,
          47989.76,
          48329.644,
          48669.528,
          49009.412,
          49349.296,
          49689.18,
          50029.064,
          50368.948,
          50708.832,
          51048.716,
          51388.6,
          51728.484,
          52068.368,
          52408.252,
          52748.136,
          53088.02,
          53427.904,
          53767.788,
          54107.672,
          54447.556,
          54787.44,
          55127.324,
          55467.208,
          55807.092,
          56146.976,
          56486.86,
          56826.744,
          57166.628,
          57506.512,
          57846.396,
          58186.28,
          58526.164,
          58866.048,
          59205.932,
          59545.816,
          59885.7,
          60225.584,
          60565.468,
          60905.352,
          61245.236,
          61585.12,
          61925.004,
          62264.888,
          62604.772,
          62944.656,
          63284.54,
          63624.424,
          63964.308,
          64304.192,
          64644.076,
          64983.96,
          65323.844,
          65663.728,
          66003.612,
          66343.496,
          66683.38,
          67023.264,
          67363.148,
          67703.032,
          68042.916,
          68382.8,
          68722.684,
          69062.568,
          69402.452,
          69742.336,
          70082.22,
          70422.104,
          70761.988,
          71101.872,
          71441.756,
          71781.64,
          72121.524,
          72461.408,
          72801.292,
          73141.176,
          73481.06,
          73820.944,
          74160.828,
          74500.712,
          74840.596,
          75180.48,
          75520.364,
          75860.248,
          76200.132,
          76540.016,
          76879.9,
          77219.784,
          77559.668,
          77899.552,
          78239.436,
          78579.32,
          78919.204,
          79259.088,
          79598.972,
          79938.856,
          80278.74,
          80618.624,
          80958.508,
          81298.392,
          81638.276,
          81978.16,
          82318.044,
          82657.928,
          82997.812,
          83337.696,
          83677.58,
          84017.464,
          84357.348,
          84697.232,
          85037.116,
          85377,
          85716.884,
          86056.768,
          86396.652,
          86736.536,
          87076.42,
          87416.304,
          87756.188,
          88096.072,
          88435.956,
          88775.84,
          89115.724,
          89455.608,
          89795.492,
          90135.376,
          90475.26,
          90815.144,
          91155.028,
          91494.912,
          91834.796,
          92174.68,
          92514.564,
          92854.448,
          93194.332,
          93534.216,
          93874.1,
          94213.984,
          94553.868,
          94893.752,
          95233.636,
          95573.52,
          95913.404,
          96253.288,
          96593.172,
          96933.056,
          97272.94,
          97612.824,
          97952.708,
          98292.592,
          98632.476,
          98972.36,
          99312.244,
          99652.128,
          99992.012,
          100331.896,
          100671.78,
          101011.664,
          101351.548,
          101691.432,
          102031.316,
          102371.2,
          102711.084,
          103050.968,
          103390.852,
          103730.736,
          104070.62,
          104410.504,
          104750.388,
          105090.272,
          105430.156,
          105770.04,
          106109.924,
          106449.808,
          106789.692,
          107129.576,
          107469.46,
          107809.344,
          108149.228,
          108489.112,
          108828.996,
          109168.88,
          109508.764,
          109848.648,
          110188.532,
          110528.416,
          110868.3,
          111208.184,
          111548.068,
          111887.952,
          112227.836,
          112567.72,
          112907.604,
          113247.488,
          113587.372,
          113927.256,
          114267.14,
          114607.024,
          114946.908,
          115286.792,
          115626.676,
          115966.56,
          116306.444,
          116646.328,
          116986.212,
          117326.096,
          117665.98,
          118005.864,
          118345.748,
          118685.632,
          119025.516,
          119365.4,
          119705.284,
          120045.168,
          120385.052,
          120724.936,
          121064.82,
          121404.704,
          121744.588,
          122084.472,
          122424.356,
          122764.24,
          123104.124,
          123444.008,
          123783.892,
          124123.776,
          124463.66,
          124803.544,
          125143.428,
          125483.312,
          125823.196,
          126163.08,
          126502.964,
          126842.848,
          127182.732,
          127522.616,
          127862.5,
          128202.384,
          128542.268,
          128882.152,
          129222.036,
          129561.92,
          129901.804,
          130241.688,
          130581.572,
          130921.456,
          131261.34,
          131601.224,
          131941.108,
          132280.992,
          132620.876,
          132960.76,
          133300.644,
          133640.528,
          133980.412,
          134320.296,
          134660.18,
          135000.064,
          135339.948,
          135679.832,
          136019.716,
          136359.6,
          136699.484,
          137039.368,
          137379.252,
          137719.136,
          138059.02,
          138398.904,
          138738.788,
          139078.672,
          139418.556,
          139758.44,
          140098.324,
          140438.208,
          140778.092,
          141117.976,
          141457.86,
          141797.744,
          142137.628,
          142477.512,
          142817.396,
          143157.28,
          143497.164,
          143837.048,
          144176.932,
          144516.816,
          144856.7,
          145196.584,
          145536.468,
          145876.352,
          146216.236,
          146556.12,
          146896.004,
          147235.888,
          147575.772,
          147915.656,
          148255.54,
          148595.424,
          148935.308,
          149275.192,
          149615.076,
          149954.96,
          150294.844,
          150634.728,
          150974.612,
          151314.496,
          151654.38,
          151994.264,
          152334.148,
          152674.032,
          153013.916,
          153353.8,
          153693.684,
          154033.568,
          154373.452,
          154713.336,
          155053.22,
          155393.104,
          155732.988,
          156072.872,
          156412.756,
          156752.64,
          157092.524,
          157432.408,
          157772.292,
          158112.176,
          158452.06,
          158791.944,
          159131.828,
          159471.712,
          159811.596,
          160151.48,
          160491.364,
          160831.248,
          161171.132,
          161511.016,
          161850.9,
          162190.784,
          162530.668,
          162870.552,
          163210.436,
          163550.32,
          163890.204,
          164230.088,
          164569.972,
          164909.856,
          165249.74,
          165589.624,
          165929.508,
          166269.392,
          166609.276,
          166949.16,
          167289.044,
          167628.928,
          167968.812,
          168308.696,
          168648.58,
          168988.464,
          169328.348,
          169668.232,
          170008.116
         ],
         "xaxis": "x",
         "y": [
          2.689280613819604e-06,
          2.7489188184834148e-06,
          2.808849075456263e-06,
          2.8690440474353256e-06,
          2.929476381232279e-06,
          2.990118767057345e-06,
          3.0509439975818376e-06,
          3.1119250265563234e-06,
          3.1730350267613456e-06,
          3.2342474470677984e-06,
          3.295536068385822e-06,
          3.3568750582833507e-06,
          3.4182390240592646e-06,
          3.479603064060487e-06,
          3.5409428170380924e-06,
          3.6022345093440116e-06,
          3.663454999777634e-06,
          3.7245818218999076e-06,
          3.7855932236422245e-06,
          3.846468204047545e-06,
          3.9071865469923835e-06,
          3.967728851750256e-06,
          4.028076560269915e-06,
          4.0882119810547525e-06,
          4.148118309544261e-06,
          4.207779644912397e-06,
          4.267181003212845e-06,
          4.326308326817125e-06,
          4.385148490106322e-06,
          4.4436893013939994e-06,
          4.501919501073789e-06,
          4.559828756001512e-06,
          4.617407650138064e-06,
          4.674647671495618e-06,
          4.7315411954460755e-06,
          4.788081464466378e-06,
          4.844262564411427e-06,
          4.9000793974203575e-06,
          4.955527651577307e-06,
          5.010603767461687e-06,
          5.065304901737641e-06,
          5.11962888794474e-06,
          5.173574194665296e-06,
          5.227139881254776e-06,
          5.280325551333551e-06,
          5.333131304247287e-06,
          5.385557684713448e-06,
          5.437605630878999e-06,
          5.489276421021473e-06,
          5.540571619132393e-06,
          5.591493019626294e-06,
          5.6420425914230976e-06,
          5.692222421654343e-06,
          5.742034659245265e-06,
          5.791481458625832e-06,
          5.840564923822548e-06,
          5.889287053182005e-06,
          5.937649684973555e-06,
          5.985654444115137e-06,
          6.0333026902610044e-06,
          6.080595467483818e-06,
          6.12753345577699e-06,
          6.174116924594398e-06,
          6.220345688635679e-06,
          6.26621906607557e-06,
          6.311735839424287e-06,
          6.3568942191945715e-06,
          6.401691810538299e-06,
          6.446125583002558e-06,
          6.490191843540595e-06,
          6.533886212899507e-06,
          6.577203605490493e-06,
          6.6201382128329464e-06,
          6.662683490647146e-06,
          6.704832149654705e-06,
          6.746576150129165e-06,
          6.7879067002229924e-06,
          6.8288142580803966e-06,
          6.86928853772896e-06,
          6.909318518726693e-06,
          6.948892459524373e-06,
          6.987997914487685e-06,
          7.026621754507175e-06,
          7.064750191109208e-06,
          7.102368803965774e-06,
          7.139462571686889e-06,
          7.176015905765453e-06,
          7.212012687531182e-06,
          7.2474363079579036e-06,
          7.282269710156701e-06,
          7.316495434376825e-06,
          7.350095665325978e-06,
          7.38305228161273e-06,
          7.4153469071057605e-06,
          7.446960963997312e-06,
          7.477875727352351e-06,
          7.508072380919878e-06,
          7.537532073978567e-06,
          7.566235978986498e-06,
          7.594165349802447e-06,
          7.621301580245763e-06,
          7.647626262762143e-06,
          7.673121246963955e-06,
          7.697768697816264e-06,
          7.721551153243514e-06,
          7.74445158093584e-06,
          7.766453434140062e-06,
          7.787540706226306e-06,
          7.80769798382947e-06,
          7.826910498371659e-06,
          7.845164175782263e-06,
          7.862445684241091e-06,
          7.878742479780776e-06,
          7.89404284959635e-06,
          7.908335952920627e-06,
          7.92161185933722e-06,
          7.933861584415358e-06,
          7.945077122563231e-06,
          7.95525147701095e-06,
          7.964378686846833e-06,
          7.97245385104498e-06,
          7.979473149435558e-06,
          7.98543386058343e-06,
          7.990334376553794e-06,
          7.994174214557714e-06,
          7.996954025483212e-06,
          7.998675599331035e-06,
          7.999341867586424e-06,
          7.99895690257084e-06,
          7.997525913829106e-06,
          7.995055241618645e-06,
          7.991552347578349e-06,
          7.987025802663805e-06,
          7.981485272446135e-06,
          7.974941499878838e-06,
          7.967406285645674e-06,
          7.958892466209418e-06,
          7.949413889687083e-06,
          7.938985389682832e-06,
          7.927622757214497e-06,
          7.915342710872095e-06,
          7.902162865350839e-06,
          7.888101698501952e-06,
          7.873178517046124e-06,
          7.857413421094047e-06,
          7.840827267618417e-06,
          7.823441633019954e-06,
          7.805278774927536e-06,
          7.786361593370104e-06,
          7.766713591453793e-06,
          7.74635883567355e-06,
          7.725321915983834e-06,
          7.703627905746987e-06,
          7.681302321672016e-06,
          7.658371083850516e-06,
          7.634860475988372e-06,
          7.610797105926347e-06,
          7.586207866533255e-06,
          7.561119897049374e-06,
          7.535560544948525e-06,
          7.509557328380193e-06,
          7.483137899244276e-06,
          7.4563300069435175e-06,
          7.429161462850435e-06,
          7.401660105517764e-06,
          7.373853766653977e-06,
          7.345770237877561e-06,
          7.317437238257282e-06,
          7.2888823826381974e-06,
          7.260133150747294e-06,
          7.2312168570662845e-06,
          7.202160621453868e-06,
          7.172991340494413e-06,
          7.143735659545856e-06,
          7.114419945455354e-06,
          7.085070259907953e-06,
          7.055712333370817e-06,
          7.026371539593248e-06,
          6.997072870621032e-06,
          6.967840912283096e-06,
          6.938699820107405e-06,
          6.909673295624009e-06,
          6.880784563013348e-06,
          6.8520563460599215e-06,
          6.823510845372887e-06,
          6.795169715838164e-06,
          6.767054044269465e-06,
          6.73918432722919e-06,
          6.711580448994539e-06,
          6.684261659648196e-06,
          6.657246553278179e-06,
          6.6305530462767865e-06,
          6.604198355733654e-06,
          6.5781989779244255e-06,
          6.552570666902236e-06,
          6.527328413205598e-06,
          6.5024864227028045e-06,
          6.478058095599308e-06,
          6.454056005641474e-06,
          6.430491879555989e-06,
          6.4073765767717965e-06,
          6.384720069476668e-06,
          6.362531423067731e-06,
          6.340818777060868e-06,
          6.319589326529872e-06,
          6.298849304151883e-06,
          6.278603962940554e-06,
          6.258857559753761e-06,
          6.239613339666533e-06,
          6.220873521304125e-06,
          6.2026392832338345e-06,
          6.1849107515166244e-06,
          6.167686988522538e-06,
          6.150965983115401e-06,
          6.134744642313477e-06,
          6.119018784533718e-06,
          6.103783134526688e-06,
          6.089031320108739e-06,
          6.074755870796798e-06,
          6.060948218448516e-06,
          6.047598700008381e-06,
          6.034696562456225e-06,
          6.022229970051049e-06,
          6.0101860139576805e-06,
          5.998550724338632e-06,
          5.9873090849869846e-06,
          5.976445050569782e-06,
          5.965941566543191e-06,
          5.955780591793505e-06,
          5.945943124048745e-06,
          5.936409228096722e-06,
          5.9271580668356996e-06,
          5.918167935173789e-06,
          5.909416296782264e-06,
          5.900879823697441e-06,
          5.892534438754246e-06,
          5.8843553608230126e-06,
          5.8763171528093945e-06,
          5.868393772365018e-06,
          5.8605586252447286e-06,
          5.852784621233773e-06,
          5.8450442325561986e-06,
          5.837309554663701e-06,
          5.829552369291818e-06,
          5.821744209658931e-06,
          5.813856427671394e-06,
          5.805860262987227e-06,
          5.797726913779431e-06,
          5.789427609029744e-06,
          5.780933682173252e-06,
          5.7722166459049155e-06,
          5.763248267949778e-06,
          5.7540006475907655e-06,
          5.744446292739685e-06,
          5.734558197330534e-06,
          5.72430991880802e-06,
          5.713675655478528e-06,
          5.702630323486865e-06,
          5.691149633177917e-06,
          5.679210164600172e-06,
          5.666789441906204e-06,
          5.653866006404393e-06,
          5.640419488016624e-06,
          5.626430674897833e-06,
          5.611881580975791e-06,
          5.596755511172537e-06,
          5.581037124073433e-06,
          5.564712491815186e-06,
          5.547769156970378e-06,
          5.530196186213529e-06,
          5.5119842205618995e-06,
          5.493125521993673e-06,
          5.473614016255988e-06,
          5.453445331686629e-06,
          5.432616833884787e-06,
          5.411127656079047e-06,
          5.388978725053971e-06,
          5.366172782510904e-06,
          5.342714401752975e-06,
          5.318609999599757e-06,
          5.293867843452589e-06,
          5.268498053447721e-06,
          5.242512599651056e-06,
          5.215925294264952e-06,
          5.1887517788345235e-06,
          5.161009506458212e-06,
          5.1327177190245415e-06,
          5.103897419514066e-06,
          5.0745713394229515e-06,
          5.0447639013813425e-06,
          5.014501177056677e-06,
          4.983810840448368e-06,
          4.952722116696405e-06,
          4.92126572654219e-06,
          4.8894738265949094e-06,
          4.857379945571241e-06,
          4.825018916690185e-06,
          4.792426806417961e-06,
          4.759640839770249e-06,
          4.7266993223908336e-06,
          4.693641559636015e-06,
          4.660507772904596e-06,
          4.627339013461526e-06,
          4.594177074011401e-06,
          4.561064398284895e-06,
          4.528043988906927e-06,
          4.495159313819968e-06,
          4.462454211539821e-06,
          4.4299727955233745e-06,
          4.397759357929559e-06,
          4.365858273054877e-06,
          4.334313900724112e-06,
          4.303170489915112e-06,
          4.2724720828931915e-06,
          4.2422624201272824e-06,
          4.21258484625422e-06,
          4.183482217352141e-06,
          4.154996809776395e-06,
          4.127170230803878e-06,
          4.100043331322464e-06,
          4.073656120792727e-06,
          4.048047684698609e-06,
          4.023256104692414e-06,
          3.999318381627618e-06,
          3.97627036166039e-06,
          3.954146665587666e-06,
          3.932980621576003e-06,
          3.912804201421185e-06,
          3.893647960464576e-06,
          3.875540981276927e-06,
          3.858510821205843e-06,
          3.842583463867863e-06,
          3.827783274650755e-06,
          3.814132960276675e-06,
          3.801653532461473e-06,
          3.7903642756904283e-06,
          3.7802827191159276e-06,
          3.7714246125678135e-06,
          3.7638039066530178e-06,
          3.757432736907098e-06,
          3.7523214119467888e-06,
          3.7484784055598186e-06,
          3.745910352655695e-06,
          3.744622048989487e-06,
          3.7446164545592707e-06,
          3.745894700567694e-06,
          3.7484560998280936e-06,
          3.752298160486899e-06,
          3.757416602925652e-06,
          3.7638053796988636e-06,
          3.771456698357296e-06,
          3.7803610470006896e-06,
          3.7905072223993037e-06,
          3.8018823605197165e-06,
          3.8144719692875214e-06,
          3.8282599634173805e-06,
          3.843228701139953e-06,
          3.859359022654833e-06,
          3.876630290139343e-06,
          3.895020429144416e-06,
          3.914505971211308e-06,
          3.93506209754569e-06,
          3.9566626835899085e-06,
          3.979280344338452e-06,
          4.0028864802473805e-06,
          4.027451323594027e-06,
          4.05294398515015e-06,
          4.079332501038764e-06,
          4.1065838796523995e-06,
          4.134664148518869e-06,
          4.163538401008793e-06,
          4.193170842788237e-06,
          4.223524837928749e-06,
          4.254562954596432e-06,
          4.286247010251146e-06,
          4.31853811629651e-06,
          4.351396722130993e-06,
          4.384782658559774e-06,
          4.41865518053681e-06,
          4.452973009215466e-06,
          4.487694373295551e-06,
          4.5227770496631194e-06,
          4.558178403328055e-06,
          4.593855426672507e-06,
          4.6297647780309845e-06,
          4.66586281963001e-06,
          4.7021056549221095e-06,
          4.73844916535484e-06,
          4.774849046621208e-06,
          4.811260844442693e-06,
          4.84763998994032e-06,
          4.883941834652787e-06,
          4.920121685263427e-06,
          4.956134838100098e-06,
          4.991936613473216e-06,
          5.027482389918029e-06,
          5.062727638407103e-06,
          5.097627956598031e-06,
          5.132139103180107e-06,
          5.166217032381233e-06,
          5.199817928693449e-06,
          5.232898241871984e-06,
          5.265414722258339e-06,
          5.297324456473115e-06,
          5.328584903518824e-06,
          5.359153931327117e-06,
          5.388989853778099e-06,
          5.418051468212816e-06,
          5.446298093452469e-06,
          5.473689608330444e-06,
          5.500186490734999e-06,
          5.525749857152772e-06,
          5.550341502694402e-06,
          5.573923941575347e-06,
          5.596460448016557e-06,
          5.6179150975208194e-06,
          5.63825280847236e-06,
          5.65743938399893e-06,
          5.675441554027296e-06,
          5.692227017455279e-06,
          5.707764484355804e-06,
          5.722023718121023e-06,
          5.73497557744797e-06,
          5.746592058060507e-06,
          5.7568463340565134e-06,
          5.765712798763972e-06,
          5.7731671049845955e-06,
          5.779186204499733e-06,
          5.783748386709515e-06,
          5.78683331627357e-06,
          5.788422069619406e-06,
          5.788497170183163e-06,
          5.787042622246826e-06,
          5.784043943236049e-06,
          5.779488194343649e-06,
          5.773364009345334e-06,
          5.765661621476771e-06,
          5.756372888244106e-06,
          5.7454913140439914e-06,
          5.733012070473624e-06,
          5.71893201421684e-06,
          5.70324970239793e-06,
          5.685965405301831e-06,
          5.667081116366162e-06,
          5.646600559358646e-06,
          5.6245291926617395e-06,
          5.600874210594882e-06,
          5.575644541714299e-06,
          5.54885084403982e-06,
          5.5205054971681384e-06,
          5.490622591242166e-06,
          5.459217912756868e-06,
          5.426308927192461e-06,
          5.391914758476683e-06,
          5.3560561652889276e-06,
          5.318755514229744e-06,
          5.280036749890185e-06,
          5.239925361866282e-06,
          5.198448348774503e-06,
          5.155634179334415e-06,
          5.111512750595295e-06,
          5.066115343392704e-06,
          5.019474575131244e-06,
          4.971624349998351e-06,
          4.922599806722963e-06,
          4.872437264001004e-06,
          4.821174163717431e-06,
          4.768849012101723e-06,
          4.715501318960387e-06,
          4.6611715351358905e-06,
          4.605900988347152e-06,
          4.5497318175711886e-06,
          4.492706906129732e-06,
          4.434869813648253e-06,
          4.376264707057342e-06,
          4.316936290808671e-06,
          4.256929736479233e-06,
          4.196290611938253e-06,
          4.135064810251237e-06,
          4.073298478495188e-06,
          4.0110379466577715e-06,
          3.948329656791433e-06,
          3.885220092590907e-06,
          3.821755709559852e-06,
          3.7579828659284958e-06,
          3.6939477544801674e-06,
          3.629696335440093e-06,
          3.5652742705746174e-06,
          3.5007268586435295e-06,
          3.436098972342212e-06,
          3.371434996864154e-06,
          3.3067787702074093e-06,
          3.2421735253419574e-06,
          3.1776618343474253e-06,
          3.1132855546232246e-06,
          3.04908577726558e-06,
          2.9851027776979274e-06,
          2.9213759686332513e-06,
          2.8579438554389047e-06,
          2.7948439939663085e-06
         ],
         "yaxis": "y"
        }
       ],
       "layout": {
        "autosize": true,
        "barmode": "overlay",
        "hovermode": "closest",
        "legend": {
         "traceorder": "reversed"
        },
        "template": {
         "data": {
          "bar": [
           {
            "error_x": {
             "color": "#2a3f5f"
            },
            "error_y": {
             "color": "#2a3f5f"
            },
            "marker": {
             "line": {
              "color": "#E5ECF6",
              "width": 0.5
             },
             "pattern": {
              "fillmode": "overlay",
              "size": 10,
              "solidity": 0.2
             }
            },
            "type": "bar"
           }
          ],
          "barpolar": [
           {
            "marker": {
             "line": {
              "color": "#E5ECF6",
              "width": 0.5
             },
             "pattern": {
              "fillmode": "overlay",
              "size": 10,
              "solidity": 0.2
             }
            },
            "type": "barpolar"
           }
          ],
          "carpet": [
           {
            "aaxis": {
             "endlinecolor": "#2a3f5f",
             "gridcolor": "white",
             "linecolor": "white",
             "minorgridcolor": "white",
             "startlinecolor": "#2a3f5f"
            },
            "baxis": {
             "endlinecolor": "#2a3f5f",
             "gridcolor": "white",
             "linecolor": "white",
             "minorgridcolor": "white",
             "startlinecolor": "#2a3f5f"
            },
            "type": "carpet"
           }
          ],
          "choropleth": [
           {
            "colorbar": {
             "outlinewidth": 0,
             "ticks": ""
            },
            "type": "choropleth"
           }
          ],
          "contour": [
           {
            "colorbar": {
             "outlinewidth": 0,
             "ticks": ""
            },
            "colorscale": [
             [
              0,
              "#0d0887"
             ],
             [
              0.1111111111111111,
              "#46039f"
             ],
             [
              0.2222222222222222,
              "#7201a8"
             ],
             [
              0.3333333333333333,
              "#9c179e"
             ],
             [
              0.4444444444444444,
              "#bd3786"
             ],
             [
              0.5555555555555556,
              "#d8576b"
             ],
             [
              0.6666666666666666,
              "#ed7953"
             ],
             [
              0.7777777777777778,
              "#fb9f3a"
             ],
             [
              0.8888888888888888,
              "#fdca26"
             ],
             [
              1,
              "#f0f921"
             ]
            ],
            "type": "contour"
           }
          ],
          "contourcarpet": [
           {
            "colorbar": {
             "outlinewidth": 0,
             "ticks": ""
            },
            "type": "contourcarpet"
           }
          ],
          "heatmap": [
           {
            "colorbar": {
             "outlinewidth": 0,
             "ticks": ""
            },
            "colorscale": [
             [
              0,
              "#0d0887"
             ],
             [
              0.1111111111111111,
              "#46039f"
             ],
             [
              0.2222222222222222,
              "#7201a8"
             ],
             [
              0.3333333333333333,
              "#9c179e"
             ],
             [
              0.4444444444444444,
              "#bd3786"
             ],
             [
              0.5555555555555556,
              "#d8576b"
             ],
             [
              0.6666666666666666,
              "#ed7953"
             ],
             [
              0.7777777777777778,
              "#fb9f3a"
             ],
             [
              0.8888888888888888,
              "#fdca26"
             ],
             [
              1,
              "#f0f921"
             ]
            ],
            "type": "heatmap"
           }
          ],
          "heatmapgl": [
           {
            "colorbar": {
             "outlinewidth": 0,
             "ticks": ""
            },
            "colorscale": [
             [
              0,
              "#0d0887"
             ],
             [
              0.1111111111111111,
              "#46039f"
             ],
             [
              0.2222222222222222,
              "#7201a8"
             ],
             [
              0.3333333333333333,
              "#9c179e"
             ],
             [
              0.4444444444444444,
              "#bd3786"
             ],
             [
              0.5555555555555556,
              "#d8576b"
             ],
             [
              0.6666666666666666,
              "#ed7953"
             ],
             [
              0.7777777777777778,
              "#fb9f3a"
             ],
             [
              0.8888888888888888,
              "#fdca26"
             ],
             [
              1,
              "#f0f921"
             ]
            ],
            "type": "heatmapgl"
           }
          ],
          "histogram": [
           {
            "marker": {
             "pattern": {
              "fillmode": "overlay",
              "size": 10,
              "solidity": 0.2
             }
            },
            "type": "histogram"
           }
          ],
          "histogram2d": [
           {
            "colorbar": {
             "outlinewidth": 0,
             "ticks": ""
            },
            "colorscale": [
             [
              0,
              "#0d0887"
             ],
             [
              0.1111111111111111,
              "#46039f"
             ],
             [
              0.2222222222222222,
              "#7201a8"
             ],
             [
              0.3333333333333333,
              "#9c179e"
             ],
             [
              0.4444444444444444,
              "#bd3786"
             ],
             [
              0.5555555555555556,
              "#d8576b"
             ],
             [
              0.6666666666666666,
              "#ed7953"
             ],
             [
              0.7777777777777778,
              "#fb9f3a"
             ],
             [
              0.8888888888888888,
              "#fdca26"
             ],
             [
              1,
              "#f0f921"
             ]
            ],
            "type": "histogram2d"
           }
          ],
          "histogram2dcontour": [
           {
            "colorbar": {
             "outlinewidth": 0,
             "ticks": ""
            },
            "colorscale": [
             [
              0,
              "#0d0887"
             ],
             [
              0.1111111111111111,
              "#46039f"
             ],
             [
              0.2222222222222222,
              "#7201a8"
             ],
             [
              0.3333333333333333,
              "#9c179e"
             ],
             [
              0.4444444444444444,
              "#bd3786"
             ],
             [
              0.5555555555555556,
              "#d8576b"
             ],
             [
              0.6666666666666666,
              "#ed7953"
             ],
             [
              0.7777777777777778,
              "#fb9f3a"
             ],
             [
              0.8888888888888888,
              "#fdca26"
             ],
             [
              1,
              "#f0f921"
             ]
            ],
            "type": "histogram2dcontour"
           }
          ],
          "mesh3d": [
           {
            "colorbar": {
             "outlinewidth": 0,
             "ticks": ""
            },
            "type": "mesh3d"
           }
          ],
          "parcoords": [
           {
            "line": {
             "colorbar": {
              "outlinewidth": 0,
              "ticks": ""
             }
            },
            "type": "parcoords"
           }
          ],
          "pie": [
           {
            "automargin": true,
            "type": "pie"
           }
          ],
          "scatter": [
           {
            "fillpattern": {
             "fillmode": "overlay",
             "size": 10,
             "solidity": 0.2
            },
            "type": "scatter"
           }
          ],
          "scatter3d": [
           {
            "line": {
             "colorbar": {
              "outlinewidth": 0,
              "ticks": ""
             }
            },
            "marker": {
             "colorbar": {
              "outlinewidth": 0,
              "ticks": ""
             }
            },
            "type": "scatter3d"
           }
          ],
          "scattercarpet": [
           {
            "marker": {
             "colorbar": {
              "outlinewidth": 0,
              "ticks": ""
             }
            },
            "type": "scattercarpet"
           }
          ],
          "scattergeo": [
           {
            "marker": {
             "colorbar": {
              "outlinewidth": 0,
              "ticks": ""
             }
            },
            "type": "scattergeo"
           }
          ],
          "scattergl": [
           {
            "marker": {
             "colorbar": {
              "outlinewidth": 0,
              "ticks": ""
             }
            },
            "type": "scattergl"
           }
          ],
          "scattermapbox": [
           {
            "marker": {
             "colorbar": {
              "outlinewidth": 0,
              "ticks": ""
             }
            },
            "type": "scattermapbox"
           }
          ],
          "scatterpolar": [
           {
            "marker": {
             "colorbar": {
              "outlinewidth": 0,
              "ticks": ""
             }
            },
            "type": "scatterpolar"
           }
          ],
          "scatterpolargl": [
           {
            "marker": {
             "colorbar": {
              "outlinewidth": 0,
              "ticks": ""
             }
            },
            "type": "scatterpolargl"
           }
          ],
          "scatterternary": [
           {
            "marker": {
             "colorbar": {
              "outlinewidth": 0,
              "ticks": ""
             }
            },
            "type": "scatterternary"
           }
          ],
          "surface": [
           {
            "colorbar": {
             "outlinewidth": 0,
             "ticks": ""
            },
            "colorscale": [
             [
              0,
              "#0d0887"
             ],
             [
              0.1111111111111111,
              "#46039f"
             ],
             [
              0.2222222222222222,
              "#7201a8"
             ],
             [
              0.3333333333333333,
              "#9c179e"
             ],
             [
              0.4444444444444444,
              "#bd3786"
             ],
             [
              0.5555555555555556,
              "#d8576b"
             ],
             [
              0.6666666666666666,
              "#ed7953"
             ],
             [
              0.7777777777777778,
              "#fb9f3a"
             ],
             [
              0.8888888888888888,
              "#fdca26"
             ],
             [
              1,
              "#f0f921"
             ]
            ],
            "type": "surface"
           }
          ],
          "table": [
           {
            "cells": {
             "fill": {
              "color": "#EBF0F8"
             },
             "line": {
              "color": "white"
             }
            },
            "header": {
             "fill": {
              "color": "#C8D4E3"
             },
             "line": {
              "color": "white"
             }
            },
            "type": "table"
           }
          ]
         },
         "layout": {
          "annotationdefaults": {
           "arrowcolor": "#2a3f5f",
           "arrowhead": 0,
           "arrowwidth": 1
          },
          "autotypenumbers": "strict",
          "coloraxis": {
           "colorbar": {
            "outlinewidth": 0,
            "ticks": ""
           }
          },
          "colorscale": {
           "diverging": [
            [
             0,
             "#8e0152"
            ],
            [
             0.1,
             "#c51b7d"
            ],
            [
             0.2,
             "#de77ae"
            ],
            [
             0.3,
             "#f1b6da"
            ],
            [
             0.4,
             "#fde0ef"
            ],
            [
             0.5,
             "#f7f7f7"
            ],
            [
             0.6,
             "#e6f5d0"
            ],
            [
             0.7,
             "#b8e186"
            ],
            [
             0.8,
             "#7fbc41"
            ],
            [
             0.9,
             "#4d9221"
            ],
            [
             1,
             "#276419"
            ]
           ],
           "sequential": [
            [
             0,
             "#0d0887"
            ],
            [
             0.1111111111111111,
             "#46039f"
            ],
            [
             0.2222222222222222,
             "#7201a8"
            ],
            [
             0.3333333333333333,
             "#9c179e"
            ],
            [
             0.4444444444444444,
             "#bd3786"
            ],
            [
             0.5555555555555556,
             "#d8576b"
            ],
            [
             0.6666666666666666,
             "#ed7953"
            ],
            [
             0.7777777777777778,
             "#fb9f3a"
            ],
            [
             0.8888888888888888,
             "#fdca26"
            ],
            [
             1,
             "#f0f921"
            ]
           ],
           "sequentialminus": [
            [
             0,
             "#0d0887"
            ],
            [
             0.1111111111111111,
             "#46039f"
            ],
            [
             0.2222222222222222,
             "#7201a8"
            ],
            [
             0.3333333333333333,
             "#9c179e"
            ],
            [
             0.4444444444444444,
             "#bd3786"
            ],
            [
             0.5555555555555556,
             "#d8576b"
            ],
            [
             0.6666666666666666,
             "#ed7953"
            ],
            [
             0.7777777777777778,
             "#fb9f3a"
            ],
            [
             0.8888888888888888,
             "#fdca26"
            ],
            [
             1,
             "#f0f921"
            ]
           ]
          },
          "colorway": [
           "#636efa",
           "#EF553B",
           "#00cc96",
           "#ab63fa",
           "#FFA15A",
           "#19d3f3",
           "#FF6692",
           "#B6E880",
           "#FF97FF",
           "#FECB52"
          ],
          "font": {
           "color": "#2a3f5f"
          },
          "geo": {
           "bgcolor": "white",
           "lakecolor": "white",
           "landcolor": "#E5ECF6",
           "showlakes": true,
           "showland": true,
           "subunitcolor": "white"
          },
          "hoverlabel": {
           "align": "left"
          },
          "hovermode": "closest",
          "mapbox": {
           "style": "light"
          },
          "paper_bgcolor": "white",
          "plot_bgcolor": "#E5ECF6",
          "polar": {
           "angularaxis": {
            "gridcolor": "white",
            "linecolor": "white",
            "ticks": ""
           },
           "bgcolor": "#E5ECF6",
           "radialaxis": {
            "gridcolor": "white",
            "linecolor": "white",
            "ticks": ""
           }
          },
          "scene": {
           "xaxis": {
            "backgroundcolor": "#E5ECF6",
            "gridcolor": "white",
            "gridwidth": 2,
            "linecolor": "white",
            "showbackground": true,
            "ticks": "",
            "zerolinecolor": "white"
           },
           "yaxis": {
            "backgroundcolor": "#E5ECF6",
            "gridcolor": "white",
            "gridwidth": 2,
            "linecolor": "white",
            "showbackground": true,
            "ticks": "",
            "zerolinecolor": "white"
           },
           "zaxis": {
            "backgroundcolor": "#E5ECF6",
            "gridcolor": "white",
            "gridwidth": 2,
            "linecolor": "white",
            "showbackground": true,
            "ticks": "",
            "zerolinecolor": "white"
           }
          },
          "shapedefaults": {
           "line": {
            "color": "#2a3f5f"
           }
          },
          "ternary": {
           "aaxis": {
            "gridcolor": "white",
            "linecolor": "white",
            "ticks": ""
           },
           "baxis": {
            "gridcolor": "white",
            "linecolor": "white",
            "ticks": ""
           },
           "bgcolor": "#E5ECF6",
           "caxis": {
            "gridcolor": "white",
            "linecolor": "white",
            "ticks": ""
           }
          },
          "title": {
           "x": 0.05
          },
          "xaxis": {
           "automargin": true,
           "gridcolor": "white",
           "linecolor": "white",
           "ticks": "",
           "title": {
            "standoff": 15
           },
           "zerolinecolor": "white",
           "zerolinewidth": 2
          },
          "yaxis": {
           "automargin": true,
           "gridcolor": "white",
           "linecolor": "white",
           "ticks": "",
           "title": {
            "standoff": 15
           },
           "zerolinecolor": "white",
           "zerolinewidth": 2
          }
         }
        },
        "title": {
         "text": "Credit Card Transactions Time Density Plot"
        },
        "xaxis": {
         "anchor": "y2",
         "autorange": true,
         "domain": [
          0,
          1
         ],
         "range": [
          0,
          172446.416
         ],
         "title": {
          "text": "Time [s]"
         },
         "type": "linear",
         "zeroline": false
        },
        "yaxis": {
         "anchor": "free",
         "autorange": true,
         "domain": [
          0,
          1
         ],
         "position": 0,
         "range": [
          9.140473803863381e-07,
          9.3796604833095e-06
         ],
         "type": "linear"
        }
       }
      },
      "image/png": "[encoded data removed]",
      "text/html": [
       "<div>                            <div id=\"7b79a37f-ca64-407e-8125-47e6e75befa9\" class=\"plotly-graph-div\" style=\"height:525px; width:100%;\"></div>            <script type=\"text/javascript\">                require([\"plotly\"], function(Plotly) {                    window.PLOTLYENV=window.PLOTLYENV || {};                                    if (document.getElementById(\"7b79a37f-ca64-407e-8125-47e6e75befa9\")) {                    Plotly.newPlot(                        \"7b79a37f-ca64-407e-8125-47e6e75befa9\",                        [{\"legendgroup\":\"Not Fraud\",\"marker\":{\"color\":\"rgb(31, 119, 180)\"},\"mode\":\"lines\",\"name\":\"Not Fraud\",\"showlegend\":true,\"x\":[0.0,345.584,691.168,1036.752,1382.336,1727.92,2073.504,2419.088,2764.672,3110.256,3455.84,3801.424,4147.008,4492.592,4838.176,5183.76,5529.344,5874.928,6220.512,6566.096,6911.68,7257.264,7602.848,7948.432,8294.016,8639.6,8985.184,9330.768,9676.352,10021.936,10367.52,10713.104,11058.688,11404.272,11749.856,12095.44,12441.024,12786.608,13132.192,13477.776,13823.36,14168.944,14514.528,14860.112,15205.696,15551.28,15896.864,16242.448,16588.032,16933.616,17279.2,17624.784,17970.368,18315.952,18661.536,19007.12,19352.704,19698.288,20043.872,20389.456,20735.04,21080.624,21426.208,21771.792,22117.376,22462.96,22808.544,23154.128,23499.712,23845.296,24190.88,24536.464,24882.048,25227.632,25573.216,25918.8,26264.384,26609.968,26955.552,27301.136,27646.72,27992.304,28337.888,28683.472,29029.056,29374.64,29720.224,30065.808,30411.392,30756.976,31102.56,31448.144,31793.728,32139.312,32484.896,32830.48,33176.064,33521.648,33867.232,34212.816,34558.4,34903.984,35249.568,35595.152,35940.736,36286.32,36631.904,36977.488,37323.072,37668.656,38014.24,38359.824,38705.408,39050.992,39396.576,39742.16,40087.744,40433.328,40778.912,41124.496,41470.08,41815.664,42161.248,42506.832,42852.416,43198.0,43543.584,43889.168,44234.752,44580.336,44925.92,45271.504,45617.088,45962.672,46308.256,46653.84,46999.424,47345.008,47690.592,48036.176,48381.76,48727.344,49072.928,49418.512,49764.096,50109.68,50455.264,50800.848,51146.432,51492.016,51837.6,52183.184,52528.768,52874.352,53219.936,53565.52,53911.104,54256.688,54602.272,54947.856,55293.44,55639.024,55984.608,56330.192,56675.776,57021.36,57366.944,57712.528,58058.112,58403.696,58749.28,59094.864,59440.448,59786.032,60131.616,60477.2,60822.784,61168.368,61513.952,61859.536,62205.12,62550.704,62896.288,63241.872,63587.456,63933.04,64278.624,64624.208,64969.792,65315.376,65660.96,66006.544,66352.128,66697.712,67043.296,67388.88,67734.464,68080.048,68425.632,68771.216,69116.8,69462.384,69807.968,70153.552,70499.136,70844.72,71190.304,71535.888,71881.472,72227.056,72572.64,72918.224,73263.808,73609.392,73954.976,74300.56,74646.144,74991.728,75337.312,75682.896,76028.48,76374.064,76719.648,77065.232,77410.816,77756.4,78101.984,78447.568,78793.152,79138.736,79484.32,79829.904,80175.488,80521.072,80866.656,81212.24,81557.824,81903.408,82248.992,82594.576,82940.16,83285.744,83631.328,83976.912,84322.496,84668.08,85013.664,85359.248,85704.832,86050.416,86396.0,86741.584,87087.168,87432.752,87778.336,88123.92,88469.504,88815.088,89160.672,89506.256,89851.84,90197.424,90543.008,90888.592,91234.176,91579.76,91925.344,92270.928,92616.512,92962.096,93307.68,93653.264,93998.848,94344.432,94690.016,95035.6,95381.184,95726.768,96072.352,96417.936,96763.52,97109.104,97454.688,97800.272,98145.856,98491.44,98837.024,99182.608,99528.192,99873.776,100219.36,100564.944,100910.528,101256.112,101601.696,101947.28,102292.864,102638.448,102984.032,103329.616,103675.2,104020.784,104366.368,104711.952,105057.536,105403.12,105748.704,106094.288,106439.872,106785.456,107131.04,107476.624,107822.208,108167.792,108513.376,108858.96,109204.544,109550.128,109895.712,110241.296,110586.88,110932.464,111278.048,111623.632,111969.216,112314.8,112660.384,113005.968,113351.552,113697.136,114042.72,114388.304,114733.888,115079.472,115425.056,115770.64,116116.224,116461.808,116807.392,117152.976,117498.56,117844.144,118189.728,118535.312,118880.896,119226.48,119572.064,119917.648,120263.232,120608.816,120954.4,121299.984,121645.568,121991.152,122336.736,122682.32,123027.904,123373.488,123719.072,124064.656,124410.24,124755.824,125101.408,125446.992,125792.576,126138.16,126483.744,126829.328,127174.912,127520.496,127866.08,128211.664,128557.248,128902.832,129248.416,129594.0,129939.584,130285.168,130630.752,130976.336,131321.92,131667.504,132013.088,132358.672,132704.256,133049.84,133395.424,133741.008,134086.592,134432.176,134777.76,135123.344,135468.928,135814.512,136160.096,136505.68,136851.264,137196.848,137542.432,137888.016,138233.6,138579.184,138924.768,139270.352,139615.936,139961.52,140307.104,140652.688,140998.272,141343.856,141689.44,142035.024,142380.608,142726.192,143071.776,143417.36,143762.944,144108.528,144454.112,144799.696,145145.28,145490.864,145836.448,146182.032,146527.616,146873.2,147218.784,147564.368,147909.952,148255.536,148601.12,148946.704,149292.288,149637.872,149983.456,150329.04,150674.624,151020.208,151365.792,151711.376,152056.96,152402.544,152748.128,153093.712,153439.296,153784.88,154130.464,154476.048,154821.632,155167.216,155512.8,155858.384,156203.968,156549.552,156895.136,157240.72,157586.304,157931.888,158277.472,158623.056,158968.64,159314.224,159659.808,160005.392,160350.976,160696.56,161042.144,161387.728,161733.312,162078.896,162424.48,162770.064,163115.648,163461.232,163806.816,164152.4,164497.984,164843.568,165189.152,165534.736,165880.32,166225.904,166571.488,166917.072,167262.656,167608.24,167953.824,168299.408,168644.992,168990.576,169336.16,169681.744,170027.328,170372.912,170718.496,171064.08,171409.664,171755.248,172100.832,172446.416],\"xaxis\":\"x\",\"y\":[1.6922645070926794e-06,1.7839865880558606e-06,1.8697312301033472e-06,1.9484817638957603e-06,2.0193636764902542e-06,2.081670092288425e-06,2.1348813232316925e-06,2.1786775937693587e-06,2.212944376327651e-06,2.2377701363245475e-06,2.2534366603899116e-06,2.260402504951689e-06,2.2592804332939977e-06,2.250809988572004e-06,2.2358265627181648e-06,2.2152284559329005e-06,2.189943472851784e-06,2.1608965691700568e-06,2.1289799512000972e-06,2.0950268497834815e-06,2.0597899521602257e-06,2.0239251964985743e-06,1.9879813311094693e-06,1.952395331677641e-06,1.9174934722848177e-06,1.8834975751532673e-06,1.8505357330781475e-06,1.8186566176503423e-06,1.7878463624208082e-06,1.7580469464389092e-06,1.729174999928746e-06,1.7011400068608764e-06,1.6738609826069553e-06,1.647280850207091e-06,1.6213779158557573e-06,1.5961740417832349e-06,1.5717393212024268e-06,1.5481932640764439e-06,1.5257026936240244e-06,1.5044767225014941e-06,1.484759316900981e-06,1.466820060738372e-06,1.4509437970718012e-06,1.4374198484160818e-06,1.4265315023004254e-06,1.418546395792253e-06,1.41370834710133e-06,1.4122310695946287e-06,1.4142940706349018e-06,1.4200408925101606e-06,1.429579703726757e-06,1.4429861045693247e-06,1.46030787917906e-06,1.481571314781741e-06,1.5067886232087407e-06,1.5359659450135606e-06,1.569111394942831e-06,1.6062426198280974e-06,1.647393384559204e-06,1.6926187750037538e-06,1.7419987030598908e-06,1.7956395114573341e-06,1.8536735964640591e-06,1.9162570869002014e-06,1.98356572960293e-06,2.0557892273753727e-06,2.133124349536703e-06,2.2157671833892765e-06,2.3039049153466963e-06,2.39770752350167e-06,2.4973197317133304e-06,2.6028535234002724e-06,2.714381447250379e-06,2.8319308739663668e-06,2.955479290208557e-06,3.0849506498569383e-06,3.220212749290398e-06,3.3610755566228993e-06,3.5072904068121864e-06,3.658549975123472e-06,3.8144889583377294e-06,3.974685422225182e-06,4.138662809651787e-06,4.3058926399735354e-06,4.475797960771656e-06,4.647757631789469e-06,4.821111523788318e-06,4.995166699392864e-06,5.169204608477786e-06,5.342489279091002e-06,5.514276420334572e-06,5.6838232817052775e-06,5.8503990410083375e-06,6.0132954274250565e-06,6.171837234680982e-06,6.32539234752047e-06,6.473380897250612e-06,6.61528318120412e-06,6.750646026551184e-06,6.879087348514045e-06,7.000298742161451e-06,7.114046049291376e-06,7.2201679500611735e-06,7.318572735068401e-06,7.40923350982802e-06,7.492182163155508e-06,7.567502488341549e-06,7.63532287740322e-06,7.69580901237275e-06,7.749156953733893e-06,7.795586976926338e-06,7.835338437155835e-06,7.868665855700211e-06,7.895836323636171e-06,7.917128217945127e-06,7.932831126915845e-06,7.943246792887962e-06,7.948690806114358e-06,7.949494728411578e-06,7.946008292431129e-06,7.93860131364972e-06,7.927664967859275e-06,7.913612125787604e-06,7.896876496032767e-06,7.87791040379608e-06,7.85718112127008e-06,7.835165760349547e-06,7.812344833744959e-06,7.78919468068851e-06,7.766179032715822e-06,7.74374005873204e-06,7.72228927295645e-06,7.702198712018411e-06,7.683792787319082e-06,7.66734119626928e-06,7.653053232930087e-06,7.641073777898032e-06,7.631481172899078e-06,7.624287102042051e-06,7.619438513774205e-06,7.616821530027812e-06,7.6162672061547005e-06,7.617558930754119e-06,7.620441191352405e-06,7.6246293821863675e-06,7.629820295375927e-06,7.635702917056667e-06,7.641969145443645e-06,7.648324057749048e-06,7.654495376351644e-06,7.660241820404753e-06,7.665360075755332e-06,7.66969017197659e-06,7.673119118800137e-06,7.675582723097078e-06,7.677065579668809e-06,7.67759930173007e-06,7.677259127244249e-06,7.676159102059483e-06,7.674446096884458e-06,7.672292959345744e-06,7.669891131965576e-06,7.667443079640638e-06,7.665154864838676e-06,7.663229185002681e-06,7.661859145623881e-06,7.661222986441904e-06,7.661479910781411e-06,7.66276709377341e-06,7.665197869377023e-06,7.668861024408646e-06,7.673821065570142e-06,7.680119277648282e-06,7.687775361305979e-06,7.696789429394151e-06,7.707144152064957e-06,7.718806871616745e-06,7.731731554867813e-06,7.7458605090421e-06,7.761125850680016e-06,7.777450779289347e-06,7.794750761501642e-06,7.81293477130752e-06,7.831906752399447e-06,7.851567466638813e-06,7.871816866932458e-06,7.892557084603625e-06,7.913696054230379e-06,7.93515171836622e-06,7.956856667879907e-06,7.978762988960399e-06,8.000847013578426e-06,8.023113614246111e-06,8.045599652791125e-06,8.068376191089291e-06,8.091549101435127e-06,8.115257774785083e-06,8.139671713241396e-06,8.164984903228674e-06,8.1914079902341e-06,8.219158406097378e-06,8.248448726503583e-06,8.279473650922139e-06,8.312396092207975e-06,8.34733293267918e-06,8.384341044069855e-06,8.423404178937506e-06,8.464421321628099e-06,8.507197040441025e-06,8.551434313158456e-06,8.596730210475755e-06,8.642574721280049e-06,8.68835289503086e-06,8.733350364186944e-06,8.77676219721921e-06,8.817704923176797e-06,8.855231464130922e-06,8.8883486139475e-06,8.916036612330752e-06,8.937270283812778e-06,8.95104114455172e-06,8.956379828163342e-06,8.952378148467361e-06,8.938210105320947e-06,8.913151152693232e-06,8.876595088328835e-06,8.828067992976796e-06,8.767238743960785e-06,8.693925750508994e-06,8.608099702446848e-06,8.509882283172656e-06,8.39954096418704e-06,8.277480162605449e-06,8.144229195234322e-06,8.00042759352541e-06,7.84680844469894e-06,7.684180489058813e-06,7.513409728029406e-06,7.3354012804808094e-06,7.151082168224341e-06,6.961385619596824e-06,6.767237359709204e-06,6.569544215733808e-06,6.369185215236059e-06,6.167005204821817e-06,5.963810874613243e-06,5.760368949408297e-06,5.557406206247564e-06,5.355610904890383e-06,5.155635174661022e-06,4.958097888398882e-06,4.763587570171727e-06,4.5726649247256376e-06,4.3858646390724645e-06,4.203696185082261e-06,4.02664344118062e-06,3.8551630459555265e-06,3.68968149170942e-06,3.530591057262006e-06,3.3782447627310242e-06,3.232950601288184e-06,3.09496536135089e-06,2.9644883952000955e-06,2.8416557150814336e-06,2.7265348044263694e-06,2.6191205194935077e-06,2.5193324256277712e-06,2.427013863301876e-06,2.3419329737056704e-06,2.263785834229276e-06,2.192201763892746e-06,2.1267507615069883e-06,2.066952939647789e-06,2.0122897203855336e-06,1.9622164693339685e-06,1.9161761680444243e-06,1.8736136656897968e-06,1.8339900131669672e-06,1.7967963688638267e-06,1.7615669766639604e-06,1.727890753059799e-06,1.6954210796514154e-06,1.66388347651086e-06,1.6330809262719716e-06,1.6028967228165215e-06,1.5732948259508e-06,1.5443178083041869e-06,1.5160825769712004e-06,1.488774135058471e-06,1.4626377132870881e-06,1.4379696464599565e-06,1.4151073927015173e-06,1.394419095137929e-06,1.3762930676512557e-06,1.3611275512073419e-06,1.3493210385592857e-06,1.3412634069923376e-06,1.3373280355324962e-06,1.3378650189948496e-06,1.343195530352187e-06,1.353607328569759e-06,1.369351363964292e-06,1.390639399153096e-06,1.41764254170735e-06,1.4504905747577915e-06,1.4892719731797914e-06,1.534034503996412e-06,1.5847863279782995e-06,1.6414975423115112e-06,1.704102128518159e-06,1.7725002923739546e-06,1.8465612003089812e-06,1.926126127057255e-06,2.011012030113907e-06,2.101015556675437e-06,2.1959174680034253e-06,2.2954874354468282e-06,2.399489123701891e-06,2.5076854333111323e-06,2.61984372976029e-06,2.7357408453101315e-06,2.855167606584489e-06,2.977932620473153e-06,3.103865047081247e-06,3.232816104230413e-06,3.364659085038466e-06,3.4992877283768853e-06,3.636612859740923e-06,3.7765573137067863e-06,3.919049253436521e-06,4.0640141110528375e-06,4.211365477586423e-06,4.360995364746915e-06,4.512764335297491e-06,4.666492047582885e-06,4.821948777503992e-06,4.978848464641414e-06,5.13684377744927e-06,5.295523607081782e-06,5.4544132846767464e-06,5.612977679340889e-06,5.770627182006652e-06,5.926726423488549e-06,6.080605423717479e-06,6.231572733355382e-06,6.378930017908915e-06,6.521987455518675e-06,6.660079278009002e-06,6.792578783093921e-06,6.9189121835839875e-06,7.0385707339765615e-06,7.151120680318437e-06,7.25621070805609e-06,7.353576705609729e-06,7.443043808723381e-06,7.524525832431116e-06,7.5980223246437374e-06,7.663613580190882e-06,7.721454030950946e-06,7.77176447297227e-06,7.814823604236673e-06,7.850959328309251e-06,7.880540233083799e-06,7.903967585479423e-06,7.921668098842395e-06,7.934087637156303e-06,7.941685926313152e-06,7.94493225446594e-06,7.944302066733867e-06,7.94027429879216e-06,7.93332925210954e-06,7.923946792092745e-06,7.912604648813057e-06,7.89977661663895e-06,7.885930480988283e-06,7.871525543886465e-06,7.857009670872731e-06,7.842815835789117e-06,7.829358193116456e-06,7.817027756340806e-06,7.806187802509353e-06,7.7971691557654e-06,7.790265525058216e-06,7.785729083032663e-06,7.783766474594661e-06,7.784535435615811e-06,7.788142185747968e-06,7.794639735736343e-06,7.804027220248369e-06,7.816250333450637e-06,7.831202907622255e-06,7.848729636163501e-06,7.868629902618311e-06,7.890662637896326e-06,7.914552089970107e-06,7.939994355198424e-06,7.966664489488393e-06,7.994223992179088e-06,8.022328437261248e-06,8.050635016680455e-06,8.078809760120649e-06,8.106534205563696e-06,8.133511315310823e-06,8.159470462658378e-06,8.184171354003686e-06,8.20740679804714e-06,8.229004285648129e-06,8.248826397818191e-06,8.26677011216125e-06,8.282765126431262e-06,8.296771358589373e-06,8.30877581311691e-06,8.318789021201581e-06,8.326841266624844e-06,8.332978799510987e-06,8.337260217471035e-06,8.339753160034774e-06,8.340531420544763e-06,8.339672533493364e-06,8.337255848667752e-06,8.333361060638295e-06,8.328067126779801e-06,8.321451482465385e-06,8.31358945037382e-06,8.304553742894148e-06,8.29441397199064e-06,8.28323610759765e-06,8.271081860574726e-06,8.258008005281555e-06,8.24406569520378e-06,8.229299857937324e-06,8.213748778706266e-06,8.197443991009971e-06,8.18041058655728e-06,8.162668033924049e-06,8.144231557378713e-06,8.125114077017383e-06,8.105328653123663e-06,8.084891316934014e-06,8.06382411291921e-06,8.042158130145351e-06,8.019936267795671e-06,7.997215466506863e-06,7.974068145403403e-06,7.95058261508573e-06,7.926862287913088e-06,7.903023575331639e-06,7.879192442784702e-06,7.855499679850716e-06,7.832075030030922e-06,7.809040404479314e-06,7.786502470983251e-06,7.764544958795045e-06,7.743221048149882e-06,7.722546218791658e-06,7.70249191463272e-06,7.682980343496188e-06,7.663880674730034e-06,7.645006827511078e-06,7.626116963535295e-06,7.606914714589614e-06,7.587052093110553e-06,7.566133956798868e-06,7.5437238306213915e-06,7.519350834276867e-06,7.492517422860139e-06,7.462707624595227e-06,7.429395452958075e-06,7.392053181335149e-06,7.350159195923286e-06,7.303205185555055e-06,7.250702483531976e-06,7.1921874436655526e-06,7.127225807225591e-06,7.055416095342074e-06,6.976392138068602e-06,6.88982492175158e-06,6.795423995435456e-06,6.6929387196699195e-06,6.582159662715974e-06,6.462920446133705e-06,6.3351003117678215e-06,6.198627624688274e-06,6.053484443211353e-06,5.899712181471712e-06,5.737418268119191e-06,5.566783574576807e-06,5.388070257500162e-06,5.201629543151242e-06,5.007908887004785e-06,4.807457879944492e-06,4.60093225106056e-06,4.389095341936155e-06,4.1728165007218595e-06,3.953065964797899e-06,3.7309059630670366e-06,3.507477963836825e-06,3.2839862096295107e-06,3.0616779016088922e-06,2.8418206079935086e-06],\"yaxis\":\"y\",\"type\":\"scatter\"},{\"legendgroup\":\"Fraud\",\"marker\":{\"color\":\"rgb(255, 127, 14)\"},\"mode\":\"lines\",\"name\":\"Fraud\",\"showlegend\":true,\"x\":[406.0,745.884,1085.768,1425.652,1765.536,2105.42,2445.304,2785.188,3125.072,3464.956,3804.84,4144.724,4484.608,4824.492,5164.376,5504.26,5844.144,6184.028,6523.912,6863.796,7203.68,7543.564,7883.448,8223.332,8563.216,8903.1,9242.984,9582.868,9922.752,10262.636,10602.52,10942.404,11282.288,11622.172,11962.056,12301.94,12641.824,12981.708,13321.592,13661.476,14001.36,14341.244,14681.128,15021.012,15360.896,15700.78,16040.664,16380.548,16720.432,17060.316,17400.2,17740.084,18079.968,18419.852,18759.736,19099.62,19439.504,19779.388,20119.272,20459.156,20799.04,21138.924,21478.808,21818.692,22158.576,22498.46,22838.344,23178.228,23518.112,23857.996,24197.88,24537.764,24877.648,25217.532,25557.416,25897.3,26237.184,26577.068,26916.952,27256.836,27596.72,27936.604,28276.488,28616.372,28956.256,29296.14,29636.024,29975.908,30315.792,30655.676,30995.56,31335.444,31675.328,32015.212,32355.096,32694.98,33034.864,33374.748,33714.632,34054.516,34394.4,34734.284,35074.168,35414.052,35753.936,36093.82,36433.704,36773.588,37113.472,37453.356,37793.24,38133.124,38473.008,38812.892,39152.776,39492.66,39832.544,40172.428,40512.312,40852.196,41192.08,41531.964,41871.848,42211.732,42551.616,42891.5,43231.384,43571.268,43911.152,44251.036,44590.92,44930.804,45270.688,45610.572,45950.456,46290.34,46630.224,46970.108,47309.992,47649.876,47989.76,48329.644,48669.528,49009.412,49349.296,49689.18,50029.064,50368.948,50708.832,51048.716,51388.6,51728.484,52068.368,52408.252,52748.136,53088.02,53427.904,53767.788,54107.672,54447.556,54787.44,55127.324,55467.208,55807.092,56146.976,56486.86,56826.744,57166.628,57506.512,57846.396,58186.28,58526.164,58866.048,59205.932,59545.816,59885.7,60225.584,60565.468,60905.352,61245.236,61585.12,61925.004,62264.888,62604.772,62944.656,63284.54,63624.424,63964.308,64304.192,64644.076,64983.96,65323.844,65663.728,66003.612,66343.496,66683.38,67023.264,67363.148,67703.032,68042.916,68382.8,68722.684,69062.568,69402.452,69742.336,70082.22,70422.104,70761.988,71101.872,71441.756,71781.64,72121.524,72461.408,72801.292,73141.176,73481.06,73820.944,74160.828,74500.712,74840.596,75180.48,75520.364,75860.248,76200.132,76540.016,76879.9,77219.784,77559.668,77899.552,78239.436,78579.32,78919.204,79259.088,79598.972,79938.856,80278.74,80618.624,80958.508,81298.392,81638.276,81978.16,82318.044,82657.928,82997.812,83337.696,83677.58,84017.464,84357.348,84697.232,85037.116,85377.0,85716.884,86056.768,86396.652,86736.536,87076.42,87416.304,87756.188,88096.072,88435.956,88775.84,89115.724,89455.608,89795.492,90135.376,90475.26,90815.144,91155.028,91494.912,91834.796,92174.68,92514.564,92854.448,93194.332,93534.216,93874.1,94213.984,94553.868,94893.752,95233.636,95573.52,95913.404,96253.288,96593.172,96933.056,97272.94,97612.824,97952.708,98292.592,98632.476,98972.36,99312.244,99652.128,99992.012,100331.896,100671.78,101011.664,101351.548,101691.432,102031.316,102371.2,102711.084,103050.968,103390.852,103730.736,104070.62,104410.504,104750.388,105090.272,105430.156,105770.04,106109.924,106449.808,106789.692,107129.576,107469.46,107809.344,108149.228,108489.112,108828.996,109168.88,109508.764,109848.648,110188.532,110528.416,110868.3,111208.184,111548.068,111887.952,112227.836,112567.72,112907.604,113247.488,113587.372,113927.256,114267.14,114607.024,114946.908,115286.792,115626.676,115966.56,116306.444,116646.328,116986.212,117326.096,117665.98,118005.864,118345.748,118685.632,119025.516,119365.4,119705.284,120045.168,120385.052,120724.936,121064.82,121404.704,121744.588,122084.472,122424.356,122764.24,123104.124,123444.008,123783.892,124123.776,124463.66,124803.544,125143.428,125483.312,125823.196,126163.08,126502.964,126842.848,127182.732,127522.616,127862.5,128202.384,128542.268,128882.152,129222.036,129561.92,129901.804,130241.688,130581.572,130921.456,131261.34,131601.224,131941.108,132280.992,132620.876,132960.76,133300.644,133640.528,133980.412,134320.296,134660.18,135000.064,135339.948,135679.832,136019.716,136359.6,136699.484,137039.368,137379.252,137719.136,138059.02,138398.904,138738.788,139078.672,139418.556,139758.44,140098.324,140438.208,140778.092,141117.976,141457.86,141797.744,142137.628,142477.512,142817.396,143157.28,143497.164,143837.048,144176.932,144516.816,144856.7,145196.584,145536.468,145876.352,146216.236,146556.12,146896.004,147235.888,147575.772,147915.656,148255.54,148595.424,148935.308,149275.192,149615.076,149954.96,150294.844,150634.728,150974.612,151314.496,151654.38,151994.264,152334.148,152674.032,153013.916,153353.8,153693.684,154033.568,154373.452,154713.336,155053.22,155393.104,155732.988,156072.872,156412.756,156752.64,157092.524,157432.408,157772.292,158112.176,158452.06,158791.944,159131.828,159471.712,159811.596,160151.48,160491.364,160831.248,161171.132,161511.016,161850.9,162190.784,162530.668,162870.552,163210.436,163550.32,163890.204,164230.088,164569.972,164909.856,165249.74,165589.624,165929.508,166269.392,166609.276,166949.16,167289.044,167628.928,167968.812,168308.696,168648.58,168988.464,169328.348,169668.232,170008.116],\"xaxis\":\"x\",\"y\":[2.689280613819604e-06,2.7489188184834148e-06,2.808849075456263e-06,2.8690440474353256e-06,2.929476381232279e-06,2.990118767057345e-06,3.0509439975818376e-06,3.1119250265563234e-06,3.1730350267613456e-06,3.2342474470677984e-06,3.295536068385822e-06,3.3568750582833507e-06,3.4182390240592646e-06,3.479603064060487e-06,3.5409428170380924e-06,3.6022345093440116e-06,3.663454999777634e-06,3.7245818218999076e-06,3.7855932236422245e-06,3.846468204047545e-06,3.9071865469923835e-06,3.967728851750256e-06,4.028076560269915e-06,4.0882119810547525e-06,4.148118309544261e-06,4.207779644912397e-06,4.267181003212845e-06,4.326308326817125e-06,4.385148490106322e-06,4.4436893013939994e-06,4.501919501073789e-06,4.559828756001512e-06,4.617407650138064e-06,4.674647671495618e-06,4.7315411954460755e-06,4.788081464466378e-06,4.844262564411427e-06,4.9000793974203575e-06,4.955527651577307e-06,5.010603767461687e-06,5.065304901737641e-06,5.11962888794474e-06,5.173574194665296e-06,5.227139881254776e-06,5.280325551333551e-06,5.333131304247287e-06,5.385557684713448e-06,5.437605630878999e-06,5.489276421021473e-06,5.540571619132393e-06,5.591493019626294e-06,5.6420425914230976e-06,5.692222421654343e-06,5.742034659245265e-06,5.791481458625832e-06,5.840564923822548e-06,5.889287053182005e-06,5.937649684973555e-06,5.985654444115137e-06,6.0333026902610044e-06,6.080595467483818e-06,6.12753345577699e-06,6.174116924594398e-06,6.220345688635679e-06,6.26621906607557e-06,6.311735839424287e-06,6.3568942191945715e-06,6.401691810538299e-06,6.446125583002558e-06,6.490191843540595e-06,6.533886212899507e-06,6.577203605490493e-06,6.6201382128329464e-06,6.662683490647146e-06,6.704832149654705e-06,6.746576150129165e-06,6.7879067002229924e-06,6.8288142580803966e-06,6.86928853772896e-06,6.909318518726693e-06,6.948892459524373e-06,6.987997914487685e-06,7.026621754507175e-06,7.064750191109208e-06,7.102368803965774e-06,7.139462571686889e-06,7.176015905765453e-06,7.212012687531182e-06,7.2474363079579036e-06,7.282269710156701e-06,7.316495434376825e-06,7.350095665325978e-06,7.38305228161273e-06,7.4153469071057605e-06,7.446960963997312e-06,7.477875727352351e-06,7.508072380919878e-06,7.537532073978567e-06,7.566235978986498e-06,7.594165349802447e-06,7.621301580245763e-06,7.647626262762143e-06,7.673121246963955e-06,7.697768697816264e-06,7.721551153243514e-06,7.74445158093584e-06,7.766453434140062e-06,7.787540706226306e-06,7.80769798382947e-06,7.826910498371659e-06,7.845164175782263e-06,7.862445684241091e-06,7.878742479780776e-06,7.89404284959635e-06,7.908335952920627e-06,7.92161185933722e-06,7.933861584415358e-06,7.945077122563231e-06,7.95525147701095e-06,7.964378686846833e-06,7.97245385104498e-06,7.979473149435558e-06,7.98543386058343e-06,7.990334376553794e-06,7.994174214557714e-06,7.996954025483212e-06,7.998675599331035e-06,7.999341867586424e-06,7.99895690257084e-06,7.997525913829106e-06,7.995055241618645e-06,7.991552347578349e-06,7.987025802663805e-06,7.981485272446135e-06,7.974941499878838e-06,7.967406285645674e-06,7.958892466209418e-06,7.949413889687083e-06,7.938985389682832e-06,7.927622757214497e-06,7.915342710872095e-06,7.902162865350839e-06,7.888101698501952e-06,7.873178517046124e-06,7.857413421094047e-06,7.840827267618417e-06,7.823441633019954e-06,7.805278774927536e-06,7.786361593370104e-06,7.766713591453793e-06,7.74635883567355e-06,7.725321915983834e-06,7.703627905746987e-06,7.681302321672016e-06,7.658371083850516e-06,7.634860475988372e-06,7.610797105926347e-06,7.586207866533255e-06,7.561119897049374e-06,7.535560544948525e-06,7.509557328380193e-06,7.483137899244276e-06,7.4563300069435175e-06,7.429161462850435e-06,7.401660105517764e-06,7.373853766653977e-06,7.345770237877561e-06,7.317437238257282e-06,7.2888823826381974e-06,7.260133150747294e-06,7.2312168570662845e-06,7.202160621453868e-06,7.172991340494413e-06,7.143735659545856e-06,7.114419945455354e-06,7.085070259907953e-06,7.055712333370817e-06,7.026371539593248e-06,6.997072870621032e-06,6.967840912283096e-06,6.938699820107405e-06,6.909673295624009e-06,6.880784563013348e-06,6.8520563460599215e-06,6.823510845372887e-06,6.795169715838164e-06,6.767054044269465e-06,6.73918432722919e-06,6.711580448994539e-06,6.684261659648196e-06,6.657246553278179e-06,6.6305530462767865e-06,6.604198355733654e-06,6.5781989779244255e-06,6.552570666902236e-06,6.527328413205598e-06,6.5024864227028045e-06,6.478058095599308e-06,6.454056005641474e-06,6.430491879555989e-06,6.4073765767717965e-06,6.384720069476668e-06,6.362531423067731e-06,6.340818777060868e-06,6.319589326529872e-06,6.298849304151883e-06,6.278603962940554e-06,6.258857559753761e-06,6.239613339666533e-06,6.220873521304125e-06,6.2026392832338345e-06,6.1849107515166244e-06,6.167686988522538e-06,6.150965983115401e-06,6.134744642313477e-06,6.119018784533718e-06,6.103783134526688e-06,6.089031320108739e-06,6.074755870796798e-06,6.060948218448516e-06,6.047598700008381e-06,6.034696562456225e-06,6.022229970051049e-06,6.0101860139576805e-06,5.998550724338632e-06,5.9873090849869846e-06,5.976445050569782e-06,5.965941566543191e-06,5.955780591793505e-06,5.945943124048745e-06,5.936409228096722e-06,5.9271580668356996e-06,5.918167935173789e-06,5.909416296782264e-06,5.900879823697441e-06,5.892534438754246e-06,5.8843553608230126e-06,5.8763171528093945e-06,5.868393772365018e-06,5.8605586252447286e-06,5.852784621233773e-06,5.8450442325561986e-06,5.837309554663701e-06,5.829552369291818e-06,5.821744209658931e-06,5.813856427671394e-06,5.805860262987227e-06,5.797726913779431e-06,5.789427609029744e-06,5.780933682173252e-06,5.7722166459049155e-06,5.763248267949778e-06,5.7540006475907655e-06,5.744446292739685e-06,5.734558197330534e-06,5.72430991880802e-06,5.713675655478528e-06,5.702630323486865e-06,5.691149633177917e-06,5.679210164600172e-06,5.666789441906204e-06,5.653866006404393e-06,5.640419488016624e-06,5.626430674897833e-06,5.611881580975791e-06,5.596755511172537e-06,5.581037124073433e-06,5.564712491815186e-06,5.547769156970378e-06,5.530196186213529e-06,5.5119842205618995e-06,5.493125521993673e-06,5.473614016255988e-06,5.453445331686629e-06,5.432616833884787e-06,5.411127656079047e-06,5.388978725053971e-06,5.366172782510904e-06,5.342714401752975e-06,5.318609999599757e-06,5.293867843452589e-06,5.268498053447721e-06,5.242512599651056e-06,5.215925294264952e-06,5.1887517788345235e-06,5.161009506458212e-06,5.1327177190245415e-06,5.103897419514066e-06,5.0745713394229515e-06,5.0447639013813425e-06,5.014501177056677e-06,4.983810840448368e-06,4.952722116696405e-06,4.92126572654219e-06,4.8894738265949094e-06,4.857379945571241e-06,4.825018916690185e-06,4.792426806417961e-06,4.759640839770249e-06,4.7266993223908336e-06,4.693641559636015e-06,4.660507772904596e-06,4.627339013461526e-06,4.594177074011401e-06,4.561064398284895e-06,4.528043988906927e-06,4.495159313819968e-06,4.462454211539821e-06,4.4299727955233745e-06,4.397759357929559e-06,4.365858273054877e-06,4.334313900724112e-06,4.303170489915112e-06,4.2724720828931915e-06,4.2422624201272824e-06,4.21258484625422e-06,4.183482217352141e-06,4.154996809776395e-06,4.127170230803878e-06,4.100043331322464e-06,4.073656120792727e-06,4.048047684698609e-06,4.023256104692414e-06,3.999318381627618e-06,3.97627036166039e-06,3.954146665587666e-06,3.932980621576003e-06,3.912804201421185e-06,3.893647960464576e-06,3.875540981276927e-06,3.858510821205843e-06,3.842583463867863e-06,3.827783274650755e-06,3.814132960276675e-06,3.801653532461473e-06,3.7903642756904283e-06,3.7802827191159276e-06,3.7714246125678135e-06,3.7638039066530178e-06,3.757432736907098e-06,3.7523214119467888e-06,3.7484784055598186e-06,3.745910352655695e-06,3.744622048989487e-06,3.7446164545592707e-06,3.745894700567694e-06,3.7484560998280936e-06,3.752298160486899e-06,3.757416602925652e-06,3.7638053796988636e-06,3.771456698357296e-06,3.7803610470006896e-06,3.7905072223993037e-06,3.8018823605197165e-06,3.8144719692875214e-06,3.8282599634173805e-06,3.843228701139953e-06,3.859359022654833e-06,3.876630290139343e-06,3.895020429144416e-06,3.914505971211308e-06,3.93506209754569e-06,3.9566626835899085e-06,3.979280344338452e-06,4.0028864802473805e-06,4.027451323594027e-06,4.05294398515015e-06,4.079332501038764e-06,4.1065838796523995e-06,4.134664148518869e-06,4.163538401008793e-06,4.193170842788237e-06,4.223524837928749e-06,4.254562954596432e-06,4.286247010251146e-06,4.31853811629651e-06,4.351396722130993e-06,4.384782658559774e-06,4.41865518053681e-06,4.452973009215466e-06,4.487694373295551e-06,4.5227770496631194e-06,4.558178403328055e-06,4.593855426672507e-06,4.6297647780309845e-06,4.66586281963001e-06,4.7021056549221095e-06,4.73844916535484e-06,4.774849046621208e-06,4.811260844442693e-06,4.84763998994032e-06,4.883941834652787e-06,4.920121685263427e-06,4.956134838100098e-06,4.991936613473216e-06,5.027482389918029e-06,5.062727638407103e-06,5.097627956598031e-06,5.132139103180107e-06,5.166217032381233e-06,5.199817928693449e-06,5.232898241871984e-06,5.265414722258339e-06,5.297324456473115e-06,5.328584903518824e-06,5.359153931327117e-06,5.388989853778099e-06,5.418051468212816e-06,5.446298093452469e-06,5.473689608330444e-06,5.500186490734999e-06,5.525749857152772e-06,5.550341502694402e-06,5.573923941575347e-06,5.596460448016557e-06,5.6179150975208194e-06,5.63825280847236e-06,5.65743938399893e-06,5.675441554027296e-06,5.692227017455279e-06,5.707764484355804e-06,5.722023718121023e-06,5.73497557744797e-06,5.746592058060507e-06,5.7568463340565134e-06,5.765712798763972e-06,5.7731671049845955e-06,5.779186204499733e-06,5.783748386709515e-06,5.78683331627357e-06,5.788422069619406e-06,5.788497170183163e-06,5.787042622246826e-06,5.784043943236049e-06,5.779488194343649e-06,5.773364009345334e-06,5.765661621476771e-06,5.756372888244106e-06,5.7454913140439914e-06,5.733012070473624e-06,5.71893201421684e-06,5.70324970239793e-06,5.685965405301831e-06,5.667081116366162e-06,5.646600559358646e-06,5.6245291926617395e-06,5.600874210594882e-06,5.575644541714299e-06,5.54885084403982e-06,5.5205054971681384e-06,5.490622591242166e-06,5.459217912756868e-06,5.426308927192461e-06,5.391914758476683e-06,5.3560561652889276e-06,5.318755514229744e-06,5.280036749890185e-06,5.239925361866282e-06,5.198448348774503e-06,5.155634179334415e-06,5.111512750595295e-06,5.066115343392704e-06,5.019474575131244e-06,4.971624349998351e-06,4.922599806722963e-06,4.872437264001004e-06,4.821174163717431e-06,4.768849012101723e-06,4.715501318960387e-06,4.6611715351358905e-06,4.605900988347152e-06,4.5497318175711886e-06,4.492706906129732e-06,4.434869813648253e-06,4.376264707057342e-06,4.316936290808671e-06,4.256929736479233e-06,4.196290611938253e-06,4.135064810251237e-06,4.073298478495188e-06,4.0110379466577715e-06,3.948329656791433e-06,3.885220092590907e-06,3.821755709559852e-06,3.7579828659284958e-06,3.6939477544801674e-06,3.629696335440093e-06,3.5652742705746174e-06,3.5007268586435295e-06,3.436098972342212e-06,3.371434996864154e-06,3.3067787702074093e-06,3.2421735253419574e-06,3.1776618343474253e-06,3.1132855546232246e-06,3.04908577726558e-06,2.9851027776979274e-06,2.9213759686332513e-06,2.8579438554389047e-06,2.7948439939663085e-06],\"yaxis\":\"y\",\"type\":\"scatter\"}],                        {\"barmode\":\"overlay\",\"hovermode\":\"closest\",\"legend\":{\"traceorder\":\"reversed\"},\"template\":{\"data\":{\"barpolar\":[{\"marker\":{\"line\":{\"color\":\"#E5ECF6\",\"width\":0.5},\"pattern\":{\"fillmode\":\"overlay\",\"size\":10,\"solidity\":0.2}},\"type\":\"barpolar\"}],\"bar\":[{\"error_x\":{\"color\":\"#2a3f5f\"},\"error_y\":{\"color\":\"#2a3f5f\"},\"marker\":{\"line\":{\"color\":\"#E5ECF6\",\"width\":0.5},\"pattern\":{\"fillmode\":\"overlay\",\"size\":10,\"solidity\":0.2}},\"type\":\"bar\"}],\"carpet\":[{\"aaxis\":{\"endlinecolor\":\"#2a3f5f\",\"gridcolor\":\"white\",\"linecolor\":\"white\",\"minorgridcolor\":\"white\",\"startlinecolor\":\"#2a3f5f\"},\"baxis\":{\"endlinecolor\":\"#2a3f5f\",\"gridcolor\":\"white\",\"linecolor\":\"white\",\"minorgridcolor\":\"white\",\"startlinecolor\":\"#2a3f5f\"},\"type\":\"carpet\"}],\"choropleth\":[{\"colorbar\":{\"outlinewidth\":0,\"ticks\":\"\"},\"type\":\"choropleth\"}],\"contourcarpet\":[{\"colorbar\":{\"outlinewidth\":0,\"ticks\":\"\"},\"type\":\"contourcarpet\"}],\"contour\":[{\"colorbar\":{\"outlinewidth\":0,\"ticks\":\"\"},\"colorscale\":[[0.0,\"#0d0887\"],[0.1111111111111111,\"#46039f\"],[0.2222222222222222,\"#7201a8\"],[0.3333333333333333,\"#9c179e\"],[0.4444444444444444,\"#bd3786\"],[0.5555555555555556,\"#d8576b\"],[0.6666666666666666,\"#ed7953\"],[0.7777777777777778,\"#fb9f3a\"],[0.8888888888888888,\"#fdca26\"],[1.0,\"#f0f921\"]],\"type\":\"contour\"}],\"heatmapgl\":[{\"colorbar\":{\"outlinewidth\":0,\"ticks\":\"\"},\"colorscale\":[[0.0,\"#0d0887\"],[0.1111111111111111,\"#46039f\"],[0.2222222222222222,\"#7201a8\"],[0.3333333333333333,\"#9c179e\"],[0.4444444444444444,\"#bd3786\"],[0.5555555555555556,\"#d8576b\"],[0.6666666666666666,\"#ed7953\"],[0.7777777777777778,\"#fb9f3a\"],[0.8888888888888888,\"#fdca26\"],[1.0,\"#f0f921\"]],\"type\":\"heatmapgl\"}],\"heatmap\":[{\"colorbar\":{\"outlinewidth\":0,\"ticks\":\"\"},\"colorscale\":[[0.0,\"#0d0887\"],[0.1111111111111111,\"#46039f\"],[0.2222222222222222,\"#7201a8\"],[0.3333333333333333,\"#9c179e\"],[0.4444444444444444,\"#bd3786\"],[0.5555555555555556,\"#d8576b\"],[0.6666666666666666,\"#ed7953\"],[0.7777777777777778,\"#fb9f3a\"],[0.8888888888888888,\"#fdca26\"],[1.0,\"#f0f921\"]],\"type\":\"heatmap\"}],\"histogram2dcontour\":[{\"colorbar\":{\"outlinewidth\":0,\"ticks\":\"\"},\"colorscale\":[[0.0,\"#0d0887\"],[0.1111111111111111,\"#46039f\"],[0.2222222222222222,\"#7201a8\"],[0.3333333333333333,\"#9c179e\"],[0.4444444444444444,\"#bd3786\"],[0.5555555555555556,\"#d8576b\"],[0.6666666666666666,\"#ed7953\"],[0.7777777777777778,\"#fb9f3a\"],[0.8888888888888888,\"#fdca26\"],[1.0,\"#f0f921\"]],\"type\":\"histogram2dcontour\"}],\"histogram2d\":[{\"colorbar\":{\"outlinewidth\":0,\"ticks\":\"\"},\"colorscale\":[[0.0,\"#0d0887\"],[0.1111111111111111,\"#46039f\"],[0.2222222222222222,\"#7201a8\"],[0.3333333333333333,\"#9c179e\"],[0.4444444444444444,\"#bd3786\"],[0.5555555555555556,\"#d8576b\"],[0.6666666666666666,\"#ed7953\"],[0.7777777777777778,\"#fb9f3a\"],[0.8888888888888888,\"#fdca26\"],[1.0,\"#f0f921\"]],\"type\":\"histogram2d\"}],\"histogram\":[{\"marker\":{\"pattern\":{\"fillmode\":\"overlay\",\"size\":10,\"solidity\":0.2}},\"type\":\"histogram\"}],\"mesh3d\":[{\"colorbar\":{\"outlinewidth\":0,\"ticks\":\"\"},\"type\":\"mesh3d\"}],\"parcoords\":[{\"line\":{\"colorbar\":{\"outlinewidth\":0,\"ticks\":\"\"}},\"type\":\"parcoords\"}],\"pie\":[{\"automargin\":true,\"type\":\"pie\"}],\"scatter3d\":[{\"line\":{\"colorbar\":{\"outlinewidth\":0,\"ticks\":\"\"}},\"marker\":{\"colorbar\":{\"outlinewidth\":0,\"ticks\":\"\"}},\"type\":\"scatter3d\"}],\"scattercarpet\":[{\"marker\":{\"colorbar\":{\"outlinewidth\":0,\"ticks\":\"\"}},\"type\":\"scattercarpet\"}],\"scattergeo\":[{\"marker\":{\"colorbar\":{\"outlinewidth\":0,\"ticks\":\"\"}},\"type\":\"scattergeo\"}],\"scattergl\":[{\"marker\":{\"colorbar\":{\"outlinewidth\":0,\"ticks\":\"\"}},\"type\":\"scattergl\"}],\"scattermapbox\":[{\"marker\":{\"colorbar\":{\"outlinewidth\":0,\"ticks\":\"\"}},\"type\":\"scattermapbox\"}],\"scatterpolargl\":[{\"marker\":{\"colorbar\":{\"outlinewidth\":0,\"ticks\":\"\"}},\"type\":\"scatterpolargl\"}],\"scatterpolar\":[{\"marker\":{\"colorbar\":{\"outlinewidth\":0,\"ticks\":\"\"}},\"type\":\"scatterpolar\"}],\"scatter\":[{\"fillpattern\":{\"fillmode\":\"overlay\",\"size\":10,\"solidity\":0.2},\"type\":\"scatter\"}],\"scatterternary\":[{\"marker\":{\"colorbar\":{\"outlinewidth\":0,\"ticks\":\"\"}},\"type\":\"scatterternary\"}],\"surface\":[{\"colorbar\":{\"outlinewidth\":0,\"ticks\":\"\"},\"colorscale\":[[0.0,\"#0d0887\"],[0.1111111111111111,\"#46039f\"],[0.2222222222222222,\"#7201a8\"],[0.3333333333333333,\"#9c179e\"],[0.4444444444444444,\"#bd3786\"],[0.5555555555555556,\"#d8576b\"],[0.6666666666666666,\"#ed7953\"],[0.7777777777777778,\"#fb9f3a\"],[0.8888888888888888,\"#fdca26\"],[1.0,\"#f0f921\"]],\"type\":\"surface\"}],\"table\":[{\"cells\":{\"fill\":{\"color\":\"#EBF0F8\"},\"line\":{\"color\":\"white\"}},\"header\":{\"fill\":{\"color\":\"#C8D4E3\"},\"line\":{\"color\":\"white\"}},\"type\":\"table\"}]},\"layout\":{\"annotationdefaults\":{\"arrowcolor\":\"#2a3f5f\",\"arrowhead\":0,\"arrowwidth\":1},\"autotypenumbers\":\"strict\",\"coloraxis\":{\"colorbar\":{\"outlinewidth\":0,\"ticks\":\"\"}},\"colorscale\":{\"diverging\":[[0,\"#8e0152\"],[0.1,\"#c51b7d\"],[0.2,\"#de77ae\"],[0.3,\"#f1b6da\"],[0.4,\"#fde0ef\"],[0.5,\"#f7f7f7\"],[0.6,\"#e6f5d0\"],[0.7,\"#b8e186\"],[0.8,\"#7fbc41\"],[0.9,\"#4d9221\"],[1,\"#276419\"]],\"sequential\":[[0.0,\"#0d0887\"],[0.1111111111111111,\"#46039f\"],[0.2222222222222222,\"#7201a8\"],[0.3333333333333333,\"#9c179e\"],[0.4444444444444444,\"#bd3786\"],[0.5555555555555556,\"#d8576b\"],[0.6666666666666666,\"#ed7953\"],[0.7777777777777778,\"#fb9f3a\"],[0.8888888888888888,\"#fdca26\"],[1.0,\"#f0f921\"]],\"sequentialminus\":[[0.0,\"#0d0887\"],[0.1111111111111111,\"#46039f\"],[0.2222222222222222,\"#7201a8\"],[0.3333333333333333,\"#9c179e\"],[0.4444444444444444,\"#bd3786\"],[0.5555555555555556,\"#d8576b\"],[0.6666666666666666,\"#ed7953\"],[0.7777777777777778,\"#fb9f3a\"],[0.8888888888888888,\"#fdca26\"],[1.0,\"#f0f921\"]]},\"colorway\":[\"#636efa\",\"#EF553B\",\"#00cc96\",\"#ab63fa\",\"#FFA15A\",\"#19d3f3\",\"#FF6692\",\"#B6E880\",\"#FF97FF\",\"#FECB52\"],\"font\":{\"color\":\"#2a3f5f\"},\"geo\":{\"bgcolor\":\"white\",\"lakecolor\":\"white\",\"landcolor\":\"#E5ECF6\",\"showlakes\":true,\"showland\":true,\"subunitcolor\":\"white\"},\"hoverlabel\":{\"align\":\"left\"},\"hovermode\":\"closest\",\"mapbox\":{\"style\":\"light\"},\"paper_bgcolor\":\"white\",\"plot_bgcolor\":\"#E5ECF6\",\"polar\":{\"angularaxis\":{\"gridcolor\":\"white\",\"linecolor\":\"white\",\"ticks\":\"\"},\"bgcolor\":\"#E5ECF6\",\"radialaxis\":{\"gridcolor\":\"white\",\"linecolor\":\"white\",\"ticks\":\"\"}},\"scene\":{\"xaxis\":{\"backgroundcolor\":\"#E5ECF6\",\"gridcolor\":\"white\",\"gridwidth\":2,\"linecolor\":\"white\",\"showbackground\":true,\"ticks\":\"\",\"zerolinecolor\":\"white\"},\"yaxis\":{\"backgroundcolor\":\"#E5ECF6\",\"gridcolor\":\"white\",\"gridwidth\":2,\"linecolor\":\"white\",\"showbackground\":true,\"ticks\":\"\",\"zerolinecolor\":\"white\"},\"zaxis\":{\"backgroundcolor\":\"#E5ECF6\",\"gridcolor\":\"white\",\"gridwidth\":2,\"linecolor\":\"white\",\"showbackground\":true,\"ticks\":\"\",\"zerolinecolor\":\"white\"}},\"shapedefaults\":{\"line\":{\"color\":\"#2a3f5f\"}},\"ternary\":{\"aaxis\":{\"gridcolor\":\"white\",\"linecolor\":\"white\",\"ticks\":\"\"},\"baxis\":{\"gridcolor\":\"white\",\"linecolor\":\"white\",\"ticks\":\"\"},\"bgcolor\":\"#E5ECF6\",\"caxis\":{\"gridcolor\":\"white\",\"linecolor\":\"white\",\"ticks\":\"\"}},\"title\":{\"x\":0.05},\"xaxis\":{\"automargin\":true,\"gridcolor\":\"white\",\"linecolor\":\"white\",\"ticks\":\"\",\"title\":{\"standoff\":15},\"zerolinecolor\":\"white\",\"zerolinewidth\":2},\"yaxis\":{\"automargin\":true,\"gridcolor\":\"white\",\"linecolor\":\"white\",\"ticks\":\"\",\"title\":{\"standoff\":15},\"zerolinecolor\":\"white\",\"zerolinewidth\":2}}},\"title\":{\"text\":\"Credit Card Transactions Time Density Plot\"},\"xaxis\":{\"anchor\":\"y2\",\"domain\":[0.0,1.0],\"title\":{\"text\":\"Time [s]\"},\"zeroline\":false},\"yaxis\":{\"anchor\":\"free\",\"domain\":[0.0,1],\"position\":0.0}},                        {\"responsive\": true}                    ).then(function(){\n",
       "                            \n",
       "var gd = document.getElementById('7b79a37f-ca64-407e-8125-47e6e75befa9');\n",
       "var x = new MutationObserver(function (mutations, observer) {{\n",
       "        var display = window.getComputedStyle(gd).display;\n",
       "        if (!display || display === 'none') {{\n",
       "            console.log([gd, 'removed!']);\n",
       "            Plotly.purge(gd);\n",
       "            observer.disconnect();\n",
       "        }}\n",
       "}});\n",
       "\n",
       "// Listen for the removal of the full notebook cells\n",
       "var notebookContainer = gd.closest('#notebook-container');\n",
       "if (notebookContainer) {{\n",
       "    x.observe(notebookContainer, {childList: true});\n",
       "}}\n",
       "\n",
       "// Listen for the clearing of the current output cell\n",
       "var outputEl = gd.closest('.output');\n",
       "if (outputEl) {{\n",
       "    x.observe(outputEl, {childList: true});\n",
       "}}\n",
       "\n",
       "                        })                };                });            </script>        </div>"
      ]
     },
     "metadata": {},
     "output_type": "display_data"
    }
   ],
   "source": [
    "# line plot\n",
    "\n",
    "class_0 = df.loc[df['Class'] == 0][\"Time\"]\n",
    "class_1 = df.loc[df['Class'] == 1][\"Time\"]\n",
    "\n",
    "hist_data = [class_0, class_1]\n",
    "group_labels = ['Not Fraud', 'Fraud']\n",
    "\n",
    "fig = ff.create_distplot(hist_data, group_labels, show_hist=False, show_rug=False)\n",
    "fig['layout'].update(title='Credit Card Transactions Time Density Plot', xaxis=dict(title='Time [s]'))\n",
    "iplot(fig, filename='dist_only')"
   ]
  },
  {
   "cell_type": "markdown",
   "id": "ba28b02a-65bf-47f3-bc30-efacef787ae7",
   "metadata": {},
   "source": [
    "#### Fraudulent transactions have a distribution more even than valid transactions - are equaly distributed in time, including the low real transaction times, during night in Europe timezone."
   ]
  },
  {
   "cell_type": "code",
   "execution_count": 10,
   "id": "acde1290-b9a5-476d-940f-8a218339d741",
   "metadata": {},
   "outputs": [
    {
     "data": {
      "text/html": [
       "<div>\n",
       "<style scoped>\n",
       "    .dataframe tbody tr th:only-of-type {\n",
       "        vertical-align: middle;\n",
       "    }\n",
       "\n",
       "    .dataframe tbody tr th {\n",
       "        vertical-align: top;\n",
       "    }\n",
       "\n",
       "    .dataframe thead th {\n",
       "        text-align: right;\n",
       "    }\n",
       "</style>\n",
       "<table border=\"1\" class=\"dataframe\">\n",
       "  <thead>\n",
       "    <tr style=\"text-align: right;\">\n",
       "      <th></th>\n",
       "      <th>Hour</th>\n",
       "      <th>Class</th>\n",
       "      <th>Min</th>\n",
       "      <th>Max</th>\n",
       "      <th>Transactions</th>\n",
       "      <th>Sum</th>\n",
       "      <th>Mean</th>\n",
       "      <th>Median</th>\n",
       "      <th>Var</th>\n",
       "    </tr>\n",
       "  </thead>\n",
       "  <tbody>\n",
       "    <tr>\n",
       "      <th>0</th>\n",
       "      <td>0.0</td>\n",
       "      <td>0</td>\n",
       "      <td>0.0</td>\n",
       "      <td>7712.43</td>\n",
       "      <td>3929</td>\n",
       "      <td>255825.95</td>\n",
       "      <td>65.112230</td>\n",
       "      <td>12.990</td>\n",
       "      <td>45961.838558</td>\n",
       "    </tr>\n",
       "    <tr>\n",
       "      <th>1</th>\n",
       "      <td>0.0</td>\n",
       "      <td>1</td>\n",
       "      <td>0.0</td>\n",
       "      <td>529.00</td>\n",
       "      <td>2</td>\n",
       "      <td>529.00</td>\n",
       "      <td>264.500000</td>\n",
       "      <td>264.500</td>\n",
       "      <td>139920.500000</td>\n",
       "    </tr>\n",
       "    <tr>\n",
       "      <th>2</th>\n",
       "      <td>1.0</td>\n",
       "      <td>0</td>\n",
       "      <td>0.0</td>\n",
       "      <td>1769.69</td>\n",
       "      <td>2211</td>\n",
       "      <td>145744.59</td>\n",
       "      <td>65.917951</td>\n",
       "      <td>23.000</td>\n",
       "      <td>20085.295527</td>\n",
       "    </tr>\n",
       "    <tr>\n",
       "      <th>3</th>\n",
       "      <td>1.0</td>\n",
       "      <td>1</td>\n",
       "      <td>59.0</td>\n",
       "      <td>239.93</td>\n",
       "      <td>2</td>\n",
       "      <td>298.93</td>\n",
       "      <td>149.465000</td>\n",
       "      <td>149.465</td>\n",
       "      <td>16367.832450</td>\n",
       "    </tr>\n",
       "    <tr>\n",
       "      <th>4</th>\n",
       "      <td>2.0</td>\n",
       "      <td>0</td>\n",
       "      <td>0.0</td>\n",
       "      <td>4002.88</td>\n",
       "      <td>1552</td>\n",
       "      <td>106983.39</td>\n",
       "      <td>68.932597</td>\n",
       "      <td>17.985</td>\n",
       "      <td>45434.509936</td>\n",
       "    </tr>\n",
       "  </tbody>\n",
       "</table>\n",
       "</div>"
      ],
      "text/plain": [
       "   Hour  Class   Min      Max  Transactions        Sum        Mean   Median  \\\n",
       "0   0.0      0   0.0  7712.43          3929  255825.95   65.112230   12.990   \n",
       "1   0.0      1   0.0   529.00             2     529.00  264.500000  264.500   \n",
       "2   1.0      0   0.0  1769.69          2211  145744.59   65.917951   23.000   \n",
       "3   1.0      1  59.0   239.93             2     298.93  149.465000  149.465   \n",
       "4   2.0      0   0.0  4002.88          1552  106983.39   68.932597   17.985   \n",
       "\n",
       "             Var  \n",
       "0   45961.838558  \n",
       "1  139920.500000  \n",
       "2   20085.295527  \n",
       "3   16367.832450  \n",
       "4   45434.509936  "
      ]
     },
     "execution_count": 10,
     "metadata": {},
     "output_type": "execute_result"
    }
   ],
   "source": [
    "# check more details to the time distribution of both classes transaction, as well as to aggregated values of transaction count and amount, per hour.\n",
    "\n",
    "df['Hour'] = df['Time'].apply(lambda x: np.floor(x / 3600))\n",
    "\n",
    "tmp = df.groupby(['Hour', 'Class'])['Amount'].aggregate(['min', 'max', 'count', 'sum', 'mean', 'median', 'var']).reset_index()\n",
    "df1 = pd.DataFrame(tmp)\n",
    "df1.columns = ['Hour', 'Class', 'Min', 'Max', 'Transactions', 'Sum', 'Mean', 'Median', 'Var']\n",
    "df1.head()"
   ]
  },
  {
   "cell_type": "code",
   "execution_count": 11,
   "id": "7ebcf26b-ce49-4ff8-be13-c56c21153602",
   "metadata": {},
   "outputs": [
    {
     "name": "stderr",
     "output_type": "stream",
     "text": [
      "C:\\Users\\apple\\anaconda3\\anzh\\Lib\\site-packages\\seaborn\\_oldcore.py:1119: FutureWarning:\n",
      "\n",
      "use_inf_as_na option is deprecated and will be removed in a future version. Convert inf values to NaN before operating instead.\n",
      "\n",
      "C:\\Users\\apple\\anaconda3\\anzh\\Lib\\site-packages\\seaborn\\_oldcore.py:1119: FutureWarning:\n",
      "\n",
      "use_inf_as_na option is deprecated and will be removed in a future version. Convert inf values to NaN before operating instead.\n",
      "\n",
      "C:\\Users\\apple\\anaconda3\\anzh\\Lib\\site-packages\\seaborn\\_oldcore.py:1119: FutureWarning:\n",
      "\n",
      "use_inf_as_na option is deprecated and will be removed in a future version. Convert inf values to NaN before operating instead.\n",
      "\n",
      "C:\\Users\\apple\\anaconda3\\anzh\\Lib\\site-packages\\seaborn\\_oldcore.py:1119: FutureWarning:\n",
      "\n",
      "use_inf_as_na option is deprecated and will be removed in a future version. Convert inf values to NaN before operating instead.\n",
      "\n"
     ]
    },
    {
     "data": {
      "image/png": "[encoded data removed]",
      "text/plain": [
       "<Figure size 1800x600 with 2 Axes>"
      ]
     },
     "metadata": {},
     "output_type": "display_data"
    }
   ],
   "source": [
    "# line plot\n",
    "\n",
    "fig, (ax1, ax2) = plt.subplots(ncols=2, figsize=(18,6))\n",
    "s = sns.lineplot(ax = ax1, x=\"Hour\", y=\"Sum\", data=df1.loc[df1.Class==0], color=\"green\")\n",
    "s = sns.lineplot(ax = ax2, x=\"Hour\", y=\"Sum\", data=df1.loc[df1.Class==1], color=\"red\")\n",
    "plt.suptitle(\"Total Amount\")\n",
    "plt.show()"
   ]
  },
  {
   "cell_type": "code",
   "execution_count": 12,
   "id": "0d1fb9d2-0f82-4b56-aaaa-18ec4d850cdf",
   "metadata": {},
   "outputs": [
    {
     "data": {
      "image/png": "[encoded data removed]",
      "text/plain": [
       "<Figure size 1200x400 with 2 Axes>"
      ]
     },
     "metadata": {},
     "output_type": "display_data"
    }
   ],
   "source": [
    "# hist plot\n",
    "\n",
    "f, (ax1, ax2) = plt.subplots(2, 1, sharex=True, figsize=(12,4))\n",
    "\n",
    "bins = 50\n",
    "\n",
    "ax1.hist(df.Time[df.Class == 1], bins = bins)\n",
    "ax1.set_title('Fraud')\n",
    "\n",
    "ax2.hist(df.Time[df.Class == 0], bins = bins)\n",
    "ax2.set_title('Not Fraud')\n",
    "\n",
    "plt.xlabel('Time (in Seconds)')\n",
    "plt.ylabel('Number of Transactions')\n",
    "plt.show()"
   ]
  },
  {
   "cell_type": "markdown",
   "id": "69c4e5ad-902c-4bb0-807e-fa01af9521f6",
   "metadata": {},
   "source": [
    "### Random Under Sampling\n",
    "#### In this phase of the project we will implement \"Random Under Sampling\" which basically consists of removing data in order to have a more balanced dataset and thus avoiding our models to overfitting."
   ]
  },
  {
   "cell_type": "code",
   "execution_count": 13,
   "id": "1c663e70-dc2f-4d2c-8583-24ec3fe92d09",
   "metadata": {},
   "outputs": [
    {
     "data": {
      "text/html": [
       "<div>\n",
       "<style scoped>\n",
       "    .dataframe tbody tr th:only-of-type {\n",
       "        vertical-align: middle;\n",
       "    }\n",
       "\n",
       "    .dataframe tbody tr th {\n",
       "        vertical-align: top;\n",
       "    }\n",
       "\n",
       "    .dataframe thead th {\n",
       "        text-align: right;\n",
       "    }\n",
       "</style>\n",
       "<table border=\"1\" class=\"dataframe\">\n",
       "  <thead>\n",
       "    <tr style=\"text-align: right;\">\n",
       "      <th></th>\n",
       "      <th>Time</th>\n",
       "      <th>V1</th>\n",
       "      <th>V2</th>\n",
       "      <th>V3</th>\n",
       "      <th>V4</th>\n",
       "      <th>V5</th>\n",
       "      <th>V6</th>\n",
       "      <th>V7</th>\n",
       "      <th>V8</th>\n",
       "      <th>V9</th>\n",
       "      <th>V10</th>\n",
       "      <th>V11</th>\n",
       "      <th>V12</th>\n",
       "      <th>V13</th>\n",
       "      <th>V14</th>\n",
       "      <th>V15</th>\n",
       "      <th>V16</th>\n",
       "      <th>V17</th>\n",
       "      <th>V18</th>\n",
       "      <th>V19</th>\n",
       "      <th>V20</th>\n",
       "      <th>V21</th>\n",
       "      <th>V22</th>\n",
       "      <th>V23</th>\n",
       "      <th>V24</th>\n",
       "      <th>V25</th>\n",
       "      <th>V26</th>\n",
       "      <th>V27</th>\n",
       "      <th>V28</th>\n",
       "      <th>Amount</th>\n",
       "      <th>Class</th>\n",
       "      <th>Hour</th>\n",
       "    </tr>\n",
       "  </thead>\n",
       "  <tbody>\n",
       "    <tr>\n",
       "      <th>13244</th>\n",
       "      <td>23298.0</td>\n",
       "      <td>1.189307</td>\n",
       "      <td>0.577716</td>\n",
       "      <td>0.838174</td>\n",
       "      <td>2.824436</td>\n",
       "      <td>0.064283</td>\n",
       "      <td>0.210563</td>\n",
       "      <td>-0.073087</td>\n",
       "      <td>-0.130154</td>\n",
       "      <td>0.938514</td>\n",
       "      <td>0.111661</td>\n",
       "      <td>-0.306044</td>\n",
       "      <td>-1.850856</td>\n",
       "      <td>2.826686</td>\n",
       "      <td>0.975894</td>\n",
       "      <td>-1.731952</td>\n",
       "      <td>0.154063</td>\n",
       "      <td>0.334195</td>\n",
       "      <td>-0.234720</td>\n",
       "      <td>-0.641371</td>\n",
       "      <td>-0.119091</td>\n",
       "      <td>-0.246985</td>\n",
       "      <td>-0.216829</td>\n",
       "      <td>-0.147177</td>\n",
       "      <td>-0.128807</td>\n",
       "      <td>0.708367</td>\n",
       "      <td>0.065750</td>\n",
       "      <td>-0.011408</td>\n",
       "      <td>0.012033</td>\n",
       "      <td>7.81</td>\n",
       "      <td>0</td>\n",
       "      <td>6.0</td>\n",
       "    </tr>\n",
       "    <tr>\n",
       "      <th>59539</th>\n",
       "      <td>48884.0</td>\n",
       "      <td>-2.139051</td>\n",
       "      <td>1.394368</td>\n",
       "      <td>-0.612035</td>\n",
       "      <td>1.049327</td>\n",
       "      <td>-1.162102</td>\n",
       "      <td>-0.768219</td>\n",
       "      <td>-1.997237</td>\n",
       "      <td>0.574997</td>\n",
       "      <td>-0.980832</td>\n",
       "      <td>-2.495619</td>\n",
       "      <td>2.555589</td>\n",
       "      <td>-3.530436</td>\n",
       "      <td>-1.016234</td>\n",
       "      <td>-3.455197</td>\n",
       "      <td>-0.056363</td>\n",
       "      <td>-2.467737</td>\n",
       "      <td>-7.140326</td>\n",
       "      <td>-1.271280</td>\n",
       "      <td>-0.001722</td>\n",
       "      <td>0.025427</td>\n",
       "      <td>0.696955</td>\n",
       "      <td>0.740003</td>\n",
       "      <td>-0.155115</td>\n",
       "      <td>-0.050607</td>\n",
       "      <td>0.268368</td>\n",
       "      <td>-0.469433</td>\n",
       "      <td>-0.405814</td>\n",
       "      <td>-0.152171</td>\n",
       "      <td>19.73</td>\n",
       "      <td>1</td>\n",
       "      <td>13.0</td>\n",
       "    </tr>\n",
       "    <tr>\n",
       "      <th>10498</th>\n",
       "      <td>17230.0</td>\n",
       "      <td>-0.469327</td>\n",
       "      <td>1.111453</td>\n",
       "      <td>2.041003</td>\n",
       "      <td>1.731595</td>\n",
       "      <td>0.135147</td>\n",
       "      <td>-0.093625</td>\n",
       "      <td>0.266155</td>\n",
       "      <td>0.082988</td>\n",
       "      <td>0.580255</td>\n",
       "      <td>-0.164563</td>\n",
       "      <td>0.500376</td>\n",
       "      <td>-3.021760</td>\n",
       "      <td>0.924213</td>\n",
       "      <td>1.500794</td>\n",
       "      <td>-0.400283</td>\n",
       "      <td>0.706048</td>\n",
       "      <td>0.115114</td>\n",
       "      <td>-0.046796</td>\n",
       "      <td>-2.548522</td>\n",
       "      <td>-0.358709</td>\n",
       "      <td>0.159387</td>\n",
       "      <td>0.592670</td>\n",
       "      <td>-0.053596</td>\n",
       "      <td>0.320748</td>\n",
       "      <td>-0.369121</td>\n",
       "      <td>-0.136605</td>\n",
       "      <td>-0.100845</td>\n",
       "      <td>0.039347</td>\n",
       "      <td>3.93</td>\n",
       "      <td>1</td>\n",
       "      <td>4.0</td>\n",
       "    </tr>\n",
       "    <tr>\n",
       "      <th>192584</th>\n",
       "      <td>129764.0</td>\n",
       "      <td>-2.434004</td>\n",
       "      <td>3.225947</td>\n",
       "      <td>-6.596282</td>\n",
       "      <td>3.593161</td>\n",
       "      <td>-1.079452</td>\n",
       "      <td>-1.739741</td>\n",
       "      <td>-0.047420</td>\n",
       "      <td>0.301424</td>\n",
       "      <td>-1.779434</td>\n",
       "      <td>-5.836453</td>\n",
       "      <td>3.249431</td>\n",
       "      <td>-5.961488</td>\n",
       "      <td>-1.155176</td>\n",
       "      <td>-11.002289</td>\n",
       "      <td>0.588286</td>\n",
       "      <td>-2.365801</td>\n",
       "      <td>-1.351900</td>\n",
       "      <td>0.189498</td>\n",
       "      <td>0.524008</td>\n",
       "      <td>-0.280533</td>\n",
       "      <td>-0.035491</td>\n",
       "      <td>-0.419178</td>\n",
       "      <td>0.157436</td>\n",
       "      <td>-0.714849</td>\n",
       "      <td>0.468859</td>\n",
       "      <td>-0.348522</td>\n",
       "      <td>0.420036</td>\n",
       "      <td>-0.327643</td>\n",
       "      <td>362.55</td>\n",
       "      <td>1</td>\n",
       "      <td>36.0</td>\n",
       "    </tr>\n",
       "    <tr>\n",
       "      <th>82400</th>\n",
       "      <td>59385.0</td>\n",
       "      <td>-7.626924</td>\n",
       "      <td>-6.976420</td>\n",
       "      <td>-2.077911</td>\n",
       "      <td>3.416754</td>\n",
       "      <td>4.458758</td>\n",
       "      <td>-5.080408</td>\n",
       "      <td>-6.578948</td>\n",
       "      <td>1.760341</td>\n",
       "      <td>-0.599509</td>\n",
       "      <td>-4.001742</td>\n",
       "      <td>2.611762</td>\n",
       "      <td>-2.210691</td>\n",
       "      <td>0.145323</td>\n",
       "      <td>-5.281678</td>\n",
       "      <td>-1.446227</td>\n",
       "      <td>-2.342178</td>\n",
       "      <td>-4.442082</td>\n",
       "      <td>-0.812202</td>\n",
       "      <td>0.254772</td>\n",
       "      <td>2.875260</td>\n",
       "      <td>1.224795</td>\n",
       "      <td>-0.656639</td>\n",
       "      <td>-0.330811</td>\n",
       "      <td>-0.078946</td>\n",
       "      <td>0.270306</td>\n",
       "      <td>0.431119</td>\n",
       "      <td>0.821381</td>\n",
       "      <td>-1.056088</td>\n",
       "      <td>18.98</td>\n",
       "      <td>1</td>\n",
       "      <td>16.0</td>\n",
       "    </tr>\n",
       "  </tbody>\n",
       "</table>\n",
       "</div>"
      ],
      "text/plain": [
       "            Time        V1        V2        V3        V4        V5        V6  \\\n",
       "13244    23298.0  1.189307  0.577716  0.838174  2.824436  0.064283  0.210563   \n",
       "59539    48884.0 -2.139051  1.394368 -0.612035  1.049327 -1.162102 -0.768219   \n",
       "10498    17230.0 -0.469327  1.111453  2.041003  1.731595  0.135147 -0.093625   \n",
       "192584  129764.0 -2.434004  3.225947 -6.596282  3.593161 -1.079452 -1.739741   \n",
       "82400    59385.0 -7.626924 -6.976420 -2.077911  3.416754  4.458758 -5.080408   \n",
       "\n",
       "              V7        V8        V9       V10       V11       V12       V13  \\\n",
       "13244  -0.073087 -0.130154  0.938514  0.111661 -0.306044 -1.850856  2.826686   \n",
       "59539  -1.997237  0.574997 -0.980832 -2.495619  2.555589 -3.530436 -1.016234   \n",
       "10498   0.266155  0.082988  0.580255 -0.164563  0.500376 -3.021760  0.924213   \n",
       "192584 -0.047420  0.301424 -1.779434 -5.836453  3.249431 -5.961488 -1.155176   \n",
       "82400  -6.578948  1.760341 -0.599509 -4.001742  2.611762 -2.210691  0.145323   \n",
       "\n",
       "              V14       V15       V16       V17       V18       V19       V20  \\\n",
       "13244    0.975894 -1.731952  0.154063  0.334195 -0.234720 -0.641371 -0.119091   \n",
       "59539   -3.455197 -0.056363 -2.467737 -7.140326 -1.271280 -0.001722  0.025427   \n",
       "10498    1.500794 -0.400283  0.706048  0.115114 -0.046796 -2.548522 -0.358709   \n",
       "192584 -11.002289  0.588286 -2.365801 -1.351900  0.189498  0.524008 -0.280533   \n",
       "82400   -5.281678 -1.446227 -2.342178 -4.442082 -0.812202  0.254772  2.875260   \n",
       "\n",
       "             V21       V22       V23       V24       V25       V26       V27  \\\n",
       "13244  -0.246985 -0.216829 -0.147177 -0.128807  0.708367  0.065750 -0.011408   \n",
       "59539   0.696955  0.740003 -0.155115 -0.050607  0.268368 -0.469433 -0.405814   \n",
       "10498   0.159387  0.592670 -0.053596  0.320748 -0.369121 -0.136605 -0.100845   \n",
       "192584 -0.035491 -0.419178  0.157436 -0.714849  0.468859 -0.348522  0.420036   \n",
       "82400   1.224795 -0.656639 -0.330811 -0.078946  0.270306  0.431119  0.821381   \n",
       "\n",
       "             V28  Amount  Class  Hour  \n",
       "13244   0.012033    7.81      0   6.0  \n",
       "59539  -0.152171   19.73      1  13.0  \n",
       "10498   0.039347    3.93      1   4.0  \n",
       "192584 -0.327643  362.55      1  36.0  \n",
       "82400  -1.056088   18.98      1  16.0  "
      ]
     },
     "execution_count": 13,
     "metadata": {},
     "output_type": "execute_result"
    }
   ],
   "source": [
    "df = df.sample(frac=1)\n",
    "\n",
    "# amount of fraud classes 492 rows.\n",
    "fraud_df = df.loc[df['Class'] == 1]\n",
    "non_fraud_df = df.loc[df['Class'] == 0][:492]\n",
    "\n",
    "normal_distributed_df = pd.concat([fraud_df, non_fraud_df])\n",
    "\n",
    "# Shuffle dataframe rows\n",
    "new_df = normal_distributed_df.sample(frac=1, random_state=42)\n",
    "\n",
    "new_df.head()"
   ]
  },
  {
   "cell_type": "code",
   "execution_count": 14,
   "id": "e6b2f8aa-f6fd-4756-96eb-2e6dce007afb",
   "metadata": {},
   "outputs": [
    {
     "data": {
      "image/png": "[encoded data removed]",
      "text/plain": [
       "<Figure size 640x480 with 1 Axes>"
      ]
     },
     "metadata": {},
     "output_type": "display_data"
    }
   ],
   "source": [
    "new_df['Class'].value_counts()/len(new_df)\n",
    "\n",
    "sns.countplot(x='Class', data=new_df, palette='hsv')\n",
    "plt.title('Equally Distributed Classes', fontsize=14)\n",
    "plt.show()"
   ]
  },
  {
   "cell_type": "markdown",
   "id": "d3114ea9-58be-4888-92bf-b4ab53d68b71",
   "metadata": {},
   "source": [
    "### Correlation Matrices\r",
    "#### \n",
    "Correlation matrices are the essence of understanding our data. We want to know if there are features that influence heavily in whether a specific transaction is a fraud. "
   ]
  },
  {
   "cell_type": "code",
   "execution_count": 15,
   "id": "f5d41627-4560-48fb-a9f9-42e98ca8e688",
   "metadata": {},
   "outputs": [],
   "source": [
    "X = df.drop('Class', axis=1)\n",
    "y = df['Class']\n",
    "# This is explicitly used for undersampling.\n",
    "X_train, X_test, y_train, y_test = train_test_split(X, y, test_size=0.2, random_state=42)"
   ]
  },
  {
   "cell_type": "code",
   "execution_count": 16,
   "id": "f9a739d0-a592-4756-85d7-2c75fe038ac7",
   "metadata": {},
   "outputs": [
    {
     "name": "stdout",
     "output_type": "stream",
     "text": [
      "Classification Report: \n",
      "              precision    recall  f1-score   support\n",
      "\n",
      "           0       1.00      1.00      1.00     56662\n",
      "           1       0.69      0.64      0.67        84\n",
      "\n",
      "    accuracy                           1.00     56746\n",
      "   macro avg       0.85      0.82      0.83     56746\n",
      "weighted avg       1.00      1.00      1.00     56746\n",
      "\n",
      "\n",
      "Accuracy Score:  0.999048391076023\n"
     ]
    },
    {
     "name": "stderr",
     "output_type": "stream",
     "text": [
      "C:\\Users\\apple\\anaconda3\\anzh\\Lib\\site-packages\\sklearn\\linear_model\\_logistic.py:458: ConvergenceWarning:\n",
      "\n",
      "lbfgs failed to converge (status=1):\n",
      "STOP: TOTAL NO. of ITERATIONS REACHED LIMIT.\n",
      "\n",
      "Increase the number of iterations (max_iter) or scale the data as shown in:\n",
      "    https://scikit-learn.org/stable/modules/preprocessing.html\n",
      "Please also refer to the documentation for alternative solver options:\n",
      "    https://scikit-learn.org/stable/modules/linear_model.html#logistic-regression\n",
      "\n"
     ]
    }
   ],
   "source": [
    "clf1 = LogisticRegression(solver=\"lbfgs\").fit(X_train, y_train)\n",
    "pred_y = clf1.predict(X_test)\n",
    "print (\"Classification Report: \")\n",
    "print (classification_report(y_test, pred_y))\n",
    "print (\"\")\n",
    "print (\"Accuracy Score: \", accuracy_score(y_test, pred_y))"
   ]
  },
  {
   "cell_type": "code",
   "execution_count": 17,
   "id": "344bf6de-a296-440c-8fcf-b4bb1dae919d",
   "metadata": {},
   "outputs": [
    {
     "name": "stdout",
     "output_type": "stream",
     "text": [
      "Classification Report: \n",
      "              precision    recall  f1-score   support\n",
      "\n",
      "           0       1.00      1.00      1.00     56662\n",
      "           1       0.89      0.75      0.81        84\n",
      "\n",
      "    accuracy                           1.00     56746\n",
      "   macro avg       0.94      0.87      0.91     56746\n",
      "weighted avg       1.00      1.00      1.00     56746\n",
      "\n",
      "\n",
      "Accuracy Score:  0.9994889507630493\n"
     ]
    }
   ],
   "source": [
    "clf2 = RandomForestClassifier(verbose=False).fit(X_train, y_train)\n",
    "pred_y = clf2.predict(X_test)\n",
    "print (\"Classification Report: \")\n",
    "print (classification_report(y_test, pred_y))\n",
    "print (\"\")\n",
    "print (\"Accuracy Score: \", accuracy_score(y_test, pred_y))"
   ]
  },
  {
   "cell_type": "code",
   "execution_count": 18,
   "id": "39c10061-c767-4f09-8161-c06f86c867f7",
   "metadata": {},
   "outputs": [
    {
     "name": "stdout",
     "output_type": "stream",
     "text": [
      "Classification Report: \n",
      "              precision    recall  f1-score   support\n",
      "\n",
      "           0       1.00      1.00      1.00     56662\n",
      "           1       0.79      0.79      0.79        84\n",
      "\n",
      "    accuracy                           1.00     56746\n",
      "   macro avg       0.89      0.89      0.89     56746\n",
      "weighted avg       1.00      1.00      1.00     56746\n",
      "\n",
      "\n",
      "Accuracy Score:  0.999365594050682\n"
     ]
    }
   ],
   "source": [
    "clf3 = DecisionTreeClassifier(criterion='entropy',max_depth=3).fit(X_train, y_train)\n",
    "pred_y = clf3.predict(X_test)\n",
    "print (\"Classification Report: \")\n",
    "print (classification_report(y_test, pred_y))\n",
    "print (\"\")\n",
    "print (\"Accuracy Score: \", accuracy_score(y_test, pred_y))"
   ]
  },
  {
   "cell_type": "markdown",
   "id": "6ffa3788-ff2c-4c46-bc1b-6ea79e7602d0",
   "metadata": {},
   "source": [
    "#### All the accuracy score is more then 99%, the high accuracy is trivial on an imbalanced classification problem. So accuracy never helps in imbalanced dataset. We use recall as metric for imbalanced datasets. The dicision tree model is better."
   ]
  },
  {
   "cell_type": "markdown",
   "id": "50e48378-48fa-4cae-a78b-31e01d6f61e6",
   "metadata": {},
   "source": [
    "####  To solving class imbalance problem before starting classification, we can use random resampling methods. There are two main approaches to random resampling for imbalanced classification; they are oversampling and undersampling. Oversampling methods duplicate or create new synthetic examples in the minority class, whereas undersampling methods delete or merge examples in the majority class. Oversampling is the most often used approach (but not necessarily the best)."
   ]
  },
  {
   "cell_type": "markdown",
   "id": "3b84ff0c-8548-4e6e-ab13-1d5af844504e",
   "metadata": {},
   "source": [
    "### Random oversampling\n",
    "#### The random oversampling may increase the likelihood of occurring overfitting, since it makes exact copies of the minority class examples. "
   ]
  },
  {
   "cell_type": "code",
   "execution_count": 20,
   "id": "f736bee1-a386-44c3-9479-45f7268dc267",
   "metadata": {},
   "outputs": [
    {
     "name": "stdout",
     "output_type": "stream",
     "text": [
      "Not Fraud: 226591 / 50.0 % of the dataset\n",
      "Frauds: 226591 / 50.0 % of the dataset\n"
     ]
    }
   ],
   "source": [
    "from imblearn.over_sampling import RandomOverSampler\n",
    "# define oversampling strategy\n",
    "ros = RandomOverSampler(random_state=42)\n",
    "# fit and apply the transform\n",
    "X_over, y_over = ros.fit_resample(X_train, y_train)\n",
    "print('Not Fraud:', y_over.value_counts()[0], '/', round(y_over.value_counts()[0]/len(y_over) * 100,2), '% of the dataset')\n",
    "print('Frauds:', y_over.value_counts()[1], '/',round(y_over.value_counts()[1]/len(y_over) * 100,2), '% of the dataset')"
   ]
  },
  {
   "cell_type": "markdown",
   "id": "6768c922-2887-4a5f-a2b5-cd7b5db1c473",
   "metadata": {},
   "source": [
    "### Random undersampling"
   ]
  },
  {
   "cell_type": "code",
   "execution_count": 21,
   "id": "11410970-35e1-441e-9429-69d8f3cf1409",
   "metadata": {},
   "outputs": [
    {
     "name": "stdout",
     "output_type": "stream",
     "text": [
      "Not Fraud: 389 / 50.0 % of the dataset\n",
      "Frauds: 389 / 50.0 % of the dataset\n"
     ]
    }
   ],
   "source": [
    "from imblearn.under_sampling import RandomUnderSampler\n",
    "# define oversampling strategy\n",
    "rus = RandomUnderSampler(random_state=42)\n",
    "# fit and apply the transform\n",
    "X_under, y_under = rus.fit_resample(X_train, y_train)\n",
    "print('Not Fraud:', y_under.value_counts()[0], '/', round(y_under.value_counts()[0]/len(y_under) * 100,2), '% of the dataset')\n",
    "print('Frauds:', y_under.value_counts()[1], '/',round(y_under.value_counts()[1]/len(y_under) * 100,2), '% of the dataset')"
   ]
  },
  {
   "cell_type": "markdown",
   "id": "7d03663c-c4e8-4454-8e80-9382fa37850e",
   "metadata": {},
   "source": [
    "#### With our dataset after undersampling we have only 389 record so it's not the best idea to take advantage of that technique."
   ]
  },
  {
   "cell_type": "code",
   "execution_count": null,
   "id": "ebae6217-ae76-448f-a397-86a1e8773034",
   "metadata": {},
   "outputs": [],
   "source": []
  }
 ],
 "metadata": {
  "kernelspec": {
   "display_name": "Python 3 (ipykernel)",
   "language": "python",
   "name": "python3"
  },
  "language_info": {
   "codemirror_mode": {
    "name": "ipython",
    "version": 3
   },
   "file_extension": ".py",
   "mimetype": "text/x-python",
   "name": "python",
   "nbconvert_exporter": "python",
   "pygments_lexer": "ipython3",
   "version": "3.11.7"
  }
 },
 "nbformat": 4,
 "nbformat_minor": 5
}
